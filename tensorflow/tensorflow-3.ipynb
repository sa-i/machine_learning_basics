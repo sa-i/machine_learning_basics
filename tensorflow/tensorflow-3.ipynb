{
 "cells": [
  {
   "cell_type": "code",
   "execution_count": 1,
   "metadata": {
    "collapsed": true
   },
   "outputs": [],
   "source": [
    "import tensorflow as tf\n",
    "import numpy as np"
   ]
  },
  {
   "cell_type": "code",
   "execution_count": 2,
   "metadata": {},
   "outputs": [
    {
     "name": "stdout",
     "output_type": "stream",
     "text": [
      "5\n"
     ]
    }
   ],
   "source": [
    "# normal method\n",
    "a = tf.constant(2,name='a')\n",
    "b = tf.constant(3,name='b')\n",
    "\n",
    "x = tf.add(a,b)\n",
    "\n",
    "with tf.Session() as sess:\n",
    "    print(sess.run(x))"
   ]
  },
  {
   "cell_type": "code",
   "execution_count": 3,
   "metadata": {},
   "outputs": [
    {
     "name": "stdout",
     "output_type": "stream",
     "text": [
      "5\n"
     ]
    }
   ],
   "source": [
    "# using tensor board\n",
    "\n",
    "a = tf.constant(2,name='a1')\n",
    "b = tf.constant(3,name='b1')\n",
    "\n",
    "x = tf.add(a,b,name='add')\n",
    "\n",
    "with tf.Session() as sess:\n",
    "    writer = tf.summary.FileWriter('./graphs',sess.graph)\n",
    "    print(sess.run(x))\n",
    "\n",
    "writer.close()"
   ]
  },
  {
   "cell_type": "code",
   "execution_count": 4,
   "metadata": {},
   "outputs": [
    {
     "data": {
      "text/plain": [
       "array([2, 2])"
      ]
     },
     "metadata": {},
     "output_type": "display_data"
    },
    {
     "data": {
      "text/plain": [
       "array([[1, 2],\n",
       "       [3, 4]])"
      ]
     },
     "metadata": {},
     "output_type": "display_data"
    }
   ],
   "source": [
    "# Constant types\n",
    "\n",
    "a = tf.constant([2,2],name='vector')\n",
    "b = tf.constant([[1,2],[3,4]],name='matrix')\n",
    "\n",
    "with tf.Session() as sess:\n",
    "    display(sess.run(a))\n",
    "    display(sess.run(b))"
   ]
  },
  {
   "cell_type": "code",
   "execution_count": 5,
   "metadata": {},
   "outputs": [
    {
     "data": {
      "text/plain": [
       "<tf.Tensor 'ones_2:0' shape=(3, 4) dtype=uint8>"
      ]
     },
     "execution_count": 5,
     "metadata": {},
     "output_type": "execute_result"
    }
   ],
   "source": [
    "# tensors whoes elements are specific\n",
    "\n",
    "tf.zeros([2,3],tf.float32)\n",
    "input_tensor = tf.ones([5,2])\n",
    "\n",
    "tf.zeros_like(input_tensor)\n",
    "\n",
    "tf.ones([2,3],tf.int32)\n",
    "tf.ones_like(input_tensor)\n",
    "\n",
    "# fill a tensor with a similar value\n",
    "tf.ones([3,4],4)"
   ]
  },
  {
   "cell_type": "code",
   "execution_count": 6,
   "metadata": {},
   "outputs": [
    {
     "data": {
      "text/plain": [
       "<tf.Tensor 'range_2:0' shape=(20,) dtype=int32>"
      ]
     },
     "execution_count": 6,
     "metadata": {},
     "output_type": "execute_result"
    }
   ],
   "source": [
    "# create constants that are sqeuences\n",
    "\n",
    "tf.linspace(10.0,15.0,10,name='linspace')\n",
    "\n",
    "start = 3\n",
    "limit = 20\n",
    "delta = 2\n",
    "\n",
    "tf.range(start,limit,delta)\n",
    "\n",
    "tf.range(10,1,-0.5)\n",
    "\n",
    "tf.range(limit)"
   ]
  },
  {
   "cell_type": "code",
   "execution_count": 7,
   "metadata": {
    "collapsed": true
   },
   "outputs": [],
   "source": [
    "#tf.random_normal(shape, mean=0.0, stddev=1.0, dtype=tf.float32, seed=None, name=None)\n",
    "#tf.truncated_normal(shape, mean=0.0, stddev=1.0, dtype=tf.float32, seed=None,\n",
    "#name=None)\n",
    "#tf.random_uniform(shape, minval=0, maxval=None, dtype=tf.float32, seed=None,\n",
    "#name=None)\n",
    "#tf.random_shuffle(value, seed=None, name=None)\n",
    "#tf.random_crop(value, size, seed=None, name=None)\n",
    "#tf.multinomial(logits, num_samples, seed=None, name=None)\n",
    "#tf.random_gamma(shape, alpha, beta=None, dtype=tf.float32, seed=None, name=None)"
   ]
  },
  {
   "cell_type": "code",
   "execution_count": 8,
   "metadata": {},
   "outputs": [
    {
     "data": {
      "text/plain": [
       "<tf.Tensor 'FloorMod:0' shape=(2,) dtype=int32>"
      ]
     },
     "execution_count": 8,
     "metadata": {},
     "output_type": "execute_result"
    }
   ],
   "source": [
    "# math operations\n",
    "a = tf.constant([3,2])\n",
    "b = tf.constant([2,2])\n",
    "tf.add(a,b)\n",
    "tf.add_n([a,b,b])   # a + b + b\n",
    "tf.multiply(a,b)    # element wise\n",
    "#tf.matmul(a,b)      # error\n",
    "tf.matmul(tf.reshape(a,shape=[1,2]),tf.reshape(b,shape=[2,1]))\n",
    "tf.div(a,b)\n",
    "tf.mod(a,b)"
   ]
  },
  {
   "cell_type": "code",
   "execution_count": 9,
   "metadata": {},
   "outputs": [
    {
     "data": {
      "text/plain": [
       "<tf.Tensor 'ones_like_2:0' shape=(3, 3) dtype=bool>"
      ]
     },
     "execution_count": 9,
     "metadata": {},
     "output_type": "execute_result"
    }
   ],
   "source": [
    "# data types\n",
    "\n",
    "t_0 = 20           # treated as 0 d array\n",
    "tf.zeros_like(t_0) # ===> 0\n",
    "tf.ones_like(t_0)  # ===> 1\n",
    "\n",
    "t_1 = [\"apple\",\"banana\",\"orange\"]          # ==> treated as 1-D array\n",
    "tf.zeros_like(t_1)                         # ==> ['','','']\n",
    "#tf.ones_like(t_1)                         # ==> error   \n",
    "\n",
    "t_2 = [[ True , False , False ],\n",
    "       [ False , False , True ],\n",
    "       [ False , True , False ]]\n",
    "tf.zeros_like(t_2)\n",
    "tf.ones_like(t_2)"
   ]
  },
  {
   "cell_type": "code",
   "execution_count": 10,
   "metadata": {},
   "outputs": [
    {
     "data": {
      "text/plain": [
       "<tf.Tensor 'ones_3:0' shape=(2, 2) dtype=float32>"
      ]
     },
     "execution_count": 10,
     "metadata": {},
     "output_type": "execute_result"
    }
   ],
   "source": [
    "# numpy data types\n",
    "\n",
    "tf.ones([2,2],np.float32)"
   ]
  },
  {
   "cell_type": "code",
   "execution_count": 12,
   "metadata": {},
   "outputs": [
    {
     "name": "stdout",
     "output_type": "stream",
     "text": [
      "matmul(numpy) =  [[ 360.]]\n",
      "matmul(tesorflow) =  [[ 360.]]\n"
     ]
    }
   ],
   "source": [
    "# building the graphs \n",
    "##   10 (2 6) ( 3 )  =  360\n",
    "##            ( 5 )\n",
    "#numpy\n",
    "m1 = np.array([[2.,6.]])\n",
    "m2 = np.array([[3.],[5.]])\n",
    "\n",
    "prod = 10 * np.dot(m1,m2)\n",
    "print('matmul(numpy) = ',prod)\n",
    "\n",
    "# tensorflow\n",
    "# build the graph\n",
    "tm1 = tf.constant([[2.,6.]],name='tm1')\n",
    "tm2 = tf.constant([[3.],[5.]],name='tm2')\n",
    "product = 10 * tf.matmul(tm1,tm2,name='product')\n",
    "\n",
    "# execute the graph\n",
    "with tf.Session() as sess:\n",
    "    print('matmul(tesorflow) = ',sess.run(product))"
   ]
  },
  {
   "cell_type": "code",
   "execution_count": null,
   "metadata": {
    "collapsed": true
   },
   "outputs": [],
   "source": []
  }
 ],
 "metadata": {
  "kernelspec": {
   "display_name": "Python 3",
   "language": "python",
   "name": "python3"
  },
  "language_info": {
   "codemirror_mode": {
    "name": "ipython",
    "version": 3
   },
   "file_extension": ".py",
   "mimetype": "text/x-python",
   "name": "python",
   "nbconvert_exporter": "python",
   "pygments_lexer": "ipython3",
   "version": "3.5.3rc1"
  }
 },
 "nbformat": 4,
 "nbformat_minor": 2
}
