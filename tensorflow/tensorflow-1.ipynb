{
 "cells": [
  {
   "cell_type": "code",
   "execution_count": 1,
   "metadata": {
    "collapsed": true
   },
   "outputs": [],
   "source": [
    "import tensorflow as tf\n",
    "import numpy as np\n",
    "import time"
   ]
  },
  {
   "cell_type": "code",
   "execution_count": 4,
   "metadata": {},
   "outputs": [
    {
     "name": "stdout",
     "output_type": "stream",
     "text": [
      "[[ 2495.69628906  2467.09912109  2461.68896484 ...,  2518.82763672\n",
      "   2497.37548828  2472.92749023]\n",
      " [ 2523.43798828  2485.10400391  2513.59619141 ...,  2546.02978516\n",
      "   2520.89868164  2509.25708008]\n",
      " [ 2525.08300781  2505.72900391  2507.64697266 ...,  2550.3581543\n",
      "   2530.1953125   2516.15429688]\n",
      " ..., \n",
      " [ 2496.22753906  2480.43334961  2479.92773438 ...,  2510.92651367\n",
      "   2498.15722656  2476.62207031]\n",
      " [ 2532.61132812  2499.43188477  2518.06762695 ...,  2542.71362305\n",
      "   2518.36499023  2497.06079102]\n",
      " [ 2507.05175781  2478.77172852  2486.29077148 ...,  2511.47558594\n",
      "   2496.63623047  2485.1953125 ]]\n",
      "\n",
      "time taken =  76222.0242023468  ms\n"
     ]
    }
   ],
   "source": [
    "# placeholders\n",
    "start_t = time.time()\n",
    "with tf.device('/cpu:0'):\n",
    "    x = tf.placeholder(tf.float32,shape=(10024,10024))\n",
    "y = tf.matmul(x,x)\n",
    "rand_array = np.random.rand(10024,10024)\n",
    "\n",
    "with tf.Session() as session:\n",
    "    #rand_array = np.random.rand(1024,1024)\n",
    "    print(session.run(y,feed_dict={x: rand_array}))\n",
    "end_t = time.time()\n",
    "print('\\ntime taken = ',(end_t-start_t)*1000,' ms')"
   ]
  },
  {
   "cell_type": "code",
   "execution_count": 3,
   "metadata": {},
   "outputs": [
    {
     "ename": "SyntaxError",
     "evalue": "unexpected EOF while parsing (<ipython-input-3-3ac4ce7396f9>, line 9)",
     "output_type": "error",
     "traceback": [
      "\u001b[1;36m  File \u001b[1;32m\"<ipython-input-3-3ac4ce7396f9>\"\u001b[1;36m, line \u001b[1;32m9\u001b[0m\n\u001b[1;33m    \u001b[0m\n\u001b[1;37m    ^\u001b[0m\n\u001b[1;31mSyntaxError\u001b[0m\u001b[1;31m:\u001b[0m unexpected EOF while parsing\n"
     ]
    }
   ],
   "source": [
    "# placeholders\n",
    "x2 = tf.placeholder(tf.float32,shape=(1024,1024))\n",
    "y2 = tf.matmul(x2,x2)\n",
    "rand_array2 = np.random.rand(1024,1024)\n",
    "\n",
    "with tf.Session() as session:\n",
    "    #rand_array = np.random.rand(1024,1024)\n",
    "    z =(session.run(y2,feed_dict={x2: rand_array2})\n",
    "        "
   ]
  },
  {
   "cell_type": "code",
   "execution_count": null,
   "metadata": {
    "collapsed": true
   },
   "outputs": [],
   "source": []
  }
 ],
 "metadata": {
  "kernelspec": {
   "display_name": "Python 3",
   "language": "python",
   "name": "python3"
  },
  "language_info": {
   "codemirror_mode": {
    "name": "ipython",
    "version": 3
   },
   "file_extension": ".py",
   "mimetype": "text/x-python",
   "name": "python",
   "nbconvert_exporter": "python",
   "pygments_lexer": "ipython3",
   "version": "3.5.3"
  }
 },
 "nbformat": 4,
 "nbformat_minor": 2
}
