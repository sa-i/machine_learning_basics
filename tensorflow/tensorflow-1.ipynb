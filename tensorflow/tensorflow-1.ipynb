{
 "cells": [
  {
   "cell_type": "code",
   "execution_count": 1,
   "metadata": {
    "collapsed": true
   },
   "outputs": [],
   "source": [
    "import tensorflow as tf\n",
    "import numpy as np\n",
    "import time"
   ]
  },
  {
   "cell_type": "code",
   "execution_count": 2,
   "metadata": {},
   "outputs": [
    {
     "name": "stdout",
     "output_type": "stream",
     "text": [
      "[[ 256.26263428  250.16459656  251.8004303  ...,  242.88000488\n",
      "   246.24009705  253.70085144]\n",
      " [ 253.29797363  246.02438354  251.85113525 ...,  240.39865112\n",
      "   244.47224426  251.759552  ]\n",
      " [ 255.03149414  249.57252502  249.49327087 ...,  239.60955811\n",
      "   246.07211304  251.49026489]\n",
      " ..., \n",
      " [ 261.05078125  258.02038574  256.20080566 ...,  253.19392395\n",
      "   250.76153564  265.51721191]\n",
      " [ 264.75878906  259.07385254  265.75817871 ...,  252.18055725\n",
      "   259.06143188  272.3961792 ]\n",
      " [ 256.12451172  253.3157959   250.20796204 ...,  245.39572144\n",
      "   248.12191772  257.39718628]]\n",
      "\n",
      "time taken =  1196.1801052093506  ms\n"
     ]
    }
   ],
   "source": [
    "# placeholders\n",
    "start_t = time.time()\n",
    "with tf.device('/gpu:0'):\n",
    "    x = tf.placeholder(tf.float32,shape=(1024,1024))\n",
    "    y = tf.matmul(x,x)\n",
    "    rand_array = np.random.rand(1024,1024)\n",
    "    \n",
    "    with tf.Session() as session:\n",
    "        #rand_array = np.random.rand(1024,1024)\n",
    "        print(session.run(y,feed_dict={x: rand_array}))\n",
    "end_t = time.time()\n",
    "print('\\ntime taken = ',(end_t-start_t)*1000,' ms')"
   ]
  },
  {
   "cell_type": "code",
   "execution_count": 3,
   "metadata": {},
   "outputs": [
    {
     "ename": "SyntaxError",
     "evalue": "unexpected EOF while parsing (<ipython-input-3-3ac4ce7396f9>, line 9)",
     "output_type": "error",
     "traceback": [
      "\u001b[1;36m  File \u001b[1;32m\"<ipython-input-3-3ac4ce7396f9>\"\u001b[1;36m, line \u001b[1;32m9\u001b[0m\n\u001b[1;33m    \u001b[0m\n\u001b[1;37m    ^\u001b[0m\n\u001b[1;31mSyntaxError\u001b[0m\u001b[1;31m:\u001b[0m unexpected EOF while parsing\n"
     ]
    }
   ],
   "source": [
    "# placeholders\n",
    "x2 = tf.placeholder(tf.float32,shape=(1024,1024))\n",
    "y2 = tf.matmul(x2,x2)\n",
    "rand_array2 = np.random.rand(1024,1024)\n",
    "\n",
    "with tf.Session() as session:\n",
    "    #rand_array = np.random.rand(1024,1024)\n",
    "    z =(session.run(y2,feed_dict={x2: rand_array2})\n",
    "        "
   ]
  },
  {
   "cell_type": "code",
   "execution_count": 4,
   "metadata": {},
   "outputs": [
    {
     "name": "stdout",
     "output_type": "stream",
     "text": [
      "[[ 22.  28.]\n",
      " [ 49.  64.]]\n"
     ]
    }
   ],
   "source": [
    "#3\n",
    "\n",
    "a = tf.constant([1.0, 2.0, 3.0, 4.0, 5.0, 6.0], shape=[2, 3], name='a')\n",
    "b = tf.constant([1.0, 2.0, 3.0, 4.0, 5.0, 6.0], shape=[3, 2], name='b')\n",
    "c = tf.matmul(a, b)\n",
    "# Creates a session with log_device_placement set to True.\n",
    "sess = tf.Session(config=tf.ConfigProto(log_device_placement=True))\n",
    "# Runs the op.\n",
    "print(sess.run(c))"
   ]
  },
  {
   "cell_type": "code",
   "execution_count": 5,
   "metadata": {},
   "outputs": [
    {
     "name": "stdout",
     "output_type": "stream",
     "text": [
      "Tensor(\"Add:0\", shape=(784, 200), dtype=float32)\n"
     ]
    }
   ],
   "source": [
    "# variables\n",
    "\n",
    "# create two varables\n",
    "w = tf.Variable(tf.random_normal([784,200],stddev=0.35),name='w')\n",
    "b = tf.Variable(tf.zeros([200]),name='b')\n",
    "\n",
    "int_op = tf.global_variables_initializer()\n",
    "\n",
    "with tf.Session() as sess:\n",
    "    sess.run(int_op)\n",
    "    m = tf.add(w,b)\n",
    "    print(m)"
   ]
  },
  {
   "cell_type": "code",
   "execution_count": 6,
   "metadata": {
    "collapsed": true
   },
   "outputs": [],
   "source": [
    "# initializing from an other variable\n",
    "\n",
    "# create a variable with a random value\n",
    "w1 = tf.Variable(tf.random_normal([784,200],stddev=0.35),name='w1')\n",
    "# copy variable\n",
    "w2 = tf.Variable(w1.initialized_value(),name='w2')\n",
    "w1_twice = tf.Variable(w1.initialized_value()*2,name='w1_twice')"
   ]
  },
  {
   "cell_type": "code",
   "execution_count": 10,
   "metadata": {
    "collapsed": true
   },
   "outputs": [],
   "source": [
    "# save and restore"
   ]
  },
  {
   "cell_type": "code",
   "execution_count": 17,
   "metadata": {},
   "outputs": [
    {
     "name": "stdout",
     "output_type": "stream",
     "text": [
      "[ 0.  0.]  = sum\n",
      "(2, 2)  = shape of a\n"
     ]
    },
    {
     "data": {
      "text/plain": [
       "array([[ 0.,  0.,  0.,  0.]])"
      ]
     },
     "metadata": {},
     "output_type": "display_data"
    }
   ],
   "source": [
    "# comparison of numpy and tensorflow\n",
    "\n",
    "import numpy as np\n",
    "\n",
    "a = np.zeros((2,2))\n",
    "b = np.zeros((2,2))\n",
    "\n",
    "print(np.sum(b,axis=1),' = sum')\n",
    "\n",
    "print(a.shape,' = shape of a')\n",
    "\n",
    "display(np.reshape(a,(1,4)))"
   ]
  },
  {
   "cell_type": "code",
   "execution_count": 18,
   "metadata": {},
   "outputs": [
    {
     "name": "stdout",
     "output_type": "stream",
     "text": [
      "[ 0.  0.]  = sum\n"
     ]
    },
    {
     "data": {
      "text/plain": [
       "TensorShape([Dimension(2), Dimension(2)])"
      ]
     },
     "metadata": {},
     "output_type": "display_data"
    },
    {
     "data": {
      "text/plain": [
       "' = shape of a'"
      ]
     },
     "metadata": {},
     "output_type": "display_data"
    },
    {
     "data": {
      "text/plain": [
       "array([[ 0.,  0.,  0.,  0.]], dtype=float32)"
      ]
     },
     "metadata": {},
     "output_type": "display_data"
    }
   ],
   "source": [
    "# same in tensorflow\n",
    " \n",
    "tf.InteractiveSession()\n",
    "\n",
    "a = tf.zeros((2,2))\n",
    "b = tf.zeros((2,2))\n",
    "\n",
    "print(tf.reduce_sum(b,reduction_indices=1).eval(),' = sum')\n",
    "\n",
    "display(a.get_shape(),' = shape of a')\n",
    "\n",
    "display(tf.reshape(a,(1,4)).eval())"
   ]
  },
  {
   "cell_type": "code",
   "execution_count": null,
   "metadata": {
    "collapsed": true
   },
   "outputs": [],
   "source": []
  }
 ],
 "metadata": {
  "kernelspec": {
   "display_name": "Python 3",
   "language": "python",
   "name": "python3"
  },
  "language_info": {
   "codemirror_mode": {
    "name": "ipython",
    "version": 3
   },
   "file_extension": ".py",
   "mimetype": "text/x-python",
   "name": "python",
   "nbconvert_exporter": "python",
   "pygments_lexer": "ipython3",
   "version": "3.5.3rc1"
  }
 },
 "nbformat": 4,
 "nbformat_minor": 2
}
