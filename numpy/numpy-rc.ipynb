{
 "cells": [
  {
   "cell_type": "code",
   "execution_count": 1,
   "metadata": {
    "collapsed": true
   },
   "outputs": [],
   "source": [
    "#importing lib\n",
    "import numpy as np\n",
    "import time \n",
    "import sys"
   ]
  },
  {
   "cell_type": "code",
   "execution_count": 2,
   "metadata": {},
   "outputs": [
    {
     "name": "stdout",
     "output_type": "stream",
     "text": [
      "python list takes 28000 bytes\n",
      "numpy array takes 4000 bytes\n"
     ]
    },
    {
     "data": {
      "text/plain": [
       "(4, 1000)"
      ]
     },
     "execution_count": 2,
     "metadata": {},
     "output_type": "execute_result"
    }
   ],
   "source": [
    "# Memory usage\n",
    "# python list\n",
    "py_list = range(1000) #python list\n",
    "print('python list takes',sys.getsizeof(7)*len(py_list),'bytes') # 7* can be any number\n",
    "\n",
    "#numpy array\n",
    "np_array = np.arange(1000)\n",
    "print('numpy array takes',np_array.size*np_array.itemsize,'bytes')\n",
    "np_array.itemsize,np_array.size"
   ]
  },
  {
   "cell_type": "code",
   "execution_count": 3,
   "metadata": {},
   "outputs": [
    {
     "name": "stdout",
     "output_type": "stream",
     "text": [
      "time taken for python list : 2345.658779144287 ms\n",
      "time taken for numpy array : 273.99659156799316 ms\n"
     ]
    }
   ],
   "source": [
    "# Time taken by numpy and python list\n",
    "array_size = 10000000 # 10 million ,a consideribly large size helps understand the time difference better\n",
    "\n",
    "# Python list\n",
    "py_list1 = range(array_size)\n",
    "py_list2 = range(array_size)\n",
    "\n",
    "py_start = time.time() # capturing a time instance(similar to a stop watch)\n",
    "result = [(x + y) for x,y in zip(py_list1,py_list2)] # performing addiiton of the two lists\n",
    "py_end = time.time() # capturing a second  time instance(the difference gives the time taken for the operation)\n",
    "print('time taken for python list :',(py_end - py_start) * 1000,'ms') # By default the time is in seconds *1000 coverts it to milliseonds\n",
    "\n",
    "# numpy array\n",
    "np_array1 = np.arange(array_size)\n",
    "np_array2 = np.arange(array_size)\n",
    "\n",
    "np_start = time.time()\n",
    "result = np_array1 + np_array2\n",
    "np_end = time.time()\n",
    "print('time taken for numpy array :',(np_end - np_start) * 1000,'ms')"
   ]
  },
  {
   "cell_type": "code",
   "execution_count": 4,
   "metadata": {},
   "outputs": [
    {
     "name": "stdout",
     "output_type": "stream",
     "text": [
      "[1 2 3] = array a (1D array)\n",
      "\n",
      "[[ 2.  4.  5.]\n",
      " [ 5.  3.  9.]] = array b (2D array)\n",
      "\n",
      "[[[ 3.2  5.   6. ]\n",
      "  [ 4.1  7.   9. ]]\n",
      "\n",
      " [[ 2.   4.   5. ]\n",
      "  [ 7.   4.   9. ]]] = array c (multiple arrays)\n"
     ]
    }
   ],
   "source": [
    "# Creating arrays\n",
    "array_a = np.array([1,2,3])   # create 1D array\n",
    "array_b = np.array([[2,4,5],[5,3,9]],dtype=float)   # creating a 2x3 matrix with values as type float\n",
    "array_c = np.array([[(3.2,5,6),(4.1,7,9)],[(2,4,5),(7,4,9)]],dtype=float)   # creating multple arrays with data type as float\n",
    "\n",
    "print(array_a,'= array a (1D array)\\n')\n",
    "print(array_b,'= array b (2D array)\\n')\n",
    "print(array_c,'= array c (multiple arrays)')"
   ]
  },
  {
   "cell_type": "code",
   "execution_count": 5,
   "metadata": {},
   "outputs": [
    {
     "name": "stdout",
     "output_type": "stream",
     "text": [
      "[[ 0.  0.  0.]\n",
      " [ 0.  0.  0.]\n",
      " [ 0.  0.  0.]] = zeros array \n",
      "\n",
      "[[ 1.  1.  1.  1.]\n",
      " [ 1.  1.  1.  1.]\n",
      " [ 1.  1.  1.  1.]] = ones array\n",
      "\n",
      "[[ 0.  0.  0.  0.]\n",
      " [ 0.  0.  0.  0.]\n",
      " [ 0.  0.  0.  0.]] = empty array\n",
      "\n",
      "[[ 1.  0.  0.]\n",
      " [ 0.  1.  0.]\n",
      " [ 0.  0.  1.]] = identity array\n",
      "\n",
      "[[ 0.78988412  0.25125293]\n",
      " [ 0.06922745  0.58871348]\n",
      " [ 0.70234489  0.92483962]] = random array \n",
      "\n",
      "[[6 6]\n",
      " [6 6]] = constant array \n",
      "\n"
     ]
    }
   ],
   "source": [
    "# Creating arrays with place holders\n",
    "\n",
    "zeros_array = np.zeros((3,3))  # creates a 3x3 matrix with zeros\n",
    "ones_array = np.ones((3,4))    # creates a 3x4 array with ones\n",
    "empty_array = np.empty((3,4))  # creates an empty array with dimensions 3x4\n",
    "eye_array = np.eye(3)          # creates an identity matrix of 3x3\n",
    "random_array = np.random.random((3,2)) # creates a 3x3 array with random variables\n",
    "full_array = np.full((2,2),6)  #creates an array with constant number 6\n",
    "\n",
    "print(zeros_array,'= zeros array \\n')\n",
    "print(ones_array,'= ones array\\n')\n",
    "print(empty_array,'= empty array\\n')\n",
    "print(eye_array,'= identity array\\n')\n",
    "print(random_array,'= random array \\n')\n",
    "print(full_array,'= constant array \\n')"
   ]
  },
  {
   "cell_type": "code",
   "execution_count": 6,
   "metadata": {},
   "outputs": [
    {
     "name": "stdout",
     "output_type": "stream",
     "text": [
      "[[3 2 1 4]\n",
      " [7 5 9 2]] = Array\n",
      "\n",
      " (2, 4) = shape the array / dimensions of the array\n",
      "\n",
      "2 length of the array\n",
      "\n",
      "2 = number of array dimensions\n",
      "\n",
      "8 = number of array elements\n",
      "\n",
      "int32 = data type of the array elements\n",
      "\n",
      "int32 = name of the data type\n",
      "\n",
      "[[ 3.  2.  1.  4.]\n",
      " [ 7.  5.  9.  2.]] = convert an array to a different type\n",
      "\n"
     ]
    }
   ],
   "source": [
    "# Array inspection\n",
    "\n",
    "ins_array = np.array([[3,2,1,4],[7,5,9,2]])   # creating a 2x4 array(inspection array)\n",
    "\n",
    "print(ins_array,'= Array')  #displaying the array\n",
    "print('\\n',ins_array.shape,'= shape the array / dimensions of the array\\n')\n",
    "print(len(ins_array),'length of the array\\n')\n",
    "print(ins_array.ndim,'= number of array dimensions\\n')\n",
    "print(ins_array.size,'= number of array elements\\n')\n",
    "print(ins_array.dtype,'= data type of the array elements\\n')\n",
    "print(ins_array.dtype.name,'= name of the data type\\n')\n",
    "print(ins_array.astype(float),'= convert an array to a different type\\n') "
   ]
  },
  {
   "cell_type": "code",
   "execution_count": 9,
   "metadata": {},
   "outputs": [
    {
     "name": "stdout",
     "output_type": "stream",
     "text": [
      "[[2 3]\n",
      " [5 7]]  = array A\n",
      "\n",
      "[[4 2]\n",
      " [6 8]]  = array B\n",
      "\n",
      "[[-2  1]\n",
      " [-1 -1]]  = subtraction\n",
      "\n",
      "[[-2  1]\n",
      " [-1 -1]] = subtraction using numpy\n",
      "\n",
      "[[ 6  5]\n",
      " [11 15]]  = addition\n",
      "\n",
      "[[ 6  5]\n",
      " [11 15]] = addition using numpy\n",
      "\n",
      "[[ 0.5         1.5       ]\n",
      " [ 0.83333333  0.875     ]]  = division\n",
      "\n",
      "[[ 0.5         1.5       ]\n",
      " [ 0.83333333  0.875     ]] = division using numpy\n",
      "\n",
      "[[ 8  6]\n",
      " [30 56]]  = multiplication\n",
      "\n",
      "[[ 8  6]\n",
      " [30 56]] = multiplication using numpy\n",
      "\n"
     ]
    }
   ],
   "source": [
    "# Arithmetic opreations\n",
    "\n",
    "array_a = np.array([[2,3],[5,7]])  # creating array A 2x2\n",
    "array_b = np.array([[4,2],[6,8]])  # creating array B 2x2\n",
    "\n",
    "print(array_a,' = array A\\n')\n",
    "print(array_b,' = array B\\n')\n",
    "\n",
    "print(array_a - array_b,' = subtraction\\n')  #subtracting two arrays normal operation\n",
    "print(np.subtract(array_a,array_b),'= subtraction using numpy\\n')\n",
    "\n",
    "print(array_a + array_b,' = addition\\n')  #addition two arrays normal operation\n",
    "print(np.add(array_a,array_b),'= addition using numpy\\n')\n",
    "\n",
    "print(array_a / array_b,' = division\\n')  #dividing two arrays normal operation\n",
    "print(np.divide(array_a,array_b),'= division using numpy\\n')\n",
    "\n",
    "print(array_a * array_b,' = multiplication\\n')  #multiplying two arrays normal operation\n",
    "print(np.multiply(array_a,array_b),'= multiplication using numpy\\n')"
   ]
  },
  {
   "cell_type": "code",
   "execution_count": 12,
   "metadata": {},
   "outputs": [
    {
     "name": "stdout",
     "output_type": "stream",
     "text": [
      "[[2 3]\n",
      " [5 7]] = array A\n",
      "\n",
      "[[    7.3890561     20.08553692]\n",
      " [  148.4131591   1096.63315843]]  = exponentitation\n",
      "\n",
      "[[ 1.41421356  1.73205081]\n",
      " [ 2.23606798  2.64575131]] = Square root\n",
      "\n",
      "[[ 0.90929743  0.14112001]\n",
      " [-0.95892427  0.6569866 ]]  = sines\n",
      "\n",
      "[[-0.41614684 -0.9899925 ]\n",
      " [ 0.28366219  0.75390225]]  = cosine\n",
      "\n",
      "[[ 0.69314718  1.09861229]\n",
      " [ 1.60943791  1.94591015]]  = natural logarithm\n",
      "\n",
      "[[ 4  6]\n",
      " [10 14]]  = dot product\n",
      "\n"
     ]
    }
   ],
   "source": [
    "print(array_a,'= array A\\n')\n",
    "\n",
    "print(np.exp(array_a),' = exponentitation\\n')   # returns the exponent of the array\n",
    "print(np.sqrt(array_a),'= Square root\\n')       # returns the square root of the array\n",
    "print(np.sin(array_a),' = sines\\n')             # prints the sines of the array\n",
    "print(np.cos(array_a),' = cosine\\n')            # returns element wise cosine\n",
    "print(np.log(array_a),' = natural logarithm\\n') # returns element wise natural logarithm\n",
    "print(array_a.dot(2),' = dot product\\n')        # dot product of the array"
   ]
  },
  {
   "cell_type": "code",
   "execution_count": 17,
   "metadata": {},
   "outputs": [
    {
     "name": "stdout",
     "output_type": "stream",
     "text": [
      "[[2 3]\n",
      " [5 7]]  = array A\n",
      "\n",
      "[[4 2]\n",
      " [6 8]]  = array B\n",
      "\n",
      "[[False False]\n",
      " [False False]]  = comparison\n",
      "\n",
      "[[ True  True]\n",
      " [False False]]  = comparison\n",
      "\n",
      "array A and array B are equal =  False\n"
     ]
    }
   ],
   "source": [
    "# Comparision\n",
    "\n",
    "print(array_a,' = array A\\n')\n",
    "print(array_b,' = array B\\n')\n",
    "\n",
    "print(array_a == array_b,' = comparison\\n')  # element wise comparison\n",
    "print(array_a<5 ,' = comparison\\n')          # prints true for all values < 5\n",
    "print('array A and array B are equal = ',np.array_equal(array_a,array_b))  # array wise comparison"
   ]
  },
  {
   "cell_type": "code",
   "execution_count": 21,
   "metadata": {},
   "outputs": [
    {
     "name": "stdout",
     "output_type": "stream",
     "text": [
      "[[2 3]\n",
      " [5 7]]  = array A\n",
      "\n",
      "17 --- sum\n",
      "\n",
      "2 --- minimum value\n",
      "\n",
      "[5 7] --- max value\n",
      "\n",
      "4.25 --- mean\n",
      "\n",
      "1.92028643697 --- std\n",
      "\n"
     ]
    }
   ],
   "source": [
    "# Aggregate functions\n",
    "\n",
    "print(array_a,' = array A\\n')                   # display array\n",
    "print(array_a.sum(),'--- sum\\n')                # array wise sum \n",
    "print(array_a.min(),'--- minimum value\\n')      # array wise minimum value\n",
    "print(array_a.max(axis=0),'--- max value\\n')    # maximum value of an array row\n",
    "print(array_a.mean(),'--- mean\\n')              # mean of the array\n",
    "print(array_a.std(),'--- std\\n')                # standard deviation of the array    "
   ]
  },
  {
   "cell_type": "code",
   "execution_count": 85,
   "metadata": {},
   "outputs": [
    {
     "name": "stdout",
     "output_type": "stream",
     "text": [
      "[[ 0.99521904  0.83689664  0.23666683]\n",
      " [ 0.57935315  0.27533265  0.16985335]\n",
      " [ 0.53881151  0.87263035  0.92429208]\n",
      " [ 0.6640889   0.89837485  0.05847144]\n",
      " [ 0.33708667  0.9399604   0.08411445]\n",
      " [ 0.35695102  0.12867803  0.99343711]\n",
      " [ 0.74057631  0.17093348  0.13444435]\n",
      " [ 0.21916249  0.9092303   0.56866963]]  = random variable array\n",
      "\n",
      "[[ 0.21916249  0.12867803  0.05847144]\n",
      " [ 0.33708667  0.17093348  0.08411445]\n",
      " [ 0.35695102  0.27533265  0.13444435]\n",
      " [ 0.53881151  0.83689664  0.16985335]\n",
      " [ 0.57935315  0.87263035  0.23666683]\n",
      " [ 0.6640889   0.89837485  0.56866963]\n",
      " [ 0.74057631  0.9092303   0.92429208]\n",
      " [ 0.99521904  0.9399604   0.99343711]]  = sorting of array colom wise\n"
     ]
    }
   ],
   "source": [
    "# sorting arrays\n",
    "\n",
    "rand_array =np.random.random((8,3))                                      # Creating a 8x1 array of random variables\n",
    "\n",
    "print(rand_array,' = random variable array\\n')                           # displaying array\n",
    "print(np.sort(rand_array,axis=0),' = sorting of array colom wise')      # By default the sorting is applied on row wise axis = 1 changes it to colom wise   "
   ]
  },
  {
   "cell_type": "code",
   "execution_count": 102,
   "metadata": {},
   "outputs": [
    {
     "name": "stdout",
     "output_type": "stream",
     "text": [
      "[ 0.76799325  0.01631997  0.1378917   0.85911524  0.176175    0.05097026\n",
      "  0.53335974  0.59335999  0.00637776]  = array A\n",
      "\n",
      "the 7th element is =  0.533359742154\n",
      "[[0 3 0 0 2]\n",
      " [1 2 3 1 2]]  = array B\n",
      "\n",
      "2nd coloum 2nd row =  2\n"
     ]
    }
   ],
   "source": [
    "# Subsetting\n",
    "\n",
    "array_a = np.random.random(9)                         # create an array of 9 elements\n",
    "print(array_a,' = array A\\n')                         # Display array\n",
    "print('the 7th element is = ',array_a[6])             # selecting the 7th element in array A\n",
    "\n",
    "array_b = np.random.randint(5, size=(2,5))            # create random array \n",
    "print(array_b,' = array B\\n')                         # Display array\n",
    "print('2nd coloum 2nd row = ',array_b[1,1])           # selecting the element from 2nd row 2nd coloumn"
   ]
  },
  {
   "cell_type": "code",
   "execution_count": null,
   "metadata": {
    "collapsed": true
   },
   "outputs": [],
   "source": []
  }
 ],
 "metadata": {
  "kernelspec": {
   "display_name": "Python 3",
   "language": "python",
   "name": "python3"
  },
  "language_info": {
   "codemirror_mode": {
    "name": "ipython",
    "version": 3
   },
   "file_extension": ".py",
   "mimetype": "text/x-python",
   "name": "python",
   "nbconvert_exporter": "python",
   "pygments_lexer": "ipython3",
   "version": "3.5.3"
  }
 },
 "nbformat": 4,
 "nbformat_minor": 2
}
