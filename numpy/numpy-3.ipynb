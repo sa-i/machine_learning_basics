{
 "cells": [
  {
   "cell_type": "code",
   "execution_count": 26,
   "metadata": {
    "collapsed": true
   },
   "outputs": [],
   "source": [
    "import numpy as np"
   ]
  },
  {
   "cell_type": "code",
   "execution_count": 27,
   "metadata": {},
   "outputs": [
    {
     "data": {
      "text/plain": [
       "[6, 7]"
      ]
     },
     "execution_count": 27,
     "metadata": {},
     "output_type": "execute_result"
    }
   ],
   "source": [
    "#slicing\n",
    "n = [6,7,8]\n",
    "n[0:2]"
   ]
  },
  {
   "cell_type": "code",
   "execution_count": 28,
   "metadata": {},
   "outputs": [
    {
     "name": "stdout",
     "output_type": "stream",
     "text": [
      "[[3 2 4]\n",
      " [2 5 7]\n",
      " [7 5 2]] \t [7 5 2] \n",
      "\n",
      " [[2 4]\n",
      " [5 7]\n",
      " [5 2]]\n",
      "[3 2 4]\n",
      "[2 5 7]\n",
      "[7 5 2]\n",
      "3\n",
      "2\n",
      "4\n",
      "2\n",
      "5\n",
      "7\n",
      "7\n",
      "5\n",
      "2\n",
      "\n",
      " [[3 2 4]\n",
      " [2 5 7]\n",
      " [7 5 2]\n",
      " [3 3 5]\n",
      " [5 5 7]\n",
      " [8 5 2]] = vstack\n",
      "\n",
      " [[3 2 4 3 3 5]\n",
      " [2 5 7 5 5 7]\n",
      " [7 5 2 8 5 2]] = hstack\n",
      "\n",
      " [array([[3, 2, 4]]), array([[2, 5, 7]]), array([[7, 5, 2]])] = vsplit\n"
     ]
    }
   ],
   "source": [
    "#slicing in numpy\n",
    "array = np.array([5,5,6,9])\n",
    "array[0:2]\n",
    "\n",
    "array2 = np.array([[3,2,4],[2,5,7],[7,5,2]]) #creating a 3x3 matrix\n",
    "array3 = np.array([[3,3,5],[5,5,7],[8,5,2]])\n",
    "print(array2,'\\t',array2[-1],'\\n\\n',array2[:,1:3])\n",
    "\n",
    "#iteration\n",
    "for row in array2:\n",
    "    print(row)\n",
    "\n",
    "for cell in array2.flat:\n",
    "    print(cell)\n",
    "    \n",
    "#stacking\n",
    "print('\\n',np.vstack((array2,array3)),'= vstack') #virtical stacking\n",
    "print('\\n',np.hstack((array2,array3)),'= hstack') #horizontal stacking\n",
    "print('\\n',np.vsplit(array2,3),'= vsplit')"
   ]
  },
  {
   "cell_type": "code",
   "execution_count": 29,
   "metadata": {},
   "outputs": [
    {
     "name": "stdout",
     "output_type": "stream",
     "text": [
      "[[ 0  1  2  3]\n",
      " [ 4  5  6  7]\n",
      " [ 8  9 10 11]\n",
      " [12 13 14 15]] 4x4 matrix\n",
      "\n",
      "[[False False False False]\n",
      " [False False False  True]\n",
      " [ True  True  True  True]\n",
      " [ True  True  True  True]] = boolean array\n"
     ]
    }
   ],
   "source": [
    "# boolean arrays\n",
    "bool_array = np.arange(16).reshape(4,4)  #creating a 4x4 matrix\n",
    "\n",
    "print(bool_array,'4x4 matrix\\n')\n",
    "print(bool_array>6,'= boolean array')"
   ]
  },
  {
   "cell_type": "code",
   "execution_count": 30,
   "metadata": {
    "collapsed": true
   },
   "outputs": [],
   "source": [
    "temp_array = bool_array < 5"
   ]
  },
  {
   "cell_type": "code",
   "execution_count": 31,
   "metadata": {},
   "outputs": [
    {
     "data": {
      "text/plain": [
       "array([0, 1, 2, 3, 4])"
      ]
     },
     "execution_count": 31,
     "metadata": {},
     "output_type": "execute_result"
    }
   ],
   "source": [
    "bool_array[temp_array]"
   ]
  },
  {
   "cell_type": "code",
   "execution_count": 32,
   "metadata": {},
   "outputs": [
    {
     "data": {
      "text/plain": [
       "array([[ True,  True,  True,  True],\n",
       "       [ True, False, False, False],\n",
       "       [False, False, False, False],\n",
       "       [False, False, False, False]], dtype=bool)"
      ]
     },
     "execution_count": 32,
     "metadata": {},
     "output_type": "execute_result"
    }
   ],
   "source": [
    "temp_array"
   ]
  },
  {
   "cell_type": "code",
   "execution_count": 33,
   "metadata": {},
   "outputs": [
    {
     "data": {
      "text/plain": [
       "array([[1, 1, 1, 1],\n",
       "       [1, 0, 0, 0],\n",
       "       [0, 0, 0, 0],\n",
       "       [0, 0, 0, 0]])"
      ]
     },
     "execution_count": 33,
     "metadata": {},
     "output_type": "execute_result"
    }
   ],
   "source": [
    "temp_array.astype(int)"
   ]
  },
  {
   "cell_type": "code",
   "execution_count": 34,
   "metadata": {},
   "outputs": [
    {
     "data": {
      "text/plain": [
       "6"
      ]
     },
     "execution_count": 34,
     "metadata": {},
     "output_type": "execute_result"
    }
   ],
   "source": [
    "a = np.array([2,3,5,6])\n",
    "a[3]"
   ]
  },
  {
   "cell_type": "code",
   "execution_count": 35,
   "metadata": {},
   "outputs": [
    {
     "data": {
      "text/plain": [
       "array([[ 0.50012835,  0.90461214,  0.0376947 ,  0.7255538 ,  0.28527748],\n",
       "       [ 0.10820146,  0.96119809,  0.93893007,  0.70265819,  0.26737637],\n",
       "       [ 0.42990526,  0.30660307,  0.24687945,  0.01515704,  0.43360337],\n",
       "       [ 0.95201684,  0.98415848,  0.03155105,  0.94888682,  0.51059981],\n",
       "       [ 0.77257497,  0.75214411,  0.02824907,  0.56136487,  0.31717818]])"
      ]
     },
     "execution_count": 35,
     "metadata": {},
     "output_type": "execute_result"
    }
   ],
   "source": [
    "b = np.random.random((5,5))\n",
    "b"
   ]
  }
 ],
 "metadata": {
  "kernelspec": {
   "display_name": "Python 3",
   "language": "python",
   "name": "python3"
  },
  "language_info": {
   "codemirror_mode": {
    "name": "ipython",
    "version": 3
   },
   "file_extension": ".py",
   "mimetype": "text/x-python",
   "name": "python",
   "nbconvert_exporter": "python",
   "pygments_lexer": "ipython3",
   "version": "3.5.3"
  }
 },
 "nbformat": 4,
 "nbformat_minor": 2
}
