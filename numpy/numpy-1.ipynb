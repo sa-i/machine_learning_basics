{
 "cells": [
  {
   "cell_type": "code",
   "execution_count": 4,
   "metadata": {
    "collapsed": true
   },
   "outputs": [],
   "source": [
    "import numpy as np\n",
    "import time\n",
    "import sys"
   ]
  },
  {
   "cell_type": "code",
   "execution_count": 10,
   "metadata": {},
   "outputs": [
    {
     "name": "stdout",
     "output_type": "stream",
     "text": [
      "python list takes 28000 bytes\n",
      "numpy array takes 4000 bytes\n"
     ]
    }
   ],
   "source": [
    "#memory allocation/usage\n",
    "#ex1 python list\n",
    "py_list = range(1000) #python list\n",
    "print('python list takes',sys.getsizeof(3)*len(py_list),'bytes') # 3* can be any number\n",
    "#ex1.1 numpy \n",
    "np_array = np.arange(1000) # a range similar to a pylist\n",
    "print('numpy array takes',np_array.size*np_array.itemsize,'bytes')"
   ]
  },
  {
   "cell_type": "code",
   "execution_count": 4,
   "metadata": {},
   "outputs": [
    {
     "name": "stdout",
     "output_type": "stream",
     "text": [
      "time taken by python list :  2322.955369949341 ms\n",
      "time taken by numpy       :  203.171968460083 ms\n"
     ]
    }
   ],
   "source": [
    "#time difference b/w python and numpy\n",
    "array_size = 10000000 # 10 million \n",
    "\n",
    "#python list\n",
    "py_list1 = range(array_size)\n",
    "py_list2 = range(array_size)\n",
    "\n",
    "py_start = time.time()\n",
    "result = [(x + y) for  x,y in zip(py_list1,py_list2)]\n",
    "py_end = time.time()\n",
    "print('time taken by python list : ',(py_end-py_start)*1000,'ms')\n",
    "\n",
    "#numpy array\n",
    "np_array1 = np.array(array_size)\n",
    "np_array2 = np.array(array_size)\n",
    "\n",
    "np_start = time.time()\n",
    "result = np_array1 + np_array2\n",
    "np_end = time.time()\n",
    "print('time taken by numpy       : ',(np_end-np_start)*1000,'ms')"
   ]
  },
  {
   "cell_type": "code",
   "execution_count": null,
   "metadata": {
    "collapsed": true
   },
   "outputs": [],
   "source": []
  }
 ],
 "metadata": {
  "kernelspec": {
   "display_name": "Python 3",
   "language": "python",
   "name": "python3"
  },
  "language_info": {
   "codemirror_mode": {
    "name": "ipython",
    "version": 3
   },
   "file_extension": ".py",
   "mimetype": "text/x-python",
   "name": "python",
   "nbconvert_exporter": "python",
   "pygments_lexer": "ipython3",
   "version": "3.5.3"
  }
 },
 "nbformat": 4,
 "nbformat_minor": 2
}
