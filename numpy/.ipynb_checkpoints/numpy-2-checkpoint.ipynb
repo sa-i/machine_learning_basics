{
 "cells": [
  {
   "cell_type": "code",
   "execution_count": 1,
   "metadata": {
    "collapsed": true
   },
   "outputs": [],
   "source": [
    "import numpy as np\n",
    "import sys\n",
    "import time"
   ]
  },
  {
   "cell_type": "code",
   "execution_count": 31,
   "metadata": {},
   "outputs": [
    {
     "name": "stdout",
     "output_type": "stream",
     "text": [
      "Array2 = \n",
      " [[3 5 7]\n",
      " [2 1 4]\n",
      " [4 5 7]] \t\tArray1 = [ 1.  2.  3.]\n",
      "\n",
      "dimension of array1 is : 1 Shape of array1 : (3,)\n",
      "dimension of array2 is : 2 Shape of array2 : (3, 3)\n",
      "\n",
      "data type for array1 : float64 Item size is : 8 Size of item : 3\n",
      "data type for array2 : int32   Item size is : 4 Size of item : 9\n"
     ]
    }
   ],
   "source": [
    "# create two arrays\n",
    "array1 = np.array([1,2,3],dtype=np.float64) # 1D array 1x3 vector item size can be changes by using dtype = (int or float etc)\n",
    "array2 = np.array([[3,5,7],[2,1,4],[4,5,7]]) # 2D array 3x3 matrix\n",
    "\n",
    "print('Array2 = \\n',array2,'\\t\\tArray1 =',array1)\n",
    "\n",
    "print('\\ndimension of array1 is :',array1.ndim,'Shape of array1 :',array1.shape)\n",
    "print('dimension of array2 is :',array2.ndim,'Shape of array2 :',array2.shape)\n",
    "\n",
    "print('\\ndata type for array1 :',array1.dtype,'Item size is :',array1.itemsize,'Size of item :',array1.size)\n",
    "print('data type for array2 :',array2.dtype,'  Item size is :',array2.itemsize,'Size of item :',array2.size)\n",
    "\n"
   ]
  },
  {
   "cell_type": "code",
   "execution_count": 45,
   "metadata": {},
   "outputs": [
    {
     "name": "stdout",
     "output_type": "stream",
     "text": [
      "[[ 0.  0.]\n",
      " [ 0.  0.]] = zeros array \n",
      " [[ 1.  1.]\n",
      " [ 1.  1.]] = ones array\n",
      "\n",
      " [1 3 5 7 9] = list1 or 1D array\n",
      "[ 1.          1.44444444  1.88888889  2.33333333  2.77777778  3.22222222\n",
      "  3.66666667  4.11111111  4.55555556  5.        ] = linspace array\n"
     ]
    }
   ],
   "source": [
    "# Creating new arrays\n",
    "zeros_array = np.zeros((2,2))  # 2,2 is the shape function and allocates zeros in the new array \n",
    "ones_array = np.ones((2,2))    # 2,2 is the shape function and allocates zeros in the new array\n",
    "\n",
    "print(zeros_array,'= zeros array','\\n',ones_array,'= ones array')\n",
    "\n",
    "#creating a list or 1D array\n",
    "list1 = np.arange(1,10,2)   # 1 and 10 are the initial and the end points 2 is the number of steps taken   \n",
    "print('\\n',list1,'= list1 or 1D array')\n",
    "lin_array = np.linspace(1,5,10)  # linearly arranges the number of steps 1 and 5 are the initial and the end points\n",
    "print(lin_array,'= linspace array')"
   ]
  },
  {
   "cell_type": "code",
   "execution_count": 56,
   "metadata": {},
   "outputs": [
    {
     "name": "stdout",
     "output_type": "stream",
     "text": [
      "[[3 2]\n",
      " [4 5]\n",
      " [7 6]] = array3\n",
      "\n",
      " reshape\n",
      " [[3 2 4]\n",
      " [5 7 6]] \tor [[3 2 4 5 7 6]]\n",
      "\n",
      " ravel function :  [3 2 4 5 7 6]\n"
     ]
    }
   ],
   "source": [
    "# array functions 1\n",
    "array3 = np.array([[3,2],[4,5],[7,6]]) #creating a 3x2 matrix\n",
    "\n",
    "print(array3,'= array3')\n",
    "print('\\n reshape\\n',array3.reshape(2,3),'\\tor',array3.reshape(1,6)) #transposing the array \n",
    "print('\\n ravel function : ',array3.ravel()) # ravel function flattens the array\n"
   ]
  },
  {
   "cell_type": "code",
   "execution_count": 60,
   "metadata": {},
   "outputs": [
    {
     "name": "stdout",
     "output_type": "stream",
     "text": [
      "[[2 3]\n",
      " [4 5]] = array A\n",
      " [[4 6]\n",
      " [7 2]] = array B\n",
      "\n",
      "[[ 6  9]\n",
      " [11  7]] = sum of A and B\n",
      "\n",
      "[[ 8 18]\n",
      " [28 10]] = multiplication of A and B\n",
      "\n",
      "[[29 18]\n",
      " [51 34]] = matrix dot product \n"
     ]
    }
   ],
   "source": [
    "# array functoins 2\n",
    "array_a = np.array([[2,3],[4,5]])  # creating 2x2 array A\n",
    "array_b = np.array([[4,6],[7,2]])  # creating 2x2 array B\n",
    "\n",
    "print(array_a,'= array A\\n',array_b,'= array B\\n')\n",
    "print(array_a + array_b ,'= sum of A and B\\n')\n",
    "print(array_a * array_b,'= multiplication of A and B\\n')\n",
    "print(array_a.dot(array_b),'= matrix dot product ' )"
   ]
  },
  {
   "cell_type": "code",
   "execution_count": null,
   "metadata": {
    "collapsed": true
   },
   "outputs": [],
   "source": []
  }
 ],
 "metadata": {
  "kernelspec": {
   "display_name": "Python 3",
   "language": "python",
   "name": "python3"
  },
  "language_info": {
   "codemirror_mode": {
    "name": "ipython",
    "version": 3
   },
   "file_extension": ".py",
   "mimetype": "text/x-python",
   "name": "python",
   "nbconvert_exporter": "python",
   "pygments_lexer": "ipython3",
   "version": "3.5.3"
  }
 },
 "nbformat": 4,
 "nbformat_minor": 2
}
