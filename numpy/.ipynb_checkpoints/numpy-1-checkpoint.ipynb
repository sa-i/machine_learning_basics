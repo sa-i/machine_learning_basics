{
 "cells": [
  {
   "cell_type": "code",
   "execution_count": 1,
   "metadata": {
    "collapsed": true
   },
   "outputs": [],
   "source": [
    "import numpy as np\n",
    "import time\n",
    "import sys"
   ]
  },
  {
   "cell_type": "code",
   "execution_count": 2,
   "metadata": {},
   "outputs": [
    {
     "name": "stdout",
     "output_type": "stream",
     "text": [
      "python list takes 28000 bytes\n",
      "numpy array takes 4000 bytes\n"
     ]
    }
   ],
   "source": [
    "#memory allocation/usage\n",
    "#ex1 python list\n",
    "py_list = range(1000) #python list\n",
    "print('python list takes',sys.getsizeof(3)*len(py_list),'bytes') # 3* can be any number\n",
    "#ex1.1 numpy \n",
    "np_array = np.arange(1000) # a range similar to a pylist\n",
    "print('numpy array takes',np_array.size*np_array.itemsize,'bytes')"
   ]
  },
  {
   "cell_type": "code",
   "execution_count": 3,
   "metadata": {},
   "outputs": [
    {
     "name": "stdout",
     "output_type": "stream",
     "text": [
      "time taken by python list :  2428.921937942505 ms\n",
      "time taken by numpy       :  231.45222663879395 ms\n"
     ]
    }
   ],
   "source": [
    "#time difference b/w python and numpy\n",
    "array_size = 10000000 # 10 million \n",
    "\n",
    "#python list\n",
    "py_list1 = range(array_size)\n",
    "py_list2 = range(array_size)\n",
    "\n",
    "py_start = time.time()\n",
    "result = [(x + y) for  x,y in zip(py_list1,py_list2)]\n",
    "py_end = time.time()\n",
    "print('time taken by python list : ',(py_end-py_start)*1000,'ms')\n",
    "\n",
    "#numpy array\n",
    "np_array1 = np.array(array_size)\n",
    "np_array2 = np.array(array_size)\n",
    "\n",
    "np_start = time.time()\n",
    "result = np_array1 + np_array2\n",
    "np_end = time.time()\n",
    "print('time taken by numpy       : ',(np_end-np_start)*1000,'ms')"
   ]
  },
  {
   "cell_type": "code",
   "execution_count": 32,
   "metadata": {},
   "outputs": [
    {
     "name": "stdout",
     "output_type": "stream",
     "text": [
      "[2 4 6 7] \n",
      "\n",
      "[[1 1 3]\n",
      " [0 2 0]] \n",
      "\n",
      "[1 2] \n",
      "\n",
      "[[1 1 3]] \n",
      "\n",
      "[1 1 3] \n",
      "\n",
      "[5 8 7 6 4 2] \n",
      "\n"
     ]
    }
   ],
   "source": [
    "# slicing\n",
    "\n",
    "a = np.array([2,4,6,7,8,5])\n",
    "print(a[0:4],'\\n')\n",
    "\n",
    "b = np.random.randint(5,size=(2,3))\n",
    "print(b,'\\n')\n",
    "print(b[0:2,1],'\\n')\n",
    "print(b[:1],'\\n')\n",
    "print(b[0,...],'\\n')\n",
    "print(a[::-1],'\\n')"
   ]
  },
  {
   "cell_type": "code",
   "execution_count": 34,
   "metadata": {},
   "outputs": [
    {
     "data": {
      "text/plain": [
       "array([2, 4])"
      ]
     },
     "execution_count": 34,
     "metadata": {},
     "output_type": "execute_result"
    }
   ],
   "source": [
    "# boolean indexing\n",
    "a[a<5]"
   ]
  },
  {
   "cell_type": "code",
   "execution_count": 42,
   "metadata": {},
   "outputs": [
    {
     "name": "stdout",
     "output_type": "stream",
     "text": [
      "[[1 0]\n",
      " [1 2]\n",
      " [3 0]] \n",
      "\n",
      "[[1 1 3]\n",
      " [0 2 0]] \n",
      "\n",
      "[1 1 3 0 2 0] \n",
      "\n",
      "[[2 4 6]\n",
      " [7 8 5]] \n",
      "\n",
      "[[2 4]\n",
      " [6 7]\n",
      " [8 5]] \n",
      "\n",
      "[2 4 6 7 8 5 2 6] \n",
      "\n",
      "[  2   4   6   7   8   5   2 100   6] \n",
      "\n",
      "[2 4 6 7 8 5 2 6] \n",
      "\n"
     ]
    }
   ],
   "source": [
    "# array manipulation\n",
    "\n",
    "#transpose\n",
    "i = np.transpose(b)\n",
    "print(i,'\\n')\n",
    "print(i.T,'\\n')\n",
    "\n",
    "#changing array shape\n",
    "\n",
    "print(np.ravel(b),'\\n')\n",
    "print(a.reshape(2,3),'\\n')\n",
    "print(np.resize(a,(3,2)),'\\n')\n",
    "\n",
    "# adding/removing elements\n",
    "a1 = np.append(a,(2,6))\n",
    "print(a1,'\\n')\n",
    "a1 = np.insert(a1,7,100)\n",
    "print(a1,'\\n')\n",
    "print(np.delete(a1,[7]),'\\n')"
   ]
  },
  {
   "cell_type": "code",
   "execution_count": 47,
   "metadata": {},
   "outputs": [
    {
     "name": "stdout",
     "output_type": "stream",
     "text": [
      "[[2 3]\n",
      " [4 5]]  = a\n",
      "\n",
      "[[9 8]\n",
      " [7 6]]  = b\n",
      "\n",
      "[[2 3 9 8]\n",
      " [4 5 7 6]] \n",
      "\n",
      "[[2 3]\n",
      " [4 5]\n",
      " [9 8]\n",
      " [7 6]] \n",
      "\n",
      "[[2 3]\n",
      " [4 5]\n",
      " [9 8]\n",
      " [7 6]] \n",
      "\n",
      "[[2 3]\n",
      " [4 5]\n",
      " [9 8]\n",
      " [7 6]] \n",
      "\n",
      "[[2 3 9 8]\n",
      " [4 5 7 6]] \n",
      "\n",
      "[[2 3 9 8]\n",
      " [4 5 7 6]] \n",
      "\n",
      "[[2 3 9 8]\n",
      " [4 5 7 6]] \n",
      "\n"
     ]
    }
   ],
   "source": [
    "#combining arrys\n",
    "a = np.array([[2,3],[4,5]])\n",
    "b = np.array([[9,8],[7,6]])\n",
    "\n",
    "print(a,' = a\\n')\n",
    "print(b,' = b\\n')\n",
    "print(np.concatenate((a,b),axis=1),'\\n')  # axis = 0 for vstack\n",
    "print(np.vstack((a,b)),'\\n')\n",
    "print(np.row_stack((a,b)),'\\n')\n",
    "print(np.r_[a,b],'\\n')\n",
    "\n",
    "print(np.hstack((a,b)),'\\n')\n",
    "print(np.column_stack((a,b)),'\\n')             #same\n",
    "print(np.c_[a,b],'\\n')                         #same\n"
   ]
  },
  {
   "cell_type": "code",
   "execution_count": 58,
   "metadata": {},
   "outputs": [
    {
     "name": "stdout",
     "output_type": "stream",
     "text": [
      "[[0 4 8 3 9 4]\n",
      " [0 8 6 5 7 1]\n",
      " [6 6 0 7 7 1]] \n",
      "\n",
      "[array([[0, 4, 8, 3, 9, 4],\n",
      "       [0, 8, 6, 5, 7, 1],\n",
      "       [6, 6, 0, 7, 7, 1]])] \n",
      "\n",
      "[array([[0, 4],\n",
      "       [0, 8],\n",
      "       [6, 6]]), array([[8, 3],\n",
      "       [6, 5],\n",
      "       [0, 7]]), array([[9, 4],\n",
      "       [7, 1],\n",
      "       [7, 1]])] \n",
      "\n"
     ]
    }
   ],
   "source": [
    "#temp = np.random.randint(10,size=(3,6))\n",
    "long = np.copy(temp)\n",
    "print(long,'\\n')\n",
    "print(np.vsplit(long,1),'\\n')\n",
    "print(np.hsplit(long,3),'\\n')"
   ]
  },
  {
   "cell_type": "code",
   "execution_count": null,
   "metadata": {
    "collapsed": true
   },
   "outputs": [],
   "source": []
  }
 ],
 "metadata": {
  "kernelspec": {
   "display_name": "Python 3",
   "language": "python",
   "name": "python3"
  },
  "language_info": {
   "codemirror_mode": {
    "name": "ipython",
    "version": 3
   },
   "file_extension": ".py",
   "mimetype": "text/x-python",
   "name": "python",
   "nbconvert_exporter": "python",
   "pygments_lexer": "ipython3",
   "version": "3.5.3"
  }
 },
 "nbformat": 4,
 "nbformat_minor": 2
}
