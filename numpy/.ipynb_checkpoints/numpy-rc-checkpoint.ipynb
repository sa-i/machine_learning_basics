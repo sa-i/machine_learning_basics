{
 "cells": [
  {
   "cell_type": "code",
   "execution_count": 1,
   "metadata": {
    "collapsed": true
   },
   "outputs": [],
   "source": [
    "# memory usage and time stamping - #1\n",
    "#importing lib\n",
    "import numpy as np\n",
    "import time \n",
    "import sys"
   ]
  },
  {
   "cell_type": "code",
   "execution_count": 2,
   "metadata": {},
   "outputs": [
    {
     "name": "stdout",
     "output_type": "stream",
     "text": [
      "python list takes 28000 bytes\n",
      "numpy array takes 4000 bytes\n"
     ]
    },
    {
     "data": {
      "text/plain": [
       "(4, 1000)"
      ]
     },
     "execution_count": 2,
     "metadata": {},
     "output_type": "execute_result"
    }
   ],
   "source": [
    "# Memory usage\n",
    "# python list\n",
    "py_list = range(1000)                                                    #python list\n",
    "print('python list takes',sys.getsizeof(7)*len(py_list),'bytes')         # 7* can be any number\n",
    "\n",
    "#numpy array\n",
    "np_array = np.arange(1000)\n",
    "print('numpy array takes',np_array.size*np_array.itemsize,'bytes')\n",
    "np_array.itemsize,np_array.size"
   ]
  },
  {
   "cell_type": "code",
   "execution_count": 3,
   "metadata": {},
   "outputs": [
    {
     "name": "stdout",
     "output_type": "stream",
     "text": [
      "time taken for python list : 874.352216720581 ms\n",
      "time taken for numpy array : 152.37975120544434 ms\n"
     ]
    }
   ],
   "source": [
    "# Time taken by numpy and python list\n",
    "array_size = 10000000                                                   # 10 million ,a consideribly large size helps understand the time difference better\n",
    "\n",
    "# Python list\n",
    "py_list1 = range(array_size)\n",
    "py_list2 = range(array_size)\n",
    "\n",
    "py_start = time.time()                                                  # capturing a time instance(similar to a stop watch)\n",
    "result = [(x + y) for x,y in zip(py_list1,py_list2)]                    # performing addiiton of the two lists\n",
    "py_end = time.time()                                                    # capturing a second  time instance(the difference gives the time taken for the operation)\n",
    "print('time taken for python list :',(py_end - py_start) * 1000,'ms')   # By default the time is in seconds *1000 coverts it to milliseonds\n",
    "\n",
    "# numpy array\n",
    "np_array1 = np.arange(array_size)\n",
    "np_array2 = np.arange(array_size)\n",
    "\n",
    "np_start = time.time()\n",
    "result = np_array1 + np_array2\n",
    "np_end = time.time()\n",
    "print('time taken for numpy array :',(np_end - np_start) * 1000,'ms')"
   ]
  },
  {
   "cell_type": "code",
   "execution_count": 2,
   "metadata": {},
   "outputs": [
    {
     "data": {
      "text/html": [
       "<iframe width=\"560\" height=\"315\" src=\"https://www.youtube.com/embed/oe_WEyntm8Y?list=PLRzT9zpsdiLCnM4w0u5LmNZ6OKg9lENS0\" frameborder=\"0\" allowfullscreen></iframe>"
      ],
      "text/plain": [
       "<IPython.core.display.HTML object>"
      ]
     },
     "metadata": {},
     "output_type": "display_data"
    }
   ],
   "source": [
    "%%html\n",
    "<iframe width=\"560\" height=\"315\" src=\"https://www.youtube.com/embed/oe_WEyntm8Y?list=PLRzT9zpsdiLCnM4w0u5LmNZ6OKg9lENS0\" frameborder=\"0\" allowfullscreen></iframe>"
   ]
  },
  {
   "cell_type": "code",
   "execution_count": 4,
   "metadata": {},
   "outputs": [
    {
     "name": "stdout",
     "output_type": "stream",
     "text": [
      "[1 2 3] = array a (1D array)\n",
      "\n",
      "[[ 2.  4.  5.]\n",
      " [ 5.  3.  9.]] = array b (2D array)\n",
      "\n",
      "[[[ 3.2  5.   6. ]\n",
      "  [ 4.1  7.   9. ]]\n",
      "\n",
      " [[ 2.   4.   5. ]\n",
      "  [ 7.   4.   9. ]]] = array c (multiple arrays)\n"
     ]
    }
   ],
   "source": [
    "# Creating arrays - #2.1\n",
    "array_a = np.array([1,2,3])                                              # create 1D array\n",
    "array_b = np.array([[2,4,5],[5,3,9]],dtype=float)                        # creating a 2x3 matrix with values as type float\n",
    "array_c = np.array([[(3.2,5,6),(4.1,7,9)],[(2,4,5),(7,4,9)]],dtype=float)# creating multple arrays with data type as float\n",
    "\n",
    "print(array_a,'= array a (1D array)\\n')\n",
    "print(array_b,'= array b (2D array)\\n')\n",
    "print(array_c,'= array c (multiple arrays)')"
   ]
  },
  {
   "cell_type": "code",
   "execution_count": 3,
   "metadata": {},
   "outputs": [
    {
     "data": {
      "text/html": [
       "<iframe width=\"560\" height=\"315\" src=\"https://www.youtube.com/embed/Y9jZJ9edRWw?list=PLRzT9zpsdiLCnM4w0u5LmNZ6OKg9lENS0\" frameborder=\"0\" allowfullscreen></iframe>"
      ],
      "text/plain": [
       "<IPython.core.display.HTML object>"
      ]
     },
     "metadata": {},
     "output_type": "display_data"
    }
   ],
   "source": [
    "%%html\n",
    "<iframe width=\"560\" height=\"315\" src=\"https://www.youtube.com/embed/Y9jZJ9edRWw?list=PLRzT9zpsdiLCnM4w0u5LmNZ6OKg9lENS0\" frameborder=\"0\" allowfullscreen></iframe>"
   ]
  },
  {
   "cell_type": "code",
   "execution_count": 5,
   "metadata": {},
   "outputs": [
    {
     "name": "stdout",
     "output_type": "stream",
     "text": [
      "[[ 0.  0.  0.]\n",
      " [ 0.  0.  0.]\n",
      " [ 0.  0.  0.]] = zeros array \n",
      "\n",
      "[[ 1.  1.  1.  1.]\n",
      " [ 1.  1.  1.  1.]\n",
      " [ 1.  1.  1.  1.]] = ones array\n",
      "\n",
      "[[ 0.  0.  0.  0.]\n",
      " [ 0.  0.  0.  0.]\n",
      " [ 0.  0.  0.  0.]] = empty array\n",
      "\n",
      "[[ 1.  0.  0.]\n",
      " [ 0.  1.  0.]\n",
      " [ 0.  0.  1.]] = identity array\n",
      "\n",
      "[[ 0.47462207  0.79551999]\n",
      " [ 0.79322542  0.27434081]\n",
      " [ 0.97502781  0.13093778]] = random array \n",
      "\n",
      "[[6 6]\n",
      " [6 6]] = constant array \n",
      "\n"
     ]
    }
   ],
   "source": [
    "# Creating arrays - #2.2\n",
    "# Creating arrays with place holders\n",
    "\n",
    "zeros_array = np.zeros((3,3))                                            # creates a 3x3 matrix with zeros\n",
    "ones_array = np.ones((3,4))                                              # creates a 3x4 array with ones\n",
    "empty_array = np.empty((3,4))                                            # creates an empty array with dimensions 3x4\n",
    "eye_array = np.eye(3)                                                    # creates an identity matrix of 3x3\n",
    "random_array = np.random.random((3,2))                                   # creates a 3x3 array with random variables\n",
    "full_array = np.full((2,2),6)                                            #creates an array with constant number 6\n",
    "\n",
    "print(zeros_array,'= zeros array \\n')\n",
    "print(ones_array,'= ones array\\n')\n",
    "print(empty_array,'= empty array\\n')\n",
    "print(eye_array,'= identity array\\n')\n",
    "print(random_array,'= random array \\n')\n",
    "print(full_array,'= constant array \\n')"
   ]
  },
  {
   "cell_type": "code",
   "execution_count": 5,
   "metadata": {},
   "outputs": [
    {
     "data": {
      "text/html": [
       "<iframe width=\"560\" height=\"315\" src=\"https://www.youtube.com/embed/cf5XyJ5hNQ4?list=PLRzT9zpsdiLCnM4w0u5LmNZ6OKg9lENS0\" frameborder=\"0\" allowfullscreen></iframe>"
      ],
      "text/plain": [
       "<IPython.core.display.HTML object>"
      ]
     },
     "metadata": {},
     "output_type": "display_data"
    }
   ],
   "source": [
    "%%html\n",
    "<iframe width=\"560\" height=\"315\" src=\"https://www.youtube.com/embed/cf5XyJ5hNQ4?list=PLRzT9zpsdiLCnM4w0u5LmNZ6OKg9lENS0\" frameborder=\"0\" allowfullscreen></iframe>"
   ]
  },
  {
   "cell_type": "code",
   "execution_count": 6,
   "metadata": {},
   "outputs": [
    {
     "name": "stdout",
     "output_type": "stream",
     "text": [
      "[[3 2 1 4]\n",
      " [7 5 9 2]] = Array\n",
      "\n",
      " (2, 4) = shape the array / dimensions of the array\n",
      "\n",
      "2 length of the array\n",
      "\n",
      "2 = number of array dimensions\n",
      "\n",
      "8 = number of array elements\n",
      "\n",
      "int32 = data type of the array elements\n",
      "\n",
      "int32 = name of the data type\n",
      "\n",
      "[[ 3.  2.  1.  4.]\n",
      " [ 7.  5.  9.  2.]] = convert an array to a different type\n",
      "\n"
     ]
    }
   ],
   "source": [
    "# Array inspection - #3\n",
    "\n",
    "ins_array = np.array([[3,2,1,4],[7,5,9,2]])                                  # creating a 2x4 array(inspection array)\n",
    "\n",
    "print(ins_array,'= Array')                                                   #displaying the array\n",
    "print('\\n',ins_array.shape,'= shape the array / dimensions of the array\\n')\n",
    "print(len(ins_array),'length of the array\\n')\n",
    "print(ins_array.ndim,'= number of array dimensions\\n')\n",
    "print(ins_array.size,'= number of array elements\\n')\n",
    "print(ins_array.dtype,'= data type of the array elements\\n')\n",
    "print(ins_array.dtype.name,'= name of the data type\\n')\n",
    "print(ins_array.astype(float),'= convert an array to a different type\\n') "
   ]
  },
  {
   "cell_type": "code",
   "execution_count": 7,
   "metadata": {},
   "outputs": [
    {
     "data": {
      "text/html": [
       "<iframe width=\"560\" height=\"315\" src=\"https://www.youtube.com/embed/mpqGel6QqIQ?list=PLRzT9zpsdiLCnM4w0u5LmNZ6OKg9lENS0\" frameborder=\"0\" allowfullscreen></iframe>"
      ],
      "text/plain": [
       "<IPython.core.display.HTML object>"
      ]
     },
     "metadata": {},
     "output_type": "display_data"
    }
   ],
   "source": [
    "%%html\n",
    "<iframe width=\"560\" height=\"315\" src=\"https://www.youtube.com/embed/mpqGel6QqIQ?list=PLRzT9zpsdiLCnM4w0u5LmNZ6OKg9lENS0\" frameborder=\"0\" allowfullscreen></iframe>"
   ]
  },
  {
   "cell_type": "code",
   "execution_count": 7,
   "metadata": {},
   "outputs": [
    {
     "name": "stdout",
     "output_type": "stream",
     "text": [
      "[[2 3]\n",
      " [5 7]]  = array A\n",
      "\n",
      "[[4 2]\n",
      " [6 8]]  = array B\n",
      "\n",
      "[[-2  1]\n",
      " [-1 -1]]  = subtraction\n",
      "\n",
      "[[-2  1]\n",
      " [-1 -1]] = subtraction using numpy\n",
      "\n",
      "[[ 6  5]\n",
      " [11 15]]  = addition\n",
      "\n",
      "[[ 6  5]\n",
      " [11 15]] = addition using numpy\n",
      "\n",
      "[[ 0.5         1.5       ]\n",
      " [ 0.83333333  0.875     ]]  = division\n",
      "\n",
      "[[ 0.5         1.5       ]\n",
      " [ 0.83333333  0.875     ]] = division using numpy\n",
      "\n",
      "[[ 8  6]\n",
      " [30 56]]  = multiplication\n",
      "\n",
      "[[ 8  6]\n",
      " [30 56]] = multiplication using numpy\n",
      "\n"
     ]
    }
   ],
   "source": [
    "# Arithmetic opreations - $4.1\n",
    "\n",
    "array_a = np.array([[2,3],[5,7]])                                          # creating array A 2x2\n",
    "array_b = np.array([[4,2],[6,8]])                                          # creating array B 2x2\n",
    "\n",
    "print(array_a,' = array A\\n')\n",
    "print(array_b,' = array B\\n')\n",
    "\n",
    "print(array_a - array_b,' = subtraction\\n')                                #subtracting two arrays normal operation\n",
    "print(np.subtract(array_a,array_b),'= subtraction using numpy\\n')\n",
    "\n",
    "print(array_a + array_b,' = addition\\n')                                   #addition two arrays normal operation\n",
    "print(np.add(array_a,array_b),'= addition using numpy\\n')\n",
    "\n",
    "print(array_a / array_b,' = division\\n')                                   #dividing two arrays normal operation\n",
    "print(np.divide(array_a,array_b),'= division using numpy\\n')\n",
    "\n",
    "print(array_a * array_b,' = multiplication\\n')                             #multiplying two arrays normal operation\n",
    "print(np.multiply(array_a,array_b),'= multiplication using numpy\\n')"
   ]
  },
  {
   "cell_type": "code",
   "execution_count": 8,
   "metadata": {},
   "outputs": [
    {
     "data": {
      "text/html": [
       "<iframe width=\"560\" height=\"315\" src=\"https://www.youtube.com/embed/6rRc_6XFzdM?list=PLRzT9zpsdiLCnM4w0u5LmNZ6OKg9lENS0\" frameborder=\"0\" allowfullscreen></iframe>"
      ],
      "text/plain": [
       "<IPython.core.display.HTML object>"
      ]
     },
     "metadata": {},
     "output_type": "display_data"
    }
   ],
   "source": [
    "%%html\n",
    "<iframe width=\"560\" height=\"315\" src=\"https://www.youtube.com/embed/6rRc_6XFzdM?list=PLRzT9zpsdiLCnM4w0u5LmNZ6OKg9lENS0\" frameborder=\"0\" allowfullscreen></iframe>"
   ]
  },
  {
   "cell_type": "code",
   "execution_count": 8,
   "metadata": {},
   "outputs": [
    {
     "name": "stdout",
     "output_type": "stream",
     "text": [
      "[[2 3]\n",
      " [5 7]] = array A\n",
      "\n",
      "[[    7.3890561     20.08553692]\n",
      " [  148.4131591   1096.63315843]]  = exponentitation\n",
      "\n",
      "[[ 1.41421356  1.73205081]\n",
      " [ 2.23606798  2.64575131]] = Square root\n",
      "\n",
      "[[ 0.90929743  0.14112001]\n",
      " [-0.95892427  0.6569866 ]]  = sines\n",
      "\n",
      "[[-0.41614684 -0.9899925 ]\n",
      " [ 0.28366219  0.75390225]]  = cosine\n",
      "\n",
      "[[ 0.69314718  1.09861229]\n",
      " [ 1.60943791  1.94591015]]  = natural logarithm\n",
      "\n",
      "[[ 4  6]\n",
      " [10 14]]  = dot product\n",
      "\n"
     ]
    }
   ],
   "source": [
    "# Arithmetic opreations - $4.2\n",
    "print(array_a,'= array A\\n')\n",
    "\n",
    "print(np.exp(array_a),' = exponentitation\\n')                           # returns the exponent of the array\n",
    "print(np.sqrt(array_a),'= Square root\\n')                               # returns the square root of the array\n",
    "print(np.sin(array_a),' = sines\\n')                                     # prints the sines of the array\n",
    "print(np.cos(array_a),' = cosine\\n')                                    # returns element wise cosine\n",
    "print(np.log(array_a),' = natural logarithm\\n')                         # returns element wise natural logarithm\n",
    "print(array_a.dot(2),' = dot product\\n')                                # dot product of the array"
   ]
  },
  {
   "cell_type": "code",
   "execution_count": 9,
   "metadata": {},
   "outputs": [
    {
     "data": {
      "text/html": [
       "<iframe width=\"560\" height=\"315\" src=\"https://www.youtube.com/embed/9AAayMNmyS8?list=PLRzT9zpsdiLCnM4w0u5LmNZ6OKg9lENS0\" frameborder=\"0\" allowfullscreen></iframe>"
      ],
      "text/plain": [
       "<IPython.core.display.HTML object>"
      ]
     },
     "metadata": {},
     "output_type": "display_data"
    }
   ],
   "source": [
    "%%html\n",
    "<iframe width=\"560\" height=\"315\" src=\"https://www.youtube.com/embed/9AAayMNmyS8?list=PLRzT9zpsdiLCnM4w0u5LmNZ6OKg9lENS0\" frameborder=\"0\" allowfullscreen></iframe>"
   ]
  },
  {
   "cell_type": "code",
   "execution_count": 9,
   "metadata": {},
   "outputs": [
    {
     "name": "stdout",
     "output_type": "stream",
     "text": [
      "[[2 3]\n",
      " [5 7]]  = array A\n",
      "\n",
      "[[4 2]\n",
      " [6 8]]  = array B\n",
      "\n",
      "[[False False]\n",
      " [False False]]  = comparison\n",
      "\n",
      "[[ True  True]\n",
      " [False False]]  = comparison\n",
      "\n",
      "array A and array B are equal =  False\n"
     ]
    }
   ],
   "source": [
    "# comparison and aggregate #5\n",
    "# Comparision\n",
    "\n",
    "print(array_a,' = array A\\n')\n",
    "print(array_b,' = array B\\n')\n",
    "\n",
    "print(array_a == array_b,' = comparison\\n')                                # element wise comparison\n",
    "print(array_a<5 ,' = comparison\\n')                                        # prints true for all values < 5\n",
    "print('array A and array B are equal = ',np.array_equal(array_a,array_b))  # array wise comparison"
   ]
  },
  {
   "cell_type": "code",
   "execution_count": 10,
   "metadata": {},
   "outputs": [
    {
     "data": {
      "text/html": [
       "<iframe width=\"560\" height=\"315\" src=\"https://www.youtube.com/embed/LBYxxBUijtk?list=PLRzT9zpsdiLCnM4w0u5LmNZ6OKg9lENS0\" frameborder=\"0\" allowfullscreen></iframe>"
      ],
      "text/plain": [
       "<IPython.core.display.HTML object>"
      ]
     },
     "metadata": {},
     "output_type": "display_data"
    }
   ],
   "source": [
    "%%html\n",
    "<iframe width=\"560\" height=\"315\" src=\"https://www.youtube.com/embed/LBYxxBUijtk?list=PLRzT9zpsdiLCnM4w0u5LmNZ6OKg9lENS0\" frameborder=\"0\" allowfullscreen></iframe>"
   ]
  },
  {
   "cell_type": "code",
   "execution_count": 10,
   "metadata": {},
   "outputs": [
    {
     "name": "stdout",
     "output_type": "stream",
     "text": [
      "[[2 3]\n",
      " [5 7]]  = array A\n",
      "\n",
      "17 --- sum\n",
      "\n",
      "2 --- minimum value\n",
      "\n",
      "[5 7] --- max value\n",
      "\n",
      "4.25 --- mean\n",
      "\n",
      "1.92028643697 --- std\n",
      "\n"
     ]
    }
   ],
   "source": [
    "# Aggregate functions\n",
    "\n",
    "print(array_a,' = array A\\n')                                             # display array\n",
    "print(array_a.sum(),'--- sum\\n')                                          # array wise sum \n",
    "print(array_a.min(),'--- minimum value\\n')                                # array wise minimum value\n",
    "print(array_a.max(axis=0),'--- max value\\n')                              # maximum value of an array row\n",
    "print(array_a.mean(),'--- mean\\n')                                        # mean of the array\n",
    "print(array_a.std(),'--- std\\n')                                          # standard deviation of the array    "
   ]
  },
  {
   "cell_type": "code",
   "execution_count": 11,
   "metadata": {
    "scrolled": true
   },
   "outputs": [
    {
     "name": "stdout",
     "output_type": "stream",
     "text": [
      "[[ 0.65564201  0.65019195  0.68340442]\n",
      " [ 0.12041782  0.22482636  0.26998412]\n",
      " [ 0.71882749  0.43499451  0.26807501]\n",
      " [ 0.84161504  0.07437956  0.45591895]\n",
      " [ 0.78244078  0.31479992  0.3246319 ]\n",
      " [ 0.54346314  0.86662959  0.41075349]\n",
      " [ 0.91351814  0.0184932   0.49684653]\n",
      " [ 0.02273507  0.07261549  0.662182  ]]  = random variable array\n",
      "\n",
      "[[ 0.02273507  0.0184932   0.26807501]\n",
      " [ 0.12041782  0.07261549  0.26998412]\n",
      " [ 0.54346314  0.07437956  0.3246319 ]\n",
      " [ 0.65564201  0.22482636  0.41075349]\n",
      " [ 0.71882749  0.31479992  0.45591895]\n",
      " [ 0.78244078  0.43499451  0.49684653]\n",
      " [ 0.84161504  0.65019195  0.662182  ]\n",
      " [ 0.91351814  0.86662959  0.68340442]]  = sorting of array colom wise\n"
     ]
    }
   ],
   "source": [
    "# sorting arrays #6\n",
    "\n",
    "rand_array =np.random.random((8,3))                                      # Creating a 8x1 array of random variables\n",
    "\n",
    "print(rand_array,' = random variable array\\n')                           # displaying array\n",
    "print(np.sort(rand_array,axis=0),' = sorting of array colom wise')       # By default the sorting is applied on row wise axis = 1 changes it to colom wise   "
   ]
  },
  {
   "cell_type": "code",
   "execution_count": 11,
   "metadata": {},
   "outputs": [
    {
     "data": {
      "text/html": [
       "<iframe width=\"560\" height=\"315\" src=\"https://www.youtube.com/embed/JUd_PIr91e0?list=PLRzT9zpsdiLCnM4w0u5LmNZ6OKg9lENS0\" frameborder=\"0\" allowfullscreen></iframe>"
      ],
      "text/plain": [
       "<IPython.core.display.HTML object>"
      ]
     },
     "metadata": {},
     "output_type": "display_data"
    }
   ],
   "source": [
    "%%html\n",
    "<iframe width=\"560\" height=\"315\" src=\"https://www.youtube.com/embed/JUd_PIr91e0?list=PLRzT9zpsdiLCnM4w0u5LmNZ6OKg9lENS0\" frameborder=\"0\" allowfullscreen></iframe>"
   ]
  },
  {
   "cell_type": "code",
   "execution_count": 12,
   "metadata": {},
   "outputs": [
    {
     "name": "stdout",
     "output_type": "stream",
     "text": [
      "[ 0.41377433  0.42835517  0.38716187  0.02326561  0.89317456  0.58834095\n",
      "  0.93097992  0.05222874  0.90970461]  = array A\n",
      "\n",
      "the 7th element is =  0.930979919349\n",
      "[[2 0 4 1 3]\n",
      " [1 3 3 1 1]]  = array B\n",
      "\n",
      "2nd coloum 2nd row =  3\n"
     ]
    }
   ],
   "source": [
    "# Subsetting #7\n",
    "\n",
    "array_a = np.random.random(9)                                           # create an array of 9 elements\n",
    "print(array_a,' = array A\\n')                                           # Display array\n",
    "print('the 7th element is = ',array_a[6])                               # selecting the 7th element in array A\n",
    "\n",
    "array_b = np.random.randint(5, size=(2,5))                              # create random array \n",
    "print(array_b,' = array B\\n')                                           # Display array\n",
    "print('2nd coloum 2nd row = ',array_b[1,1])                             # selecting the element from 2nd row 2nd coloumn"
   ]
  },
  {
   "cell_type": "code",
   "execution_count": 12,
   "metadata": {},
   "outputs": [
    {
     "data": {
      "text/html": [
       "<iframe width=\"560\" height=\"315\" src=\"https://www.youtube.com/embed/gjbQv8ncl8s?list=PLRzT9zpsdiLCnM4w0u5LmNZ6OKg9lENS0\" frameborder=\"0\" allowfullscreen></iframe>"
      ],
      "text/plain": [
       "<IPython.core.display.HTML object>"
      ]
     },
     "metadata": {},
     "output_type": "display_data"
    }
   ],
   "source": [
    "%%html\n",
    "<iframe width=\"560\" height=\"315\" src=\"https://www.youtube.com/embed/gjbQv8ncl8s?list=PLRzT9zpsdiLCnM4w0u5LmNZ6OKg9lENS0\" frameborder=\"0\" allowfullscreen></iframe>"
   ]
  },
  {
   "cell_type": "code",
   "execution_count": 13,
   "metadata": {},
   "outputs": [
    {
     "name": "stdout",
     "output_type": "stream",
     "text": [
      "[ 0.41377433  0.42835517  0.38716187  0.02326561  0.89317456  0.58834095\n",
      "  0.93097992  0.05222874  0.90970461]  = array A\n",
      "\n",
      "the first 4 elements are =  [ 0.41377433  0.42835517  0.38716187  0.02326561] \n",
      "\n",
      "[ 0.90970461  0.05222874  0.93097992  0.58834095  0.89317456  0.02326561\n",
      "  0.38716187  0.42835517  0.41377433]  = reversed array A\n",
      "\n",
      "[[2 0 4 1 3]\n",
      " [1 3 3 1 1]]  = array B\n",
      "\n",
      "[0 3] = row 0 & 1 in coloumn 1 \n",
      "\n",
      "[[2 0 4 1 3]]  = row 0 \n",
      "\n"
     ]
    }
   ],
   "source": [
    "# slicing #8\n",
    "\n",
    "temp_array = np.random.randint(10,size=(2,3))                            # Create a random array and store it in a temp array \n",
    "#array_a = temp_array                                                    # assign array A to the temp array\n",
    "print(array_a,' = array A\\n')                                            # display array A\n",
    "print('the first 4 elements are = ',array_a[0:4],'\\n')                   # Display till element 4\n",
    "print(array_a[::-1],' = reversed array A\\n')                             # reverse the array A  \n",
    "\n",
    "#array_b = temp_array                                                    # assign array B to the temp array with dimensions 2x3\n",
    "print(array_b,' = array B\\n')                                            # Display array B\n",
    "\n",
    "print(array_b[0:2,1],'= row 0 & 1 in coloumn 1 \\n')                      # Select items at rows 0 and 1 in coloumn 1\n",
    "print(array_b[:1],' = row 0 \\n')                                         # Select all items at row 0"
   ]
  },
  {
   "cell_type": "code",
   "execution_count": 13,
   "metadata": {},
   "outputs": [
    {
     "data": {
      "text/html": [
       "<iframe width=\"560\" height=\"315\" src=\"https://www.youtube.com/embed/AL_j0SY0c04?list=PLRzT9zpsdiLCnM4w0u5LmNZ6OKg9lENS0\" frameborder=\"0\" allowfullscreen></iframe>"
      ],
      "text/plain": [
       "<IPython.core.display.HTML object>"
      ]
     },
     "metadata": {},
     "output_type": "display_data"
    }
   ],
   "source": [
    "%%html\n",
    "<iframe width=\"560\" height=\"315\" src=\"https://www.youtube.com/embed/AL_j0SY0c04?list=PLRzT9zpsdiLCnM4w0u5LmNZ6OKg9lENS0\" frameborder=\"0\" allowfullscreen></iframe>"
   ]
  },
  {
   "cell_type": "code",
   "execution_count": 14,
   "metadata": {},
   "outputs": [
    {
     "name": "stdout",
     "output_type": "stream",
     "text": [
      "[[2 0 4 1 3]\n",
      " [1 3 3 1 1]]  = array B\n",
      "\n",
      "[2 0 1 1 1 1] \n",
      "\n"
     ]
    }
   ],
   "source": [
    "# boolean indexing #9\n",
    "\n",
    "print(array_b,' = array B\\n')                                            # Disaplay array B\n",
    "print(array_b[array_b<3],'\\n')                                           # Display all elements in array B less than 3"
   ]
  },
  {
   "cell_type": "code",
   "execution_count": 14,
   "metadata": {},
   "outputs": [
    {
     "data": {
      "text/html": [
       "<iframe width=\"560\" height=\"315\" src=\"https://www.youtube.com/embed/mHfdohG0mDs?list=PLRzT9zpsdiLCnM4w0u5LmNZ6OKg9lENS0\" frameborder=\"0\" allowfullscreen></iframe>"
      ],
      "text/plain": [
       "<IPython.core.display.HTML object>"
      ]
     },
     "metadata": {},
     "output_type": "display_data"
    }
   ],
   "source": [
    "%%html\n",
    "<iframe width=\"560\" height=\"315\" src=\"https://www.youtube.com/embed/mHfdohG0mDs?list=PLRzT9zpsdiLCnM4w0u5LmNZ6OKg9lENS0\" frameborder=\"0\" allowfullscreen></iframe>"
   ]
  },
  {
   "cell_type": "code",
   "execution_count": 15,
   "metadata": {},
   "outputs": [
    {
     "name": "stdout",
     "output_type": "stream",
     "text": [
      "[[2 0 4 1 3]\n",
      " [1 3 3 1 1]]  = array B\n",
      "\n",
      "[[2 1]\n",
      " [0 3]\n",
      " [4 3]\n",
      " [1 1]\n",
      " [3 1]]  = transposed array B(numpy)\n",
      "\n",
      "[[2 1]\n",
      " [0 3]\n",
      " [4 3]\n",
      " [1 1]\n",
      " [3 1]]  = transposed array B\n",
      "\n",
      "[ 0.41377433  0.42835517  0.38716187  0.02326561  0.89317456  0.58834095\n",
      "  0.93097992  0.05222874  0.90970461]  = array A\n",
      "\n",
      "[[2 0 4 1 3]\n",
      " [1 3 3 1 1]]  = array B\n",
      "\n",
      "[2 0 4 1 3 1 3 3 1 1]  = flattened array B\n",
      "\n",
      "[[ 0.41377433  0.42835517]\n",
      " [ 0.38716187  0.02326561]\n",
      " [ 0.89317456  0.58834095]\n",
      " [ 0.93097992  0.05222874]]  = new array A(numpy,resize)\n",
      "\n",
      "[ 0.41377433  0.42835517  0.38716187  0.02326561  0.89317456  0.58834095\n",
      "  0.93097992  0.05222874  0.90970461]  = array A\n",
      "\n",
      "[ 0.41377433  0.42835517  0.38716187  0.02326561  0.89317456  0.58834095\n",
      "  0.93097992  0.05222874  0.90970461  3.          8.        ]  = array 1(append)\n",
      "\n",
      "[  4.13774325e-01   4.28355170e-01   3.87161866e-01   2.32656111e-02\n",
      "   8.93174561e-01   5.88340948e-01   9.30979919e-01   1.00000000e+02\n",
      "   5.22287449e-02   9.09704606e-01   3.00000000e+00   8.00000000e+00]  = array 1(insert)\n",
      "\n",
      "[ 0.41377433  0.42835517  0.38716187  0.02326561  0.89317456  0.58834095\n",
      "  0.93097992  0.05222874  0.90970461  3.          8.        ]  = array 1(delete)\n",
      "\n"
     ]
    }
   ],
   "source": [
    "# array manipulation #10\n",
    "\n",
    "# Transposing\n",
    "print(array_b,' = array B\\n')                                            # Dispplay array B\n",
    "print(np.transpose(array_b),' = transposed array B(numpy)\\n')            # numpy function for transposing an array\n",
    "print(array_b.T,' = transposed array B\\n')                               # transposing array \n",
    "\n",
    "# Changing shape of the array\n",
    "print(array_a,' = array A\\n')\n",
    "print(array_b,' = array B\\n')\n",
    "print(np.ravel(array_b),' = flattened array B\\n')                        # reduce from n-Dimensions to 1D array\n",
    "#print(array_a.reshape(2,4),' = new array A\\n')                           # reshapes an array but does not change data\n",
    "print(np.resize(array_a,(4,2)),' = new array A(numpy,resize)\\n')         # returns a new array with the size 4x2\n",
    "\n",
    "# adding/removing elements \n",
    "\n",
    "array_1 = np.append(array_a,(3,8))                                       # adding items(3,2) to array 1\n",
    "print(array_a,' = array A\\n')                                            # Display array A\n",
    "print(array_1,' = array 1(append)\\n')                                    # Display array 1\n",
    "array_1 = np.insert(array_1,7,100)                                       # insert value 100 at position/element 7 in array_1\n",
    "print(array_1,' = array 1(insert)\\n')                                    # Display array 1  \n",
    "print(np.delete(array_1,[7]),' = array 1(delete)\\n')                     # deletes values of element 7 in array 1 "
   ]
  },
  {
   "cell_type": "code",
   "execution_count": 15,
   "metadata": {},
   "outputs": [
    {
     "data": {
      "text/html": [
       "<iframe width=\"560\" height=\"315\" src=\"https://www.youtube.com/embed/uDiNB55nBZU?list=PLRzT9zpsdiLCnM4w0u5LmNZ6OKg9lENS0\" frameborder=\"0\" allowfullscreen></iframe>"
      ],
      "text/plain": [
       "<IPython.core.display.HTML object>"
      ]
     },
     "metadata": {},
     "output_type": "display_data"
    }
   ],
   "source": [
    "%%html\n",
    "<iframe width=\"560\" height=\"315\" src=\"https://www.youtube.com/embed/uDiNB55nBZU?list=PLRzT9zpsdiLCnM4w0u5LmNZ6OKg9lENS0\" frameborder=\"0\" allowfullscreen></iframe>"
   ]
  },
  {
   "cell_type": "code",
   "execution_count": 16,
   "metadata": {},
   "outputs": [
    {
     "name": "stdout",
     "output_type": "stream",
     "text": [
      "[[2 3]\n",
      " [4 5]]  = array A\n",
      "\n",
      "[[9 8]\n",
      " [7 6]]  = array B\n",
      "\n",
      "[[2 3 9 8]\n",
      " [4 5 7 6]]  = concatenated array\n",
      "\n",
      "[[2 3]\n",
      " [4 5]\n",
      " [9 8]\n",
      " [7 6]]  = Vstack(numpy)\n",
      "\n",
      "[[2 3]\n",
      " [4 5]\n",
      " [9 8]\n",
      " [7 6]]  = row stacking\n",
      "\n",
      "[[2 3]\n",
      " [4 5]\n",
      " [9 8]\n",
      " [7 6]]  = row stacking(r_)\n",
      "\n",
      "[[2 3 9 8]\n",
      " [4 5 7 6]]  = Vstack(numpy)\n",
      "\n",
      "[[2 3 9 8]\n",
      " [4 5 7 6]]  = coloumn stacking\n",
      "\n",
      "[[2 3 9 8]\n",
      " [4 5 7 6]]  = coloumn stacking(c_)\n",
      "\n"
     ]
    }
   ],
   "source": [
    "# combining Arrays #11\n",
    "\n",
    "array_a = np.array([[2,3],[4,5]])                                         # create a 2x2 array A \n",
    "array_b = np.array([[9,8],[7,6]])                                         # create a 2x2 array B\n",
    "\n",
    "print(array_a,' = array A\\n')                                             # Display array A\n",
    "print(array_b,' = array B\\n')                                             # Display array B\n",
    "\n",
    "print(np.concatenate((array_a,array_b),axis=1),' = concatenated array\\n') # concatenates array A and array B \n",
    "print(np.vstack((array_a,array_b)),' = Vstack(numpy)\\n')                  # stacking arrays row wise - method 1\n",
    "print(np.row_stack((array_a,array_b)),' = row stacking\\n')                # stacking arrays row wise - method 2\n",
    "print(np.r_[array_a,array_b],' = row stacking(r_)\\n')                     # stacking arrays row wise - method 3\n",
    "\n",
    "\n",
    "print(np.hstack((array_a,array_b)),' = Vstack(numpy)\\n')                  # stacking arrays coloumn wise - method 1\n",
    "print(np.column_stack((array_a,array_b)),' = coloumn stacking\\n')         # stacking arrays coloumn wise - method 2\n",
    "print(np.c_[array_a,array_b],' = coloumn stacking(c_)\\n')                 # stacking arrays coloumn wise - method 3"
   ]
  },
  {
   "cell_type": "code",
   "execution_count": 16,
   "metadata": {},
   "outputs": [
    {
     "data": {
      "text/html": [
       "<iframe width=\"560\" height=\"315\" src=\"https://www.youtube.com/embed/XcuZlbGBB7Y?list=PLRzT9zpsdiLCnM4w0u5LmNZ6OKg9lENS0\" frameborder=\"0\" allowfullscreen></iframe>"
      ],
      "text/plain": [
       "<IPython.core.display.HTML object>"
      ]
     },
     "metadata": {},
     "output_type": "display_data"
    }
   ],
   "source": [
    "%%html\n",
    "<iframe width=\"560\" height=\"315\" src=\"https://www.youtube.com/embed/XcuZlbGBB7Y?list=PLRzT9zpsdiLCnM4w0u5LmNZ6OKg9lENS0\" frameborder=\"0\" allowfullscreen></iframe>"
   ]
  },
  {
   "cell_type": "code",
   "execution_count": 17,
   "metadata": {},
   "outputs": [
    {
     "name": "stdout",
     "output_type": "stream",
     "text": [
      "[[2 7 4 9 0 4]\n",
      " [7 3 7 0 9 6]\n",
      " [9 5 9 4 9 7]]  = array 1\n",
      "\n",
      "[array([[2, 7, 4, 9, 0, 4],\n",
      "       [7, 3, 7, 0, 9, 6],\n",
      "       [9, 5, 9, 4, 9, 7]])]  = vsplit array\n",
      "\n",
      "[array([[2, 7],\n",
      "       [7, 3],\n",
      "       [9, 5]]), array([[4, 9],\n",
      "       [7, 0],\n",
      "       [9, 4]]), array([[0, 4],\n",
      "       [9, 6],\n",
      "       [9, 7]])]  = hsplit array\n",
      "\n"
     ]
    }
   ],
   "source": [
    "# splitting arrays #12\n",
    "\n",
    "rand_array = np.random.randint(10,size=(3,6))                             # create a 3x6 array with random numbers\n",
    "array_1 = np.copy(rand_array)                                             # copy rand_array to array_1\n",
    "\n",
    "print(array_1,' = array 1\\n')                                             # Display array 1\n",
    "print(np.vsplit(array_1,1),' = vsplit array\\n')                           # split the array vertically at the 1st index\n",
    "print(np.hsplit(array_1,3),' = hsplit array\\n')                           # split the array horizontlly at the 3rd index"
   ]
  },
  {
   "cell_type": "code",
   "execution_count": 17,
   "metadata": {},
   "outputs": [
    {
     "data": {
      "text/html": [
       "<iframe width=\"560\" height=\"315\" src=\"https://www.youtube.com/embed/ESTVjKZ9VP4?list=PLRzT9zpsdiLCnM4w0u5LmNZ6OKg9lENS0\" frameborder=\"0\" allowfullscreen></iframe>"
      ],
      "text/plain": [
       "<IPython.core.display.HTML object>"
      ]
     },
     "metadata": {},
     "output_type": "display_data"
    }
   ],
   "source": [
    "%%html\n",
    "<iframe width=\"560\" height=\"315\" src=\"https://www.youtube.com/embed/ESTVjKZ9VP4?list=PLRzT9zpsdiLCnM4w0u5LmNZ6OKg9lENS0\" frameborder=\"0\" allowfullscreen></iframe>"
   ]
  },
  {
   "cell_type": "code",
   "execution_count": 18,
   "metadata": {},
   "outputs": [
    {
     "name": "stdout",
     "output_type": "stream",
     "text": [
      "[[2 3]\n",
      " [4 5]]  = array A\n",
      "\n",
      "[[ 2.  3.]\n",
      " [ 4.  5.]]  = array B(.txt file)\n",
      "\n",
      "[[ 2.  3.]\n",
      " [ 4.  5.]]  = array C(.csv file)\n",
      "\n"
     ]
    }
   ],
   "source": [
    "# saving and loading files #13\n",
    "\n",
    "temp_array = np.random.randint(10,size=(6,6))                             # create a random array and store it in temp\n",
    "#array_a = np.copy(temp_array)                                            # copy temp array to array A\n",
    "np.savetxt('array_A.txt',array_a,delimiter=\" \")                           # save array A in a .txt file with delimiter as \" \"(space)\n",
    "np.savetxt('array_A.csv',array_a,delimiter=',')                           # save array A in a .csv file with delimiter as ',' (comma)\n",
    "print(array_a,' = array A\\n')                                             # Display array A \n",
    "\n",
    "# loading files\n",
    "\n",
    "array_b = np.loadtxt('array_A.txt')                                       # load array_A.txt into array_b\n",
    "array_c = np.genfromtxt('array_A.csv',delimiter=',')                      # load values of array_A.txt into array_c \n",
    "print(array_b,' = array B(.txt file)\\n')                                  # Display array B (loaded from txt file)\n",
    "print(array_c,' = array C(.csv file)\\n')                                  # Display array C (loaded from csv file)"
   ]
  },
  {
   "cell_type": "code",
   "execution_count": 18,
   "metadata": {},
   "outputs": [
    {
     "data": {
      "text/html": [
       "<iframe width=\"560\" height=\"315\" src=\"https://www.youtube.com/embed/TFryxV0hhqE?list=PLRzT9zpsdiLCnM4w0u5LmNZ6OKg9lENS0\" frameborder=\"0\" allowfullscreen></iframe>"
      ],
      "text/plain": [
       "<IPython.core.display.HTML object>"
      ]
     },
     "metadata": {},
     "output_type": "display_data"
    }
   ],
   "source": [
    "%%html\n",
    "<iframe width=\"560\" height=\"315\" src=\"https://www.youtube.com/embed/TFryxV0hhqE?list=PLRzT9zpsdiLCnM4w0u5LmNZ6OKg9lENS0\" frameborder=\"0\" allowfullscreen></iframe>"
   ]
  },
  {
   "cell_type": "code",
   "execution_count": null,
   "metadata": {
    "collapsed": true
   },
   "outputs": [],
   "source": []
  }
 ],
 "metadata": {
  "kernelspec": {
   "display_name": "Python 3",
   "language": "python",
   "name": "python3"
  },
  "language_info": {
   "codemirror_mode": {
    "name": "ipython",
    "version": 3
   },
   "file_extension": ".py",
   "mimetype": "text/x-python",
   "name": "python",
   "nbconvert_exporter": "python",
   "pygments_lexer": "ipython3",
   "version": "3.6.1"
  }
 },
 "nbformat": 4,
 "nbformat_minor": 2
}
