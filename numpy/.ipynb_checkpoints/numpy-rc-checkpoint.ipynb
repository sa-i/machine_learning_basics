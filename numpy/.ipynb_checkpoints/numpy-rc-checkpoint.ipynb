{
 "cells": [
  {
   "cell_type": "code",
   "execution_count": 1,
   "metadata": {
    "collapsed": true
   },
   "outputs": [],
   "source": [
    "#importing lib\n",
    "import numpy as np\n",
    "import time \n",
    "import sys"
   ]
  },
  {
   "cell_type": "code",
   "execution_count": 2,
   "metadata": {},
   "outputs": [
    {
     "name": "stdout",
     "output_type": "stream",
     "text": [
      "python list takes 28000 bytes\n",
      "numpy array takes 4000 bytes\n"
     ]
    },
    {
     "data": {
      "text/plain": [
       "(4, 1000)"
      ]
     },
     "execution_count": 2,
     "metadata": {},
     "output_type": "execute_result"
    }
   ],
   "source": [
    "# Memory usage\n",
    "# python list\n",
    "py_list = range(1000) #python list\n",
    "print('python list takes',sys.getsizeof(7)*len(py_list),'bytes') # 7* can be any number\n",
    "\n",
    "#numpy array\n",
    "np_array = np.arange(1000)\n",
    "print('numpy array takes',np_array.size*np_array.itemsize,'bytes')\n",
    "np_array.itemsize,np_array.size"
   ]
  },
  {
   "cell_type": "code",
   "execution_count": 3,
   "metadata": {},
   "outputs": [
    {
     "name": "stdout",
     "output_type": "stream",
     "text": [
      "time taken for python list : 2327.955961227417 ms\n",
      "time taken for numpy array : 245.20421028137207 ms\n"
     ]
    }
   ],
   "source": [
    "# Time taken by numpy and python list\n",
    "array_size = 10000000 # 10 million ,a consideribly large size helps understand the time difference better\n",
    "\n",
    "# Python list\n",
    "py_list1 = range(array_size)\n",
    "py_list2 = range(array_size)\n",
    "\n",
    "py_start = time.time() # capturing a time instance(similar to a stop watch)\n",
    "result = [(x + y) for x,y in zip(py_list1,py_list2)] # performing addiiton of the two lists\n",
    "py_end = time.time() # capturing a second  time instance(the difference gives the time taken for the operation)\n",
    "print('time taken for python list :',(py_end - py_start) * 1000,'ms') # By default the time is in seconds *1000 coverts it to milliseonds\n",
    "\n",
    "# numpy array\n",
    "np_array1 = np.arange(array_size)\n",
    "np_array2 = np.arange(array_size)\n",
    "\n",
    "np_start = time.time()\n",
    "result = np_array1 + np_array2\n",
    "np_end = time.time()\n",
    "print('time taken for numpy array :',(np_end - np_start) * 1000,'ms')"
   ]
  },
  {
   "cell_type": "code",
   "execution_count": 4,
   "metadata": {},
   "outputs": [
    {
     "name": "stdout",
     "output_type": "stream",
     "text": [
      "[1 2 3] = array a (1D array)\n",
      "\n",
      "[[ 2.  4.  5.]\n",
      " [ 5.  3.  9.]] = array b (2D array)\n",
      "\n",
      "[[[ 3.2  5.   6. ]\n",
      "  [ 4.1  7.   9. ]]\n",
      "\n",
      " [[ 2.   4.   5. ]\n",
      "  [ 7.   4.   9. ]]] = array c (multiple arrays)\n"
     ]
    }
   ],
   "source": [
    "# Creating arrays\n",
    "array_a = np.array([1,2,3])   # create 1D array\n",
    "array_b = np.array([[2,4,5],[5,3,9]],dtype=float)   # creating a 2x3 matrix with values as type float\n",
    "array_c = np.array([[(3.2,5,6),(4.1,7,9)],[(2,4,5),(7,4,9)]],dtype=float)   # creating multple arrays with data type as float\n",
    "\n",
    "print(array_a,'= array a (1D array)\\n')\n",
    "print(array_b,'= array b (2D array)\\n')\n",
    "print(array_c,'= array c (multiple arrays)')"
   ]
  },
  {
   "cell_type": "code",
   "execution_count": 5,
   "metadata": {},
   "outputs": [
    {
     "name": "stdout",
     "output_type": "stream",
     "text": [
      "[[ 0.  0.  0.]\n",
      " [ 0.  0.  0.]\n",
      " [ 0.  0.  0.]] = zeros array \n",
      "\n",
      "[[ 1.  1.  1.  1.]\n",
      " [ 1.  1.  1.  1.]\n",
      " [ 1.  1.  1.  1.]] = ones array\n",
      "\n",
      "[[ 0.  0.  0.  0.]\n",
      " [ 0.  0.  0.  0.]\n",
      " [ 0.  0.  0.  0.]] = empty array\n",
      "\n",
      "[[ 1.  0.  0.]\n",
      " [ 0.  1.  0.]\n",
      " [ 0.  0.  1.]] = identity array\n",
      "\n",
      "[[ 0.35681947  0.25597036]\n",
      " [ 0.22127268  0.41168822]\n",
      " [ 0.03821682  0.9203678 ]] = random array \n",
      "\n",
      "[[6 6]\n",
      " [6 6]] = constant array \n",
      "\n"
     ]
    }
   ],
   "source": [
    "# Creating arrays with place holders\n",
    "\n",
    "zeros_array = np.zeros((3,3))  # creates a 3x3 matrix with zeros\n",
    "ones_array = np.ones((3,4))    # creates a 3x4 array with ones\n",
    "empty_array = np.empty((3,4))  # creates an empty array with dimensions 3x4\n",
    "eye_array = np.eye(3)          # creates an identity matrix of 3x3\n",
    "random_array = np.random.random((3,2)) # creates a 3x3 array with random variables\n",
    "full_array = np.full((2,2),6)  #creates an array with constant number 6\n",
    "\n",
    "print(zeros_array,'= zeros array \\n')\n",
    "print(ones_array,'= ones array\\n')\n",
    "print(empty_array,'= empty array\\n')\n",
    "print(eye_array,'= identity array\\n')\n",
    "print(random_array,'= random array \\n')\n",
    "print(full_array,'= constant array \\n')"
   ]
  },
  {
   "cell_type": "code",
   "execution_count": 6,
   "metadata": {},
   "outputs": [
    {
     "name": "stdout",
     "output_type": "stream",
     "text": [
      "[[3 2 1 4]\n",
      " [7 5 9 2]] = Array\n",
      "\n",
      " (2, 4) = shape the array / dimensions of the array\n",
      "\n",
      "2 length of the array\n",
      "\n",
      "2 = number of array dimensions\n",
      "\n",
      "8 = number of array elements\n",
      "\n",
      "int32 = data type of the array elements\n",
      "\n",
      "int32 = name of the data type\n",
      "\n",
      "[[ 3.  2.  1.  4.]\n",
      " [ 7.  5.  9.  2.]] = convert an array to a different type\n",
      "\n"
     ]
    }
   ],
   "source": [
    "# Array inspection\n",
    "\n",
    "ins_array = np.array([[3,2,1,4],[7,5,9,2]])   # creating a 2x4 array(inspection array)\n",
    "\n",
    "print(ins_array,'= Array')  #displaying the array\n",
    "print('\\n',ins_array.shape,'= shape the array / dimensions of the array\\n')\n",
    "print(len(ins_array),'length of the array\\n')\n",
    "print(ins_array.ndim,'= number of array dimensions\\n')\n",
    "print(ins_array.size,'= number of array elements\\n')\n",
    "print(ins_array.dtype,'= data type of the array elements\\n')\n",
    "print(ins_array.dtype.name,'= name of the data type\\n')\n",
    "print(ins_array.astype(float),'= convert an array to a different type\\n') "
   ]
  },
  {
   "cell_type": "code",
   "execution_count": 7,
   "metadata": {},
   "outputs": [
    {
     "name": "stdout",
     "output_type": "stream",
     "text": [
      "[[2 3]\n",
      " [5 7]]  = array A\n",
      "\n",
      "[[4 2]\n",
      " [6 8]]  = array B\n",
      "\n",
      "[[-2  1]\n",
      " [-1 -1]]  = subtraction\n",
      "\n",
      "[[-2  1]\n",
      " [-1 -1]] = subtraction using numpy\n",
      "\n",
      "[[ 6  5]\n",
      " [11 15]]  = addition\n",
      "\n",
      "[[ 6  5]\n",
      " [11 15]] = addition using numpy\n",
      "\n",
      "[[ 0.5         1.5       ]\n",
      " [ 0.83333333  0.875     ]]  = division\n",
      "\n",
      "[[ 0.5         1.5       ]\n",
      " [ 0.83333333  0.875     ]] = division using numpy\n",
      "\n",
      "[[ 8  6]\n",
      " [30 56]]  = multiplication\n",
      "\n",
      "[[ 8  6]\n",
      " [30 56]] = multiplication using numpy\n",
      "\n"
     ]
    }
   ],
   "source": [
    "# Arithmetic opreations\n",
    "\n",
    "array_a = np.array([[2,3],[5,7]])  # creating array A 2x2\n",
    "array_b = np.array([[4,2],[6,8]])  # creating array B 2x2\n",
    "\n",
    "print(array_a,' = array A\\n')\n",
    "print(array_b,' = array B\\n')\n",
    "\n",
    "print(array_a - array_b,' = subtraction\\n')  #subtracting two arrays normal operation\n",
    "print(np.subtract(array_a,array_b),'= subtraction using numpy\\n')\n",
    "\n",
    "print(array_a + array_b,' = addition\\n')  #addition two arrays normal operation\n",
    "print(np.add(array_a,array_b),'= addition using numpy\\n')\n",
    "\n",
    "print(array_a / array_b,' = division\\n')  #dividing two arrays normal operation\n",
    "print(np.divide(array_a,array_b),'= division using numpy\\n')\n",
    "\n",
    "print(array_a * array_b,' = multiplication\\n')  #multiplying two arrays normal operation\n",
    "print(np.multiply(array_a,array_b),'= multiplication using numpy\\n')"
   ]
  },
  {
   "cell_type": "code",
   "execution_count": 8,
   "metadata": {},
   "outputs": [
    {
     "name": "stdout",
     "output_type": "stream",
     "text": [
      "[[2 3]\n",
      " [5 7]] = array A\n",
      "\n",
      "[[    7.3890561     20.08553692]\n",
      " [  148.4131591   1096.63315843]]  = exponentitation\n",
      "\n",
      "[[ 1.41421356  1.73205081]\n",
      " [ 2.23606798  2.64575131]] = Square root\n",
      "\n",
      "[[ 0.90929743  0.14112001]\n",
      " [-0.95892427  0.6569866 ]]  = sines\n",
      "\n",
      "[[-0.41614684 -0.9899925 ]\n",
      " [ 0.28366219  0.75390225]]  = cosine\n",
      "\n",
      "[[ 0.69314718  1.09861229]\n",
      " [ 1.60943791  1.94591015]]  = natural logarithm\n",
      "\n",
      "[[ 4  6]\n",
      " [10 14]]  = dot product\n",
      "\n"
     ]
    }
   ],
   "source": [
    "print(array_a,'= array A\\n')\n",
    "\n",
    "print(np.exp(array_a),' = exponentitation\\n')   # returns the exponent of the array\n",
    "print(np.sqrt(array_a),'= Square root\\n')       # returns the square root of the array\n",
    "print(np.sin(array_a),' = sines\\n')             # prints the sines of the array\n",
    "print(np.cos(array_a),' = cosine\\n')            # returns element wise cosine\n",
    "print(np.log(array_a),' = natural logarithm\\n') # returns element wise natural logarithm\n",
    "print(array_a.dot(2),' = dot product\\n')        # dot product of the array"
   ]
  },
  {
   "cell_type": "code",
   "execution_count": 9,
   "metadata": {},
   "outputs": [
    {
     "name": "stdout",
     "output_type": "stream",
     "text": [
      "[[2 3]\n",
      " [5 7]]  = array A\n",
      "\n",
      "[[4 2]\n",
      " [6 8]]  = array B\n",
      "\n",
      "[[False False]\n",
      " [False False]]  = comparison\n",
      "\n",
      "[[ True  True]\n",
      " [False False]]  = comparison\n",
      "\n",
      "array A and array B are equal =  False\n"
     ]
    }
   ],
   "source": [
    "# Comparision\n",
    "\n",
    "print(array_a,' = array A\\n')\n",
    "print(array_b,' = array B\\n')\n",
    "\n",
    "print(array_a == array_b,' = comparison\\n')  # element wise comparison\n",
    "print(array_a<5 ,' = comparison\\n')          # prints true for all values < 5\n",
    "print('array A and array B are equal = ',np.array_equal(array_a,array_b))  # array wise comparison"
   ]
  },
  {
   "cell_type": "code",
   "execution_count": 10,
   "metadata": {},
   "outputs": [
    {
     "name": "stdout",
     "output_type": "stream",
     "text": [
      "[[2 3]\n",
      " [5 7]]  = array A\n",
      "\n",
      "17 --- sum\n",
      "\n",
      "2 --- minimum value\n",
      "\n",
      "[5 7] --- max value\n",
      "\n",
      "4.25 --- mean\n",
      "\n",
      "1.92028643697 --- std\n",
      "\n"
     ]
    }
   ],
   "source": [
    "# Aggregate functions\n",
    "\n",
    "print(array_a,' = array A\\n')                   # display array\n",
    "print(array_a.sum(),'--- sum\\n')                # array wise sum \n",
    "print(array_a.min(),'--- minimum value\\n')      # array wise minimum value\n",
    "print(array_a.max(axis=0),'--- max value\\n')    # maximum value of an array row\n",
    "print(array_a.mean(),'--- mean\\n')              # mean of the array\n",
    "print(array_a.std(),'--- std\\n')                # standard deviation of the array    "
   ]
  },
  {
   "cell_type": "code",
   "execution_count": 11,
   "metadata": {},
   "outputs": [
    {
     "name": "stdout",
     "output_type": "stream",
     "text": [
      "[[ 0.74344115  0.49158922  0.31570176]\n",
      " [ 0.93008631  0.24107325  0.98889643]\n",
      " [ 0.92706543  0.01450116  0.4757907 ]\n",
      " [ 0.65427831  0.71223268  0.31224851]\n",
      " [ 0.86491096  0.9554908   0.05692935]\n",
      " [ 0.79463088  0.23896422  0.35263061]\n",
      " [ 0.59604279  0.63790631  0.64030363]\n",
      " [ 0.23153714  0.9257684   0.36197041]]  = random variable array\n",
      "\n",
      "[[ 0.23153714  0.01450116  0.05692935]\n",
      " [ 0.59604279  0.23896422  0.31224851]\n",
      " [ 0.65427831  0.24107325  0.31570176]\n",
      " [ 0.74344115  0.49158922  0.35263061]\n",
      " [ 0.79463088  0.63790631  0.36197041]\n",
      " [ 0.86491096  0.71223268  0.4757907 ]\n",
      " [ 0.92706543  0.9257684   0.64030363]\n",
      " [ 0.93008631  0.9554908   0.98889643]]  = sorting of array colom wise\n"
     ]
    }
   ],
   "source": [
    "# sorting arrays\n",
    "\n",
    "rand_array =np.random.random((8,3))                                      # Creating a 8x1 array of random variables\n",
    "\n",
    "print(rand_array,' = random variable array\\n')                           # displaying array\n",
    "print(np.sort(rand_array,axis=0),' = sorting of array colom wise')      # By default the sorting is applied on row wise axis = 1 changes it to colom wise   "
   ]
  },
  {
   "cell_type": "code",
   "execution_count": 12,
   "metadata": {},
   "outputs": [
    {
     "name": "stdout",
     "output_type": "stream",
     "text": [
      "[ 0.32984477  0.44454321  0.9495784   0.51799382  0.49705415  0.30886257\n",
      "  0.76695368  0.18681203  0.22478425]  = array A\n",
      "\n",
      "the 7th element is =  0.766953684434\n",
      "[[0 2 1 0 2]\n",
      " [1 3 0 4 0]]  = array B\n",
      "\n",
      "2nd coloum 2nd row =  3\n"
     ]
    }
   ],
   "source": [
    "# Subsetting\n",
    "\n",
    "array_a = np.random.random(9)                         # create an array of 9 elements\n",
    "print(array_a,' = array A\\n')                         # Display array\n",
    "print('the 7th element is = ',array_a[6])             # selecting the 7th element in array A\n",
    "\n",
    "array_b = np.random.randint(5, size=(2,5))            # create random array \n",
    "print(array_b,' = array B\\n')                         # Display array\n",
    "print('2nd coloum 2nd row = ',array_b[1,1])           # selecting the element from 2nd row 2nd coloumn"
   ]
  },
  {
   "cell_type": "code",
   "execution_count": 22,
   "metadata": {},
   "outputs": [
    {
     "name": "stdout",
     "output_type": "stream",
     "text": [
      "[3 2 5 8 9 2 7 0]  = array A\n",
      "\n",
      "the first 4 elements are =  [3 2 5 8] \n",
      "\n",
      "[0 7 2 9 8 5 2 3]  = reversed array A\n",
      "\n",
      "[[9 2 4]\n",
      " [7 8 1]]  = array B\n",
      "\n",
      "[2 8] = row 0 & 1 in coloumn 1 \n",
      "\n",
      "[[9 2 4]]  = row 0 \n",
      "\n"
     ]
    }
   ],
   "source": [
    "# slicing\n",
    "\n",
    "temp_array = np.random.randint(10,size=(2,3))                # Create a random array and store it in a temp array \n",
    "#array_a = temp_array                                        # assign array A to the temp array\n",
    "print(array_a,' = array A\\n')                                # display array A\n",
    "print('the first 4 elements are = ',array_a[0:4],'\\n')       # Display till element 4\n",
    "print(array_a[::-1],' = reversed array A\\n')                 # reverse the array A  \n",
    "\n",
    "#array_b = temp_array                                        # assign array B to the temp array with dimensions 2x3\n",
    "print(array_b,' = array B\\n')                                # Display array B\n",
    "\n",
    "print(array_b[0:2,1],'= row 0 & 1 in coloumn 1 \\n')          # Select items at rows 0 and 1 in coloumn 1\n",
    "print(array_b[:1],' = row 0 \\n')                             # Select all items at row 0"
   ]
  },
  {
   "cell_type": "code",
   "execution_count": 23,
   "metadata": {},
   "outputs": [
    {
     "name": "stdout",
     "output_type": "stream",
     "text": [
      "[[9 2 4]\n",
      " [7 8 1]]  = array B\n",
      "\n",
      "[2 1] \n",
      "\n"
     ]
    }
   ],
   "source": [
    "# boolean indexing\n",
    "\n",
    "print(array_b,' = array B\\n')                                 # Disaplay array B\n",
    "print(array_b[array_b<3],'\\n')                                # Display all elements in array B less than 3"
   ]
  },
  {
   "cell_type": "code",
   "execution_count": 29,
   "metadata": {},
   "outputs": [
    {
     "name": "stdout",
     "output_type": "stream",
     "text": [
      "[[9 2 4]\n",
      " [7 8 1]]  = array B\n",
      "\n",
      "[[9 7]\n",
      " [2 8]\n",
      " [4 1]]  = transposed array B(numpy)\n",
      "\n",
      "[[9 7]\n",
      " [2 8]\n",
      " [4 1]]  = transposed array B\n",
      "\n",
      "[3 2 5 8 9 2 7 0]  = array A\n",
      "\n",
      "[[9 2 4]\n",
      " [7 8 1]]  = array B\n",
      "\n",
      "[9 2 4 7 8 1]  = flattened array B\n",
      "\n",
      "[[3 2 5 8]\n",
      " [9 2 7 0]]  = new array A\n",
      "\n",
      "[[3 2]\n",
      " [5 8]\n",
      " [9 2]\n",
      " [7 0]]  = new array A(numpy,resize)\n",
      "\n",
      "[3 2 5 8 9 2 7 0]  = array A\n",
      "\n",
      "[3 2 5 8 9 2 7 0 3 8]  = array 1(append)\n",
      "\n",
      "[  3   2   5   8   9   2   7 100   0   3   8]  = array 1(insert)\n",
      "\n",
      "[3 2 5 8 9 2 7 0 3 8]  = array 1(delete)\n",
      "\n"
     ]
    }
   ],
   "source": [
    "# array manipulation\n",
    "\n",
    "# Transposing\n",
    "print(array_b,' = array B\\n')                                 # Dispplay array B\n",
    "print(np.transpose(array_b),' = transposed array B(numpy)\\n') # numpy function for transposing an array\n",
    "print(array_b.T,' = transposed array B\\n')                    # transposing array \n",
    "\n",
    "# Changing shape of the array\n",
    "print(array_a,' = array A\\n')\n",
    "print(array_b,' = array B\\n')\n",
    "print(np.ravel(array_b),' = flattened array B\\n')               # reduce from n-Dimensions to 1D array\n",
    "print(array_a.reshape(2,4),' = new array A\\n')                  # reshapes an array but does not change data\n",
    "print(np.resize(array_a,(4,2)),' = new array A(numpy,resize)\\n')# returns a new array with the size 4x2\n",
    "\n",
    "# adding/removing elements \n",
    "\n",
    "array_1 = np.append(array_a,(3,8))                              # adding items(3,2) to array 1\n",
    "print(array_a,' = array A\\n')                                   # Display array A\n",
    "print(array_1,' = array 1(append)\\n')                           # Display array 1\n",
    "array_1 = np.insert(array_1,7,100)                              # insert value 100 at position/element 7 in array_1\n",
    "print(array_1,' = array 1(insert)\\n')                           # Display array 1  \n",
    "print(np.delete(array_1,[7]),' = array 1(delete)\\n')            # deletes values of element 7 in array 1 "
   ]
  },
  {
   "cell_type": "code",
   "execution_count": 35,
   "metadata": {},
   "outputs": [
    {
     "name": "stdout",
     "output_type": "stream",
     "text": [
      "[[2 3]\n",
      " [4 5]]  = array A\n",
      "\n",
      "[[9 8]\n",
      " [7 6]]  = array B\n",
      "\n",
      "[[2 3 9 8]\n",
      " [4 5 7 6]]  = concatenated array\n",
      "\n",
      "[[2 3]\n",
      " [4 5]\n",
      " [9 8]\n",
      " [7 6]]  = Vstack(numpy)\n",
      "\n",
      "[[2 3]\n",
      " [4 5]\n",
      " [9 8]\n",
      " [7 6]]  = row stacking\n",
      "\n",
      "[[2 3]\n",
      " [4 5]\n",
      " [9 8]\n",
      " [7 6]]  = row stacking(r_)\n",
      "\n",
      "[[2 3 9 8]\n",
      " [4 5 7 6]]  = Vstack(numpy)\n",
      "\n",
      "[[2 3 9 8]\n",
      " [4 5 7 6]]  = coloumn stacking\n",
      "\n",
      "[[2 3 9 8]\n",
      " [4 5 7 6]]  = coloumn stacking(c_)\n",
      "\n"
     ]
    }
   ],
   "source": [
    "# combining Arrays\n",
    "\n",
    "array_a = np.array([[2,3],[4,5]])                    # create a 2x2 array A \n",
    "array_b = np.array([[9,8],[7,6]])                    # create a 2x2 array B\n",
    "\n",
    "print(array_a,' = array A\\n')                        # Display array A\n",
    "print(array_b,' = array B\\n')                        # Display array B\n",
    "\n",
    "print(np.concatenate((array_a,array_b),axis=1),' = concatenated array\\n') # concatenates array A and array B \n",
    "print(np.vstack((array_a,array_b)),' = Vstack(numpy)\\n')                  # stacking arrays row wise - method 1\n",
    "print(np.row_stack((array_a,array_b)),' = row stacking\\n')                # stacking arrays row wise - method 2\n",
    "print(np.r_[array_a,array_b],' = row stacking(r_)\\n')                     # stacking arrays row wise - method 3\n",
    "\n",
    "\n",
    "print(np.hstack((array_a,array_b)),' = Vstack(numpy)\\n')                  # stacking arrays coloumn wise - method 1\n",
    "print(np.column_stack((array_a,array_b)),' = coloumn stacking\\n')         # stacking arrays coloumn wise - method 2\n",
    "print(np.c_[array_a,array_b],' = coloumn stacking(c_)\\n')                 # stacking arrays coloumn wise - method 3"
   ]
  },
  {
   "cell_type": "code",
   "execution_count": 38,
   "metadata": {},
   "outputs": [
    {
     "name": "stdout",
     "output_type": "stream",
     "text": [
      "[[1 4 4 0 5 6]\n",
      " [7 1 2 4 8 1]\n",
      " [4 6 5 6 3 3]]  = array 1\n",
      "\n",
      "[array([[1, 4, 4, 0, 5, 6],\n",
      "       [7, 1, 2, 4, 8, 1],\n",
      "       [4, 6, 5, 6, 3, 3]])]  = vsplit array\n",
      "\n",
      "[array([[1, 4],\n",
      "       [7, 1],\n",
      "       [4, 6]]), array([[4, 0],\n",
      "       [2, 4],\n",
      "       [5, 6]]), array([[5, 6],\n",
      "       [8, 1],\n",
      "       [3, 3]])]  = hsplit array\n",
      "\n"
     ]
    }
   ],
   "source": [
    "# splitting arrays\n",
    "\n",
    "rand_array = np.random.randint(10,size=(3,6))                   # create a 3x6 array with random numbers\n",
    "array_1 = np.copy(rand_array)                                             # copy rand_array to array_1\n",
    "\n",
    "print(array_1,' = array 1\\n')                                      # Display array 1\n",
    "print(np.vsplit(array_1,1),' = vsplit array\\n')                  # split the array vertically at the 1st index\n",
    "print(np.hsplit(array_1,3),' = hsplit array\\n')                  # split the array horizontlly at the 3rd index"
   ]
  },
  {
   "cell_type": "code",
   "execution_count": null,
   "metadata": {
    "collapsed": true
   },
   "outputs": [],
   "source": []
  }
 ],
 "metadata": {
  "kernelspec": {
   "display_name": "Python 3",
   "language": "python",
   "name": "python3"
  },
  "language_info": {
   "codemirror_mode": {
    "name": "ipython",
    "version": 3
   },
   "file_extension": ".py",
   "mimetype": "text/x-python",
   "name": "python",
   "nbconvert_exporter": "python",
   "pygments_lexer": "ipython3",
   "version": "3.5.3"
  }
 },
 "nbformat": 4,
 "nbformat_minor": 2
}
