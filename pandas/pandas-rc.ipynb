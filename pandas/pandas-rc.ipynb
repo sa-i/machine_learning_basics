{
 "cells": [
  {
   "cell_type": "code",
   "execution_count": 1,
   "metadata": {
    "collapsed": true
   },
   "outputs": [],
   "source": [
    "import pandas as pd               # for data manipuliation         \n",
    "import IPython                    # for displaying the data structures\n",
    "import numpy as np                # for array manipulation\n",
    "import matplotlib.pyplot as plt   # for data visulization"
   ]
  },
  {
   "cell_type": "code",
   "execution_count": 2,
   "metadata": {},
   "outputs": [
    {
     "data": {
      "text/plain": [
       "a    5\n",
       "b    7\n",
       "c    8\n",
       "d    2\n",
       "e    3\n",
       "dtype: int64"
      ]
     },
     "metadata": {},
     "output_type": "display_data"
    }
   ],
   "source": [
    "# Series\n",
    "\n",
    "s = pd.Series([5,7,8,2,3],index=['a','b','c','d','e'])         # 1D labelled array capable of holding any data types\n",
    "display(s)"
   ]
  },
  {
   "cell_type": "code",
   "execution_count": 3,
   "metadata": {},
   "outputs": [
    {
     "data": {
      "text/html": [
       "<div>\n",
       "<style>\n",
       "    .dataframe thead tr:only-child th {\n",
       "        text-align: right;\n",
       "    }\n",
       "\n",
       "    .dataframe thead th {\n",
       "        text-align: left;\n",
       "    }\n",
       "\n",
       "    .dataframe tbody tr th {\n",
       "        vertical-align: top;\n",
       "    }\n",
       "</style>\n",
       "<table border=\"1\" class=\"dataframe\">\n",
       "  <thead>\n",
       "    <tr style=\"text-align: right;\">\n",
       "      <th></th>\n",
       "      <th>Country</th>\n",
       "      <th>Capital</th>\n",
       "      <th>Population</th>\n",
       "    </tr>\n",
       "  </thead>\n",
       "  <tbody>\n",
       "    <tr>\n",
       "      <th>0</th>\n",
       "      <td>india</td>\n",
       "      <td>New dehli</td>\n",
       "      <td>134212015</td>\n",
       "    </tr>\n",
       "    <tr>\n",
       "      <th>1</th>\n",
       "      <td>france</td>\n",
       "      <td>Paris</td>\n",
       "      <td>111908046</td>\n",
       "    </tr>\n",
       "    <tr>\n",
       "      <th>2</th>\n",
       "      <td>england</td>\n",
       "      <td>landon</td>\n",
       "      <td>204565789</td>\n",
       "    </tr>\n",
       "  </tbody>\n",
       "</table>\n",
       "</div>"
      ],
      "text/plain": [
       "   Country    Capital  Population\n",
       "0    india  New dehli   134212015\n",
       "1   france      Paris   111908046\n",
       "2  england     landon   204565789"
      ]
     },
     "metadata": {},
     "output_type": "display_data"
    }
   ],
   "source": [
    "# Dataframe\n",
    "data = {'Country' : ['india','france','england'],\n",
    "       'Capital' : ['New dehli','Paris','landon'],\n",
    "       'Population' : [134212015,111908046,204565789]}\n",
    "df = pd.DataFrame(data,columns=['Country','Capital','Population'])\n",
    "display(df)"
   ]
  },
  {
   "cell_type": "code",
   "execution_count": 4,
   "metadata": {},
   "outputs": [
    {
     "data": {
      "text/html": [
       "<div>\n",
       "<style>\n",
       "    .dataframe thead tr:only-child th {\n",
       "        text-align: right;\n",
       "    }\n",
       "\n",
       "    .dataframe thead th {\n",
       "        text-align: left;\n",
       "    }\n",
       "\n",
       "    .dataframe tbody tr th {\n",
       "        vertical-align: top;\n",
       "    }\n",
       "</style>\n",
       "<table border=\"1\" class=\"dataframe\">\n",
       "  <thead>\n",
       "    <tr style=\"text-align: right;\">\n",
       "      <th></th>\n",
       "      <th>Country</th>\n",
       "      <th>Capital</th>\n",
       "      <th>Population</th>\n",
       "    </tr>\n",
       "  </thead>\n",
       "  <tbody>\n",
       "    <tr>\n",
       "      <th>0</th>\n",
       "      <td>india</td>\n",
       "      <td>New dehli</td>\n",
       "      <td>134212015</td>\n",
       "    </tr>\n",
       "    <tr>\n",
       "      <th>1</th>\n",
       "      <td>france</td>\n",
       "      <td>Paris</td>\n",
       "      <td>111908046</td>\n",
       "    </tr>\n",
       "    <tr>\n",
       "      <th>2</th>\n",
       "      <td>england</td>\n",
       "      <td>landon</td>\n",
       "      <td>204565789</td>\n",
       "    </tr>\n",
       "  </tbody>\n",
       "</table>\n",
       "</div>"
      ],
      "text/plain": [
       "   Country    Capital  Population\n",
       "0    india  New dehli   134212015\n",
       "1   france      Paris   111908046\n",
       "2  england     landon   204565789"
      ]
     },
     "metadata": {},
     "output_type": "display_data"
    },
    {
     "data": {
      "text/html": [
       "<div>\n",
       "<style>\n",
       "    .dataframe thead tr:only-child th {\n",
       "        text-align: right;\n",
       "    }\n",
       "\n",
       "    .dataframe thead th {\n",
       "        text-align: left;\n",
       "    }\n",
       "\n",
       "    .dataframe tbody tr th {\n",
       "        vertical-align: top;\n",
       "    }\n",
       "</style>\n",
       "<table border=\"1\" class=\"dataframe\">\n",
       "  <thead>\n",
       "    <tr style=\"text-align: right;\">\n",
       "      <th></th>\n",
       "      <th>Country</th>\n",
       "      <th>Capital</th>\n",
       "      <th>Population</th>\n",
       "    </tr>\n",
       "  </thead>\n",
       "  <tbody>\n",
       "    <tr>\n",
       "      <th>0</th>\n",
       "      <td>india</td>\n",
       "      <td>New dehli</td>\n",
       "      <td>134212015</td>\n",
       "    </tr>\n",
       "    <tr>\n",
       "      <th>1</th>\n",
       "      <td>france</td>\n",
       "      <td>Paris</td>\n",
       "      <td>111908046</td>\n",
       "    </tr>\n",
       "    <tr>\n",
       "      <th>2</th>\n",
       "      <td>england</td>\n",
       "      <td>landon</td>\n",
       "      <td>204565789</td>\n",
       "    </tr>\n",
       "  </tbody>\n",
       "</table>\n",
       "</div>"
      ],
      "text/plain": [
       "   Country    Capital  Population\n",
       "0    india  New dehli   134212015\n",
       "1   france      Paris   111908046\n",
       "2  england     landon   204565789"
      ]
     },
     "metadata": {},
     "output_type": "display_data"
    }
   ],
   "source": [
    "# input and ouput\n",
    "\n",
    "# read and write csv\n",
    "df.to_csv('country.csv',index=None)             # Creates a csv file with values of df and no index\n",
    "df1 = pd.read_csv('country.csv')                # reads values from country.csv and saves it to df1\n",
    "display(df1)                                    # display df1 \n",
    "\n",
    "# read and write from excel\n",
    "df.to_excel('country.xlsx',sheet_name='country')            # writes values of df to counrty.xlsx\n",
    "df2 = pd.read_excel('country.xlsx',sheetname='country')     # reads values from country.xlsx and saves it to df2\n",
    "display(df2)                                                # display df2 "
   ]
  },
  {
   "cell_type": "code",
   "execution_count": 5,
   "metadata": {},
   "outputs": [
    {
     "data": {
      "text/plain": [
       "a    5\n",
       "b    7\n",
       "c    8\n",
       "d    2\n",
       "e    3\n",
       "dtype: int64"
      ]
     },
     "metadata": {},
     "output_type": "display_data"
    },
    {
     "name": "stdout",
     "output_type": "stream",
     "text": [
      "7  = value of b\n",
      "\n"
     ]
    },
    {
     "data": {
      "text/html": [
       "<div>\n",
       "<style>\n",
       "    .dataframe thead tr:only-child th {\n",
       "        text-align: right;\n",
       "    }\n",
       "\n",
       "    .dataframe thead th {\n",
       "        text-align: left;\n",
       "    }\n",
       "\n",
       "    .dataframe tbody tr th {\n",
       "        vertical-align: top;\n",
       "    }\n",
       "</style>\n",
       "<table border=\"1\" class=\"dataframe\">\n",
       "  <thead>\n",
       "    <tr style=\"text-align: right;\">\n",
       "      <th></th>\n",
       "      <th>Country</th>\n",
       "      <th>Capital</th>\n",
       "      <th>Population</th>\n",
       "    </tr>\n",
       "  </thead>\n",
       "  <tbody>\n",
       "    <tr>\n",
       "      <th>0</th>\n",
       "      <td>india</td>\n",
       "      <td>New dehli</td>\n",
       "      <td>134212015</td>\n",
       "    </tr>\n",
       "    <tr>\n",
       "      <th>1</th>\n",
       "      <td>france</td>\n",
       "      <td>Paris</td>\n",
       "      <td>111908046</td>\n",
       "    </tr>\n",
       "    <tr>\n",
       "      <th>2</th>\n",
       "      <td>england</td>\n",
       "      <td>landon</td>\n",
       "      <td>204565789</td>\n",
       "    </tr>\n",
       "  </tbody>\n",
       "</table>\n",
       "</div>"
      ],
      "text/plain": [
       "   Country    Capital  Population\n",
       "0    india  New dehli   134212015\n",
       "1   france      Paris   111908046\n",
       "2  england     landon   204565789"
      ]
     },
     "metadata": {},
     "output_type": "display_data"
    },
    {
     "name": "stdout",
     "output_type": "stream",
     "text": [
      "   Country Capital  Population\n",
      "1   france   Paris   111908046\n",
      "2  england  landon   204565789  = subset of df\n",
      "\n",
      "india  = element at 0th row and 0th coloumn\n",
      "\n",
      "england  = element at 2nd row and 0th coloumn\n",
      "\n",
      "india  = element at 0th row and under the coloumn of country\n",
      "\n",
      "france  = element at 1st row and under the coloumn of country\n",
      "\n",
      "Country         england\n",
      "Capital          landon\n",
      "Population    204565789\n",
      "Name: 2, dtype: object  = select row 2\n",
      "\n",
      "0    New dehli\n",
      "1        Paris\n",
      "2       landon\n",
      "Name: Capital, dtype: object  = select capital coloumn\n",
      "\n",
      "Paris  = select 1 st row element in capital\n",
      "\n",
      "   Country    Capital  Population\n",
      "0    india  New dehli   134212015\n",
      "1   france      Paris   111908046\n",
      "2  england     landon   204565789  = population > 120000000\n",
      "\n",
      "a    5\n",
      "b    7\n",
      "c    8\n",
      "d    2\n",
      "e    3\n",
      "dtype: int64 \n",
      "\n",
      "d    2\n",
      "e    3\n",
      "dtype: int64  = elements graeter than 3\n",
      "\n",
      "a    5\n",
      "b    7\n",
      "c    8\n",
      "dtype: int64 = <1 or >4\n",
      "\n"
     ]
    },
    {
     "name": "stderr",
     "output_type": "stream",
     "text": [
      "c:\\users\\zero\\appdata\\local\\programs\\python\\python35\\lib\\site-packages\\ipykernel_launcher.py:19: DeprecationWarning: \n",
      ".ix is deprecated. Please use\n",
      ".loc for label based indexing or\n",
      ".iloc for positional indexing\n",
      "\n",
      "See the documentation here:\n",
      "http://pandas.pydata.org/pandas-docs/stable/indexing.html#deprecate_ix\n"
     ]
    },
    {
     "data": {
      "text/plain": [
       "a    10\n",
       "b     7\n",
       "c     8\n",
       "d     2\n",
       "e     3\n",
       "dtype: int64"
      ]
     },
     "metadata": {},
     "output_type": "display_data"
    }
   ],
   "source": [
    "# selection\n",
    "\n",
    "# getting elements\n",
    "display(s)                                        # display array \n",
    "print(s['b'],' = value of b\\n')                   # get one element\n",
    "\n",
    "display(df)                                       # display dataframe\n",
    "print(df[1:],' = subset of df\\n')                 # get subset of dataframe\n",
    "\n",
    "# by position\n",
    "print(df.iloc[0,0],' = element at 0th row and 0th coloumn\\n')                          # select single value by row and coloumn\n",
    "print(df.iat[2,0],' = element at 2nd row and 0th coloumn\\n')                           # select element at sepcifiedlocation\n",
    "\n",
    "# by label\n",
    "print(df.loc[0,'Country'],' = element at 0th row and under the coloumn of country\\n')  # select single value by row and coloumn labels\n",
    "print(df.at[1,'Country'],' = element at 1st row and under the coloumn of country\\n')   # select single value by row and coloumn labels\n",
    "\n",
    "# by label \n",
    "print(df.ix[2],' = select row 2\\n')                                                    # select single row of subset of rows\n",
    "print(df.ix[:,'Capital'],' = select capital coloumn\\n')                                # select single coloumn of subset of coloumn \n",
    "print(df.ix[1,'Capital'],' = select 1 st row element in capital\\n')                    # select rpw and coloumn\n",
    "\n",
    "# boolean indexing \n",
    "print(df[df['Population']>12000000],' = population > 120000000\\n')                     # filter to adjust dataframe\n",
    "print(s,'\\n')                                                                          # display s\n",
    "print(s[~(s>3)],' = elements graeter than 3\\n')                                        # series where value is not > 3    \n",
    "print(s[(s < 1) | (s > 4)],'= <1 or >4\\n')                                             # s value where s is < 1 or > 4 \n",
    "\n",
    "# setting\n",
    "s['a'] = 10                                                                            # set index value a to 10 \n",
    "display(s)"
   ]
  },
  {
   "cell_type": "code",
   "execution_count": 6,
   "metadata": {},
   "outputs": [
    {
     "data": {
      "text/plain": [
       "a    10\n",
       "b     7\n",
       "c     8\n",
       "d     2\n",
       "e     3\n",
       "dtype: int64"
      ]
     },
     "metadata": {},
     "output_type": "display_data"
    },
    {
     "name": "stdout",
     "output_type": "stream",
     "text": [
      "b    7\n",
      "d    2\n",
      "e    3\n",
      "dtype: int64  = s1(dropped values)\n"
     ]
    },
    {
     "data": {
      "text/html": [
       "<div>\n",
       "<style>\n",
       "    .dataframe thead tr:only-child th {\n",
       "        text-align: right;\n",
       "    }\n",
       "\n",
       "    .dataframe thead th {\n",
       "        text-align: left;\n",
       "    }\n",
       "\n",
       "    .dataframe tbody tr th {\n",
       "        vertical-align: top;\n",
       "    }\n",
       "</style>\n",
       "<table border=\"1\" class=\"dataframe\">\n",
       "  <thead>\n",
       "    <tr style=\"text-align: right;\">\n",
       "      <th></th>\n",
       "      <th>Country</th>\n",
       "      <th>Capital</th>\n",
       "      <th>Population</th>\n",
       "    </tr>\n",
       "  </thead>\n",
       "  <tbody>\n",
       "    <tr>\n",
       "      <th>0</th>\n",
       "      <td>india</td>\n",
       "      <td>New dehli</td>\n",
       "      <td>134212015</td>\n",
       "    </tr>\n",
       "    <tr>\n",
       "      <th>1</th>\n",
       "      <td>france</td>\n",
       "      <td>Paris</td>\n",
       "      <td>111908046</td>\n",
       "    </tr>\n",
       "    <tr>\n",
       "      <th>2</th>\n",
       "      <td>england</td>\n",
       "      <td>landon</td>\n",
       "      <td>204565789</td>\n",
       "    </tr>\n",
       "  </tbody>\n",
       "</table>\n",
       "</div>"
      ],
      "text/plain": [
       "   Country    Capital  Population\n",
       "0    india  New dehli   134212015\n",
       "1   france      Paris   111908046\n",
       "2  england     landon   204565789"
      ]
     },
     "metadata": {},
     "output_type": "display_data"
    },
    {
     "data": {
      "text/html": [
       "<div>\n",
       "<style>\n",
       "    .dataframe thead tr:only-child th {\n",
       "        text-align: right;\n",
       "    }\n",
       "\n",
       "    .dataframe thead th {\n",
       "        text-align: left;\n",
       "    }\n",
       "\n",
       "    .dataframe tbody tr th {\n",
       "        vertical-align: top;\n",
       "    }\n",
       "</style>\n",
       "<table border=\"1\" class=\"dataframe\">\n",
       "  <thead>\n",
       "    <tr style=\"text-align: right;\">\n",
       "      <th></th>\n",
       "      <th>Capital</th>\n",
       "      <th>Population</th>\n",
       "    </tr>\n",
       "  </thead>\n",
       "  <tbody>\n",
       "    <tr>\n",
       "      <th>0</th>\n",
       "      <td>New dehli</td>\n",
       "      <td>134212015</td>\n",
       "    </tr>\n",
       "    <tr>\n",
       "      <th>1</th>\n",
       "      <td>Paris</td>\n",
       "      <td>111908046</td>\n",
       "    </tr>\n",
       "    <tr>\n",
       "      <th>2</th>\n",
       "      <td>landon</td>\n",
       "      <td>204565789</td>\n",
       "    </tr>\n",
       "  </tbody>\n",
       "</table>\n",
       "</div>"
      ],
      "text/plain": [
       "     Capital  Population\n",
       "0  New dehli   134212015\n",
       "1      Paris   111908046\n",
       "2     landon   204565789"
      ]
     },
     "execution_count": 6,
     "metadata": {},
     "output_type": "execute_result"
    }
   ],
   "source": [
    "# Droping\n",
    "display(s)                                       # display s\n",
    "s1 = s.drop(['a','c'])                           # drop values from rows (axis = 0) default\n",
    "print(s1,' = s1(dropped values)')                # display dropped values\n",
    "\n",
    "display(df)                                      # display df\n",
    "df.drop('Country',axis=1)                        # drop values from coloumns (axis = 1) "
   ]
  },
  {
   "cell_type": "code",
   "execution_count": 7,
   "metadata": {},
   "outputs": [
    {
     "data": {
      "text/html": [
       "<div>\n",
       "<style>\n",
       "    .dataframe thead tr:only-child th {\n",
       "        text-align: right;\n",
       "    }\n",
       "\n",
       "    .dataframe thead th {\n",
       "        text-align: left;\n",
       "    }\n",
       "\n",
       "    .dataframe tbody tr th {\n",
       "        vertical-align: top;\n",
       "    }\n",
       "</style>\n",
       "<table border=\"1\" class=\"dataframe\">\n",
       "  <thead>\n",
       "    <tr style=\"text-align: right;\">\n",
       "      <th></th>\n",
       "      <th>Country</th>\n",
       "      <th>Capital</th>\n",
       "      <th>Population</th>\n",
       "    </tr>\n",
       "  </thead>\n",
       "  <tbody>\n",
       "    <tr>\n",
       "      <th>0</th>\n",
       "      <td>india</td>\n",
       "      <td>New dehli</td>\n",
       "      <td>134212015</td>\n",
       "    </tr>\n",
       "    <tr>\n",
       "      <th>1</th>\n",
       "      <td>france</td>\n",
       "      <td>Paris</td>\n",
       "      <td>111908046</td>\n",
       "    </tr>\n",
       "    <tr>\n",
       "      <th>2</th>\n",
       "      <td>england</td>\n",
       "      <td>landon</td>\n",
       "      <td>204565789</td>\n",
       "    </tr>\n",
       "  </tbody>\n",
       "</table>\n",
       "</div>"
      ],
      "text/plain": [
       "   Country    Capital  Population\n",
       "0    india  New dehli   134212015\n",
       "1   france      Paris   111908046\n",
       "2  england     landon   204565789"
      ]
     },
     "metadata": {},
     "output_type": "display_data"
    },
    {
     "name": "stdout",
     "output_type": "stream",
     "text": [
      "   Country    Capital  Population\n",
      "0    india  New dehli   134212015\n",
      "1   france      Paris   111908046\n",
      "2  england     landon   204565789  = sorted by labels\n",
      "\n",
      "   Country    Capital  Population\n",
      "2  england     landon   204565789\n",
      "1   france      Paris   111908046\n",
      "0    india  New dehli   134212015  = sorted by counrty\n",
      "\n",
      "   Country  Capital  Population\n",
      "0      3.0      1.0         2.0\n",
      "1      2.0      2.0         1.0\n",
      "2      1.0      3.0         3.0  = ranks\n",
      "\n"
     ]
    }
   ],
   "source": [
    "# sorting and ranking\n",
    "display(df)                                                            # display df\n",
    "print(df.sort_index(),' = sorted by labels\\n')                         # sort by labels along an axis\n",
    "print(df.sort_values(by='Country'),' = sorted by counrty\\n')           # sort by values along an axis\n",
    "print(df.rank(),' = ranks\\n')                                          # assign ranks to entries"
   ]
  },
  {
   "cell_type": "code",
   "execution_count": 8,
   "metadata": {},
   "outputs": [
    {
     "data": {
      "text/html": [
       "<div>\n",
       "<style>\n",
       "    .dataframe thead tr:only-child th {\n",
       "        text-align: right;\n",
       "    }\n",
       "\n",
       "    .dataframe thead th {\n",
       "        text-align: left;\n",
       "    }\n",
       "\n",
       "    .dataframe tbody tr th {\n",
       "        vertical-align: top;\n",
       "    }\n",
       "</style>\n",
       "<table border=\"1\" class=\"dataframe\">\n",
       "  <thead>\n",
       "    <tr style=\"text-align: right;\">\n",
       "      <th></th>\n",
       "      <th>Country</th>\n",
       "      <th>Capital</th>\n",
       "      <th>Population</th>\n",
       "    </tr>\n",
       "  </thead>\n",
       "  <tbody>\n",
       "    <tr>\n",
       "      <th>0</th>\n",
       "      <td>india</td>\n",
       "      <td>New dehli</td>\n",
       "      <td>134212015</td>\n",
       "    </tr>\n",
       "    <tr>\n",
       "      <th>1</th>\n",
       "      <td>france</td>\n",
       "      <td>Paris</td>\n",
       "      <td>111908046</td>\n",
       "    </tr>\n",
       "    <tr>\n",
       "      <th>2</th>\n",
       "      <td>england</td>\n",
       "      <td>landon</td>\n",
       "      <td>204565789</td>\n",
       "    </tr>\n",
       "  </tbody>\n",
       "</table>\n",
       "</div>"
      ],
      "text/plain": [
       "   Country    Capital  Population\n",
       "0    india  New dehli   134212015\n",
       "1   france      Paris   111908046\n",
       "2  england     landon   204565789"
      ]
     },
     "metadata": {},
     "output_type": "display_data"
    },
    {
     "name": "stdout",
     "output_type": "stream",
     "text": [
      "(3, 3)  = shape of df\n",
      "\n",
      "RangeIndex(start=0, stop=3, step=1)  = index\n",
      "\n",
      "Index(['Country', 'Capital', 'Population'], dtype='object')  = coloumns\n",
      "\n",
      "<class 'pandas.core.frame.DataFrame'>\n",
      "RangeIndex: 3 entries, 0 to 2\n",
      "Data columns (total 3 columns):\n",
      "Country       3 non-null object\n",
      "Capital       3 non-null object\n",
      "Population    3 non-null int64\n",
      "dtypes: int64(1), object(2)\n",
      "memory usage: 152.0+ bytes\n",
      "None  = info\n",
      "\n",
      "Country       3\n",
      "Capital       3\n",
      "Population    3\n",
      "dtype: int64  = count\n",
      "\n",
      "Country         indiafranceengland\n",
      "Capital       New dehliParislandon\n",
      "Population               450685850\n",
      "dtype: object  = sum\n",
      "\n",
      "              Country               Capital Population\n",
      "0               india             New dehli  134212015\n",
      "1         indiafrance        New dehliParis  246120061\n",
      "2  indiafranceengland  New dehliParislandon  450685850  = cummulative sum\n",
      "\n",
      "Country         england\n",
      "Capital       New dehli\n",
      "Population    111908046\n",
      "dtype: object  = min value\n",
      "\n",
      "Country           india\n",
      "Capital          landon\n",
      "Population    204565789\n",
      "dtype: object  = max value\n",
      "\n",
      "         Population\n",
      "count  3.000000e+00\n",
      "mean   1.502286e+08\n",
      "std    4.836076e+07\n",
      "min    1.119080e+08\n",
      "25%    1.230600e+08\n",
      "50%    1.342120e+08\n",
      "75%    1.693889e+08\n",
      "max    2.045658e+08  = description of df\n",
      "\n",
      "Population    1.502286e+08\n",
      "dtype: float64  = mean\n",
      "\n",
      "Population    134212015.0\n",
      "dtype: float64  = median\n",
      "\n"
     ]
    }
   ],
   "source": [
    "# Data frame and Series information\n",
    "\n",
    "# basic information\n",
    "display(df)                                               # display df \n",
    "print(df.shape,' = shape of df\\n')                        # display shape of df (rows,coloumns) \n",
    "print(df.index,' = index\\n')                              # describe index\n",
    "print(df.columns,' = coloumns\\n')                         # describe dataframe coloumns\n",
    "print(df.info(),' = info\\n')                              # returns info on df\n",
    "print(df.count(),' = count\\n')                            # returns number of non-NA values\n",
    "\n",
    "# Summary\n",
    "print(df.sum(),' = sum\\n')                                # returns sum of values\n",
    "print(df.cumsum(),' = cummulative sum\\n')                 # returns cummulative sum of df\n",
    "print(df.min(),' = min value\\n')                          # returns the minimum value of df\n",
    "print(df.max(),' = max value\\n')                          # returns max value\n",
    "print(df.describe(),' = description of df\\n')             # returns summary statistics\n",
    "print(df.mean(),' = mean\\n')                              # returns the mean of df\n",
    "print(df.median(),' = median\\n')                          # returns median of values in df"
   ]
  },
  {
   "cell_type": "code",
   "execution_count": 9,
   "metadata": {},
   "outputs": [
    {
     "data": {
      "text/html": [
       "<div>\n",
       "<style>\n",
       "    .dataframe thead tr:only-child th {\n",
       "        text-align: right;\n",
       "    }\n",
       "\n",
       "    .dataframe thead th {\n",
       "        text-align: left;\n",
       "    }\n",
       "\n",
       "    .dataframe tbody tr th {\n",
       "        vertical-align: top;\n",
       "    }\n",
       "</style>\n",
       "<table border=\"1\" class=\"dataframe\">\n",
       "  <thead>\n",
       "    <tr style=\"text-align: right;\">\n",
       "      <th></th>\n",
       "      <th>Country</th>\n",
       "      <th>Capital</th>\n",
       "      <th>Population</th>\n",
       "    </tr>\n",
       "  </thead>\n",
       "  <tbody>\n",
       "    <tr>\n",
       "      <th>0</th>\n",
       "      <td>india</td>\n",
       "      <td>New dehli</td>\n",
       "      <td>134212015</td>\n",
       "    </tr>\n",
       "    <tr>\n",
       "      <th>1</th>\n",
       "      <td>france</td>\n",
       "      <td>Paris</td>\n",
       "      <td>111908046</td>\n",
       "    </tr>\n",
       "    <tr>\n",
       "      <th>2</th>\n",
       "      <td>england</td>\n",
       "      <td>landon</td>\n",
       "      <td>204565789</td>\n",
       "    </tr>\n",
       "  </tbody>\n",
       "</table>\n",
       "</div>"
      ],
      "text/plain": [
       "   Country    Capital  Population\n",
       "0    india  New dehli   134212015\n",
       "1   france      Paris   111908046\n",
       "2  england     landon   204565789"
      ]
     },
     "metadata": {},
     "output_type": "display_data"
    },
    {
     "name": "stdout",
     "output_type": "stream",
     "text": [
      "          Country             Capital  Population\n",
      "0      indiaindia  New dehliNew dehli   268424030\n",
      "1    francefrance          ParisParis   223816092\n",
      "2  englandengland        landonlandon   409131578  = applied function f\n",
      "\n",
      "          Country             Capital  Population\n",
      "0      indiaindia  New dehliNew dehli   268424030\n",
      "1    francefrance          ParisParis   223816092\n",
      "2  englandengland        landonlandon   409131578  = apply map\n",
      "\n"
     ]
    }
   ],
   "source": [
    "# applying functions\n",
    "\n",
    "display(df)                                       # display dataframe df\n",
    "f = lambda x: x*2                                 # define function\n",
    "print(df.apply(f),' = applied function f\\n')      # apply the function f\n",
    "print(df.applymap(f),' = apply map\\n')            # apply function f element wise"
   ]
  },
  {
   "cell_type": "code",
   "execution_count": 10,
   "metadata": {},
   "outputs": [
    {
     "name": "stdout",
     "output_type": "stream",
     "text": [
      "a    3\n",
      "c    9\n",
      "d    5\n",
      "dtype: int64  = s2\n",
      "\n",
      "a    10\n",
      "b     7\n",
      "c     8\n",
      "d     2\n",
      "e     3\n",
      "dtype: int64  = s\n",
      "\n",
      "a    13.0\n",
      "b     NaN\n",
      "c    17.0\n",
      "d     7.0\n",
      "e     NaN\n",
      "dtype: float64  = s3(s + s2)\n",
      "\n",
      "a    23.0\n",
      "b     7.0\n",
      "c    25.0\n",
      "d     9.0\n",
      "e     3.0\n",
      "dtype: float64  = add\n",
      "\n",
      "a   -3.0\n",
      "b    5.0\n",
      "c   -9.0\n",
      "d   -5.0\n",
      "e    1.0\n",
      "dtype: float64  = sub\n",
      "\n",
      "a    130.0\n",
      "b     28.0\n",
      "c    136.0\n",
      "d     14.0\n",
      "e     12.0\n",
      "dtype: float64  = mul\n",
      "\n",
      "a    0.769231\n",
      "b    2.333333\n",
      "c    0.470588\n",
      "d    0.285714\n",
      "e    1.000000\n",
      "dtype: float64  = div\n",
      "\n"
     ]
    }
   ],
   "source": [
    "# Data allignment\n",
    "\n",
    "# internal data alignment\n",
    "s2 = pd.Series([3,9,5],index=['a','c','d'])                        # create a new series\n",
    "print(s2,' = s2\\n')                                                # display s2\n",
    "print(s,' = s\\n')                                                  # display s  \n",
    "s3 = s + s2                                                        # NA values are introduced in the indices that dont overlap \n",
    "print(s3,' = s3(s + s2)\\n')                                        # display s3\n",
    "\n",
    "\n",
    "# arithemetic operations with fill method\n",
    "print(s.add(s3,fill_value=0),' = add\\n')                                        # display s3 with values after adding with s, any NaN will be considered as 0\n",
    "print(s.sub(s3,fill_value=2),' = sub\\n')                                        # display s3 with values after substracting with s, any NaN will be considered as 0\n",
    "print(s.mul(s3,fill_value=4),' = mul\\n')                                        # display s3 with values after multiplying with s, any NaN will be considered as 0\n",
    "print(s.div(s3,fill_value=3),' = div\\n')                                        # display s3 with values after dividing with s, any NaN will be considered as 0"
   ]
  },
  {
   "cell_type": "code",
   "execution_count": 11,
   "metadata": {},
   "outputs": [
    {
     "name": "stdout",
     "output_type": "stream",
     "text": [
      "         date type  value\n",
      "0  2017-03-01    a   11.3\n",
      "1  2017-02-01    b   12.6\n",
      "2  2017-04-01    a   96.2\n",
      "3  2017-01-01    c   14.3\n",
      "4  2017-06-01    d   12.5\n",
      "5  2017-05-01    b   45.3  = df3\n",
      "\n",
      "type           a     b     c     d\n",
      "date                              \n",
      "2017-01-01   NaN   NaN  14.3   NaN\n",
      "2017-02-01   NaN  12.6   NaN   NaN\n",
      "2017-03-01  11.3   NaN   NaN   NaN\n",
      "2017-04-01  96.2   NaN   NaN   NaN\n",
      "2017-05-01   NaN  45.3   NaN   NaN\n",
      "2017-06-01   NaN   NaN   NaN  12.5  = df4\n",
      "\n",
      "type           a     b     c     d\n",
      "date                              \n",
      "2017-01-01   NaN   NaN  14.3   NaN\n",
      "2017-02-01   NaN  12.6   NaN   NaN\n",
      "2017-03-01  11.3   NaN   NaN   NaN\n",
      "2017-04-01  96.2   NaN   NaN   NaN\n",
      "2017-05-01   NaN  45.3   NaN   NaN\n",
      "2017-06-01   NaN   NaN   NaN  12.5  =df5\n",
      "\n"
     ]
    }
   ],
   "source": [
    "# reshaping data\n",
    "\n",
    "data = {'date' : ['2017-03-01','2017-02-01','2017-04-01','2017-01-01','2017-06-01','2017-05-01'],\n",
    "       'type' : ['a','b','a','c','d','b'],\n",
    "       'value' : [11.3,12.6,96.2,14.3,12.5,45.3]}                                   # set new values for dataframe\n",
    "df3 = pd.DataFrame(data,columns=['date','type','value'])                            # create new dataframe\n",
    "print(df3,' = df3\\n')                                                               # display dataframe\n",
    "\n",
    "df4 = df3.pivot(index='date',columns='type',values='value')                         # spread rows into coloumns\n",
    "print(df4,' = df4\\n')                                                               # display the pivoted df  \n",
    " \n",
    "df5 = pd.pivot_table(df3,values='value',index='date',columns='type')                # spread rows into coloumns\n",
    "print(df5,' =df5\\n')                                                                # display df5"
   ]
  },
  {
   "cell_type": "code",
   "execution_count": 12,
   "metadata": {},
   "outputs": [
    {
     "name": "stdout",
     "output_type": "stream",
     "text": [
      "type           a     b     c     d\n",
      "date                              \n",
      "2017-01-01   NaN   NaN  14.3   NaN\n",
      "2017-02-01   NaN  12.6   NaN   NaN\n",
      "2017-03-01  11.3   NaN   NaN   NaN\n",
      "2017-04-01  96.2   NaN   NaN   NaN\n",
      "2017-05-01   NaN  45.3   NaN   NaN\n",
      "2017-06-01   NaN   NaN   NaN  12.5  = df4\n",
      "\n",
      "date        type\n",
      "2017-01-01  c       14.3\n",
      "2017-02-01  b       12.6\n",
      "2017-03-01  a       11.3\n",
      "2017-04-01  a       96.2\n",
      "2017-05-01  b       45.3\n",
      "2017-06-01  d       12.5\n",
      "dtype: float64  = stacked\n",
      "\n",
      "type           a     b     c     d\n",
      "date                              \n",
      "2017-01-01   NaN   NaN  14.3   NaN\n",
      "2017-02-01   NaN  12.6   NaN   NaN\n",
      "2017-03-01  11.3   NaN   NaN   NaN\n",
      "2017-04-01  96.2   NaN   NaN   NaN\n",
      "2017-05-01   NaN  45.3   NaN   NaN\n",
      "2017-06-01   NaN   NaN   NaN  12.5  = unstacked\n"
     ]
    }
   ],
   "source": [
    "# Stack & unstack\n",
    "print(df4,' = df4\\n')                                               # display df4\n",
    "stacked = df4.stack()                                               # pivot a level of coloumn labels\n",
    "print(stacked,' = stacked\\n')                                       # display stacked\n",
    "print(stacked.unstack(),' = unstacked')                             # pivote a level of index labels"
   ]
  },
  {
   "cell_type": "code",
   "execution_count": 13,
   "metadata": {},
   "outputs": [
    {
     "data": {
      "text/plain": [
       "'df3'"
      ]
     },
     "metadata": {},
     "output_type": "display_data"
    },
    {
     "data": {
      "text/html": [
       "<div>\n",
       "<style>\n",
       "    .dataframe thead tr:only-child th {\n",
       "        text-align: right;\n",
       "    }\n",
       "\n",
       "    .dataframe thead th {\n",
       "        text-align: left;\n",
       "    }\n",
       "\n",
       "    .dataframe tbody tr th {\n",
       "        vertical-align: top;\n",
       "    }\n",
       "</style>\n",
       "<table border=\"1\" class=\"dataframe\">\n",
       "  <thead>\n",
       "    <tr style=\"text-align: right;\">\n",
       "      <th></th>\n",
       "      <th>date</th>\n",
       "      <th>type</th>\n",
       "      <th>value</th>\n",
       "    </tr>\n",
       "  </thead>\n",
       "  <tbody>\n",
       "    <tr>\n",
       "      <th>0</th>\n",
       "      <td>2017-03-01</td>\n",
       "      <td>a</td>\n",
       "      <td>11.3</td>\n",
       "    </tr>\n",
       "    <tr>\n",
       "      <th>1</th>\n",
       "      <td>2017-02-01</td>\n",
       "      <td>b</td>\n",
       "      <td>12.6</td>\n",
       "    </tr>\n",
       "    <tr>\n",
       "      <th>2</th>\n",
       "      <td>2017-04-01</td>\n",
       "      <td>a</td>\n",
       "      <td>96.2</td>\n",
       "    </tr>\n",
       "    <tr>\n",
       "      <th>3</th>\n",
       "      <td>2017-01-01</td>\n",
       "      <td>c</td>\n",
       "      <td>14.3</td>\n",
       "    </tr>\n",
       "    <tr>\n",
       "      <th>4</th>\n",
       "      <td>2017-06-01</td>\n",
       "      <td>d</td>\n",
       "      <td>12.5</td>\n",
       "    </tr>\n",
       "    <tr>\n",
       "      <th>5</th>\n",
       "      <td>2017-05-01</td>\n",
       "      <td>b</td>\n",
       "      <td>45.3</td>\n",
       "    </tr>\n",
       "  </tbody>\n",
       "</table>\n",
       "</div>"
      ],
      "text/plain": [
       "         date type  value\n",
       "0  2017-03-01    a   11.3\n",
       "1  2017-02-01    b   12.6\n",
       "2  2017-04-01    a   96.2\n",
       "3  2017-01-01    c   14.3\n",
       "4  2017-06-01    d   12.5\n",
       "5  2017-05-01    b   45.3"
      ]
     },
     "metadata": {},
     "output_type": "display_data"
    },
    {
     "data": {
      "text/plain": [
       "'df6'"
      ]
     },
     "metadata": {},
     "output_type": "display_data"
    },
    {
     "data": {
      "text/html": [
       "<div>\n",
       "<style>\n",
       "    .dataframe thead tr:only-child th {\n",
       "        text-align: right;\n",
       "    }\n",
       "\n",
       "    .dataframe thead th {\n",
       "        text-align: left;\n",
       "    }\n",
       "\n",
       "    .dataframe tbody tr th {\n",
       "        vertical-align: top;\n",
       "    }\n",
       "</style>\n",
       "<table border=\"1\" class=\"dataframe\">\n",
       "  <thead>\n",
       "    <tr style=\"text-align: right;\">\n",
       "      <th></th>\n",
       "      <th>date</th>\n",
       "      <th>observations</th>\n",
       "      <th>value</th>\n",
       "    </tr>\n",
       "  </thead>\n",
       "  <tbody>\n",
       "    <tr>\n",
       "      <th>0</th>\n",
       "      <td>2017-03-01</td>\n",
       "      <td>type</td>\n",
       "      <td>a</td>\n",
       "    </tr>\n",
       "    <tr>\n",
       "      <th>1</th>\n",
       "      <td>2017-02-01</td>\n",
       "      <td>type</td>\n",
       "      <td>b</td>\n",
       "    </tr>\n",
       "    <tr>\n",
       "      <th>2</th>\n",
       "      <td>2017-04-01</td>\n",
       "      <td>type</td>\n",
       "      <td>a</td>\n",
       "    </tr>\n",
       "    <tr>\n",
       "      <th>3</th>\n",
       "      <td>2017-01-01</td>\n",
       "      <td>type</td>\n",
       "      <td>c</td>\n",
       "    </tr>\n",
       "    <tr>\n",
       "      <th>4</th>\n",
       "      <td>2017-06-01</td>\n",
       "      <td>type</td>\n",
       "      <td>d</td>\n",
       "    </tr>\n",
       "    <tr>\n",
       "      <th>5</th>\n",
       "      <td>2017-05-01</td>\n",
       "      <td>type</td>\n",
       "      <td>b</td>\n",
       "    </tr>\n",
       "    <tr>\n",
       "      <th>6</th>\n",
       "      <td>2017-03-01</td>\n",
       "      <td>value</td>\n",
       "      <td>11.3</td>\n",
       "    </tr>\n",
       "    <tr>\n",
       "      <th>7</th>\n",
       "      <td>2017-02-01</td>\n",
       "      <td>value</td>\n",
       "      <td>12.6</td>\n",
       "    </tr>\n",
       "    <tr>\n",
       "      <th>8</th>\n",
       "      <td>2017-04-01</td>\n",
       "      <td>value</td>\n",
       "      <td>96.2</td>\n",
       "    </tr>\n",
       "    <tr>\n",
       "      <th>9</th>\n",
       "      <td>2017-01-01</td>\n",
       "      <td>value</td>\n",
       "      <td>14.3</td>\n",
       "    </tr>\n",
       "    <tr>\n",
       "      <th>10</th>\n",
       "      <td>2017-06-01</td>\n",
       "      <td>value</td>\n",
       "      <td>12.5</td>\n",
       "    </tr>\n",
       "    <tr>\n",
       "      <th>11</th>\n",
       "      <td>2017-05-01</td>\n",
       "      <td>value</td>\n",
       "      <td>45.3</td>\n",
       "    </tr>\n",
       "  </tbody>\n",
       "</table>\n",
       "</div>"
      ],
      "text/plain": [
       "          date observations value\n",
       "0   2017-03-01         type     a\n",
       "1   2017-02-01         type     b\n",
       "2   2017-04-01         type     a\n",
       "3   2017-01-01         type     c\n",
       "4   2017-06-01         type     d\n",
       "5   2017-05-01         type     b\n",
       "6   2017-03-01        value  11.3\n",
       "7   2017-02-01        value  12.6\n",
       "8   2017-04-01        value  96.2\n",
       "9   2017-01-01        value  14.3\n",
       "10  2017-06-01        value  12.5\n",
       "11  2017-05-01        value  45.3"
      ]
     },
     "metadata": {},
     "output_type": "display_data"
    }
   ],
   "source": [
    "# melt\n",
    "\n",
    "display('df3',df3)                                                                             # display df3\n",
    "df6 = pd.melt(df3,id_vars=['date'],value_vars=['type','value'],var_name='observations')        # gather coloumns into rows \n",
    "display('df6',df6)                                                                             # display df6  "
   ]
  },
  {
   "cell_type": "code",
   "execution_count": 14,
   "metadata": {},
   "outputs": [
    {
     "data": {
      "text/plain": [
       "'df3'"
      ]
     },
     "metadata": {},
     "output_type": "display_data"
    },
    {
     "data": {
      "text/html": [
       "<div>\n",
       "<style>\n",
       "    .dataframe thead tr:only-child th {\n",
       "        text-align: right;\n",
       "    }\n",
       "\n",
       "    .dataframe thead th {\n",
       "        text-align: left;\n",
       "    }\n",
       "\n",
       "    .dataframe tbody tr th {\n",
       "        vertical-align: top;\n",
       "    }\n",
       "</style>\n",
       "<table border=\"1\" class=\"dataframe\">\n",
       "  <thead>\n",
       "    <tr style=\"text-align: right;\">\n",
       "      <th></th>\n",
       "      <th>date</th>\n",
       "      <th>type</th>\n",
       "      <th>value</th>\n",
       "    </tr>\n",
       "  </thead>\n",
       "  <tbody>\n",
       "    <tr>\n",
       "      <th>0</th>\n",
       "      <td>2017-03-01</td>\n",
       "      <td>a</td>\n",
       "      <td>11.3</td>\n",
       "    </tr>\n",
       "    <tr>\n",
       "      <th>1</th>\n",
       "      <td>2017-02-01</td>\n",
       "      <td>b</td>\n",
       "      <td>12.6</td>\n",
       "    </tr>\n",
       "    <tr>\n",
       "      <th>2</th>\n",
       "      <td>2017-04-01</td>\n",
       "      <td>a</td>\n",
       "      <td>96.2</td>\n",
       "    </tr>\n",
       "    <tr>\n",
       "      <th>3</th>\n",
       "      <td>2017-01-01</td>\n",
       "      <td>c</td>\n",
       "      <td>14.3</td>\n",
       "    </tr>\n",
       "    <tr>\n",
       "      <th>4</th>\n",
       "      <td>2017-06-01</td>\n",
       "      <td>d</td>\n",
       "      <td>12.5</td>\n",
       "    </tr>\n",
       "    <tr>\n",
       "      <th>5</th>\n",
       "      <td>2017-05-01</td>\n",
       "      <td>b</td>\n",
       "      <td>45.3</td>\n",
       "    </tr>\n",
       "  </tbody>\n",
       "</table>\n",
       "</div>"
      ],
      "text/plain": [
       "         date type  value\n",
       "0  2017-03-01    a   11.3\n",
       "1  2017-02-01    b   12.6\n",
       "2  2017-04-01    a   96.2\n",
       "3  2017-01-01    c   14.3\n",
       "4  2017-06-01    d   12.5\n",
       "5  2017-05-01    b   45.3"
      ]
     },
     "metadata": {},
     "output_type": "display_data"
    },
    {
     "name": "stdout",
     "output_type": "stream",
     "text": [
      "         date type  value\n",
      "0  2017-03-01    a   11.3\n",
      "1  2017-02-01    b   12.6\n",
      "2  2017-04-01    a   96.2\n",
      "3  2017-01-01    c   14.3\n",
      "4  2017-06-01    d   12.5\n",
      "5  2017-05-01    b   45.3  = values > 1(any)\n",
      "\n",
      "         date type  value\n",
      "0  2017-03-01    a   11.3\n",
      "1  2017-02-01    b   12.6\n",
      "2  2017-04-01    a   96.2\n",
      "3  2017-01-01    c   14.3\n",
      "4  2017-06-01    d   12.5\n",
      "5  2017-05-01    b   45.3  = values > 1(all)\n",
      "\n",
      "Empty DataFrame\n",
      "Columns: []\n",
      "Index: [0, 1, 2, 3, 4, 5]  = NaN values\n",
      "\n",
      "         date type  value\n",
      "0  2017-03-01    a   11.3\n",
      "1  2017-02-01    b   12.6\n",
      "2  2017-04-01    a   96.2\n",
      "3  2017-01-01    c   14.3\n",
      "4  2017-06-01    d   12.5\n",
      "5  2017-05-01    b   45.3  = non-NaN values\n",
      "\n",
      "Empty DataFrame\n",
      "Columns: []\n",
      "Index: [0, 1, 2, 3, 4, 5]  = filtered values\n",
      "\n"
     ]
    },
    {
     "data": {
      "text/plain": [
       "'df'"
      ]
     },
     "metadata": {},
     "output_type": "display_data"
    },
    {
     "data": {
      "text/html": [
       "<div>\n",
       "<style>\n",
       "    .dataframe thead tr:only-child th {\n",
       "        text-align: right;\n",
       "    }\n",
       "\n",
       "    .dataframe thead th {\n",
       "        text-align: left;\n",
       "    }\n",
       "\n",
       "    .dataframe tbody tr th {\n",
       "        vertical-align: top;\n",
       "    }\n",
       "</style>\n",
       "<table border=\"1\" class=\"dataframe\">\n",
       "  <thead>\n",
       "    <tr style=\"text-align: right;\">\n",
       "      <th></th>\n",
       "      <th>Country</th>\n",
       "      <th>Capital</th>\n",
       "      <th>Population</th>\n",
       "    </tr>\n",
       "  </thead>\n",
       "  <tbody>\n",
       "    <tr>\n",
       "      <th>0</th>\n",
       "      <td>india</td>\n",
       "      <td>New dehli</td>\n",
       "      <td>134212015</td>\n",
       "    </tr>\n",
       "    <tr>\n",
       "      <th>1</th>\n",
       "      <td>france</td>\n",
       "      <td>Paris</td>\n",
       "      <td>111908046</td>\n",
       "    </tr>\n",
       "    <tr>\n",
       "      <th>2</th>\n",
       "      <td>england</td>\n",
       "      <td>landon</td>\n",
       "      <td>204565789</td>\n",
       "    </tr>\n",
       "  </tbody>\n",
       "</table>\n",
       "</div>"
      ],
      "text/plain": [
       "   Country    Capital  Population\n",
       "0    india  New dehli   134212015\n",
       "1   france      Paris   111908046\n",
       "2  england     landon   204565789"
      ]
     },
     "metadata": {},
     "output_type": "display_data"
    },
    {
     "name": "stdout",
     "output_type": "stream",
     "text": [
      "   Country    Capital  Population\n",
      "0    india  New dehli   134212015\n",
      "1   france      Paris   111908046\n",
      "2  england     landon   204565789  = same elements(isin)\n",
      "\n",
      "  Country    Capital  Population\n",
      "0   india  New dehli   134212015  = select\n",
      "\n"
     ]
    },
    {
     "data": {
      "text/plain": [
       "'s'"
      ]
     },
     "metadata": {},
     "output_type": "display_data"
    },
    {
     "data": {
      "text/plain": [
       "a    10\n",
       "b     7\n",
       "c     8\n",
       "d     2\n",
       "e     3\n",
       "dtype: int64"
      ]
     },
     "metadata": {},
     "output_type": "display_data"
    },
    {
     "name": "stdout",
     "output_type": "stream",
     "text": [
      "a    10.0\n",
      "b     7.0\n",
      "c     8.0\n",
      "d     NaN\n",
      "e     NaN\n",
      "dtype: float64  = s > 4(where)\n",
      "\n"
     ]
    }
   ],
   "source": [
    "# advanced indexing\n",
    "\n",
    "display('df3',df3)                                                # display df3\n",
    "#selecting\n",
    "print(df3.loc[:,(df3>1).any()],' = values > 1(any)\\n')            # select coloumns with any values > 1\n",
    "print(df3.loc[:,(df3>1).all()],' = values > 1(all)\\n')            # select coloumns with values > 1\n",
    "print(df3.loc[:,df3.isnull().any()],' = NaN values\\n')            # select coloumns with NaN\n",
    "print(df3.loc[:,df3.notnull().all()],' = non-NaN values\\n')       # select coloumns without NaN values\n",
    "\n",
    "# indexing with isin\n",
    "print(df3.filter(items=['a','b']),' = filtered values\\n')         # filter on values\n",
    "display('df',df)                                                  # display df\n",
    "print(df[df.Country.isin(df2.Country)],' = same elements(isin)\\n')# find same elements\n",
    "print(df.select(lambda x: not x%5),' = select\\n')                 # find specific elements \n",
    "\n",
    "# where\n",
    "display('s',s)                                                    # display S\n",
    "print(s.where(s > 4),' = s > 4(where)\\n')                         # subset the data"
   ]
  },
  {
   "cell_type": "code",
   "execution_count": 15,
   "metadata": {},
   "outputs": [
    {
     "data": {
      "text/plain": [
       "'df'"
      ]
     },
     "metadata": {},
     "output_type": "display_data"
    },
    {
     "data": {
      "text/html": [
       "<div>\n",
       "<style>\n",
       "    .dataframe thead tr:only-child th {\n",
       "        text-align: right;\n",
       "    }\n",
       "\n",
       "    .dataframe thead th {\n",
       "        text-align: left;\n",
       "    }\n",
       "\n",
       "    .dataframe tbody tr th {\n",
       "        vertical-align: top;\n",
       "    }\n",
       "</style>\n",
       "<table border=\"1\" class=\"dataframe\">\n",
       "  <thead>\n",
       "    <tr style=\"text-align: right;\">\n",
       "      <th></th>\n",
       "      <th>Country</th>\n",
       "      <th>Capital</th>\n",
       "      <th>Population</th>\n",
       "    </tr>\n",
       "  </thead>\n",
       "  <tbody>\n",
       "    <tr>\n",
       "      <th>0</th>\n",
       "      <td>india</td>\n",
       "      <td>New dehli</td>\n",
       "      <td>134212015</td>\n",
       "    </tr>\n",
       "    <tr>\n",
       "      <th>1</th>\n",
       "      <td>france</td>\n",
       "      <td>Paris</td>\n",
       "      <td>111908046</td>\n",
       "    </tr>\n",
       "    <tr>\n",
       "      <th>2</th>\n",
       "      <td>england</td>\n",
       "      <td>landon</td>\n",
       "      <td>204565789</td>\n",
       "    </tr>\n",
       "  </tbody>\n",
       "</table>\n",
       "</div>"
      ],
      "text/plain": [
       "   Country    Capital  Population\n",
       "0    india  New dehli   134212015\n",
       "1   france      Paris   111908046\n",
       "2  england     landon   204565789"
      ]
     },
     "metadata": {},
     "output_type": "display_data"
    },
    {
     "data": {
      "text/plain": [
       "'df7'"
      ]
     },
     "metadata": {},
     "output_type": "display_data"
    },
    {
     "data": {
      "text/html": [
       "<div>\n",
       "<style>\n",
       "    .dataframe thead tr:only-child th {\n",
       "        text-align: right;\n",
       "    }\n",
       "\n",
       "    .dataframe thead th {\n",
       "        text-align: left;\n",
       "    }\n",
       "\n",
       "    .dataframe tbody tr th {\n",
       "        vertical-align: top;\n",
       "    }\n",
       "</style>\n",
       "<table border=\"1\" class=\"dataframe\">\n",
       "  <thead>\n",
       "    <tr style=\"text-align: right;\">\n",
       "      <th></th>\n",
       "      <th>Country</th>\n",
       "      <th>Population</th>\n",
       "    </tr>\n",
       "    <tr>\n",
       "      <th>Capital</th>\n",
       "      <th></th>\n",
       "      <th></th>\n",
       "    </tr>\n",
       "  </thead>\n",
       "  <tbody>\n",
       "    <tr>\n",
       "      <th>New dehli</th>\n",
       "      <td>india</td>\n",
       "      <td>134212015</td>\n",
       "    </tr>\n",
       "    <tr>\n",
       "      <th>Paris</th>\n",
       "      <td>france</td>\n",
       "      <td>111908046</td>\n",
       "    </tr>\n",
       "    <tr>\n",
       "      <th>landon</th>\n",
       "      <td>england</td>\n",
       "      <td>204565789</td>\n",
       "    </tr>\n",
       "  </tbody>\n",
       "</table>\n",
       "</div>"
      ],
      "text/plain": [
       "           Country  Population\n",
       "Capital                       \n",
       "New dehli    india   134212015\n",
       "Paris       france   111908046\n",
       "landon     england   204565789"
      ]
     },
     "metadata": {},
     "output_type": "display_data"
    },
    {
     "data": {
      "text/plain": [
       "'df8'"
      ]
     },
     "metadata": {},
     "output_type": "display_data"
    },
    {
     "data": {
      "text/html": [
       "<div>\n",
       "<style>\n",
       "    .dataframe thead tr:only-child th {\n",
       "        text-align: right;\n",
       "    }\n",
       "\n",
       "    .dataframe thead th {\n",
       "        text-align: left;\n",
       "    }\n",
       "\n",
       "    .dataframe tbody tr th {\n",
       "        vertical-align: top;\n",
       "    }\n",
       "</style>\n",
       "<table border=\"1\" class=\"dataframe\">\n",
       "  <thead>\n",
       "    <tr style=\"text-align: right;\">\n",
       "      <th></th>\n",
       "      <th>index</th>\n",
       "      <th>Country</th>\n",
       "      <th>Capital</th>\n",
       "      <th>Population</th>\n",
       "    </tr>\n",
       "  </thead>\n",
       "  <tbody>\n",
       "    <tr>\n",
       "      <th>0</th>\n",
       "      <td>0</td>\n",
       "      <td>india</td>\n",
       "      <td>New dehli</td>\n",
       "      <td>134212015</td>\n",
       "    </tr>\n",
       "    <tr>\n",
       "      <th>1</th>\n",
       "      <td>1</td>\n",
       "      <td>france</td>\n",
       "      <td>Paris</td>\n",
       "      <td>111908046</td>\n",
       "    </tr>\n",
       "    <tr>\n",
       "      <th>2</th>\n",
       "      <td>2</td>\n",
       "      <td>england</td>\n",
       "      <td>landon</td>\n",
       "      <td>204565789</td>\n",
       "    </tr>\n",
       "  </tbody>\n",
       "</table>\n",
       "</div>"
      ],
      "text/plain": [
       "   index  Country    Capital  Population\n",
       "0      0    india  New dehli   134212015\n",
       "1      1   france      Paris   111908046\n",
       "2      2  england     landon   204565789"
      ]
     },
     "metadata": {},
     "output_type": "display_data"
    },
    {
     "data": {
      "text/plain": [
       "'df7'"
      ]
     },
     "metadata": {},
     "output_type": "display_data"
    },
    {
     "data": {
      "text/html": [
       "<div>\n",
       "<style>\n",
       "    .dataframe thead tr:only-child th {\n",
       "        text-align: right;\n",
       "    }\n",
       "\n",
       "    .dataframe thead th {\n",
       "        text-align: left;\n",
       "    }\n",
       "\n",
       "    .dataframe tbody tr th {\n",
       "        vertical-align: top;\n",
       "    }\n",
       "</style>\n",
       "<table border=\"1\" class=\"dataframe\">\n",
       "  <thead>\n",
       "    <tr style=\"text-align: right;\">\n",
       "      <th></th>\n",
       "      <th>cntry</th>\n",
       "      <th>ppltn</th>\n",
       "    </tr>\n",
       "    <tr>\n",
       "      <th>Capital</th>\n",
       "      <th></th>\n",
       "      <th></th>\n",
       "    </tr>\n",
       "  </thead>\n",
       "  <tbody>\n",
       "    <tr>\n",
       "      <th>New dehli</th>\n",
       "      <td>india</td>\n",
       "      <td>134212015</td>\n",
       "    </tr>\n",
       "    <tr>\n",
       "      <th>Paris</th>\n",
       "      <td>france</td>\n",
       "      <td>111908046</td>\n",
       "    </tr>\n",
       "    <tr>\n",
       "      <th>landon</th>\n",
       "      <td>england</td>\n",
       "      <td>204565789</td>\n",
       "    </tr>\n",
       "  </tbody>\n",
       "</table>\n",
       "</div>"
      ],
      "text/plain": [
       "             cntry      ppltn\n",
       "Capital                      \n",
       "New dehli    india  134212015\n",
       "Paris       france  111908046\n",
       "landon     england  204565789"
      ]
     },
     "metadata": {},
     "output_type": "display_data"
    }
   ],
   "source": [
    "# setting and resetting index\n",
    "display('df',df)                                              # dispaly df    \n",
    "df7 = df.set_index('Capital')                                 # set the index (here set it to Capital)\n",
    "display('df7',df7)                                            # display df7\n",
    "\n",
    "df8 = df.reset_index()                                        # reset the index\n",
    "display('df8',df8)                                            # display df8\n",
    "df7 = df7.rename(index=str,columns={'Country':'cntry',\n",
    "                                   'Capital':'cptl',\n",
    "                                   'Population':'ppltn'})     # rename dataframe \n",
    "display('df7',df7)                                            # display ddf7 "
   ]
  },
  {
   "cell_type": "code",
   "execution_count": 16,
   "metadata": {},
   "outputs": [
    {
     "data": {
      "text/plain": [
       "'s'"
      ]
     },
     "metadata": {},
     "output_type": "display_data"
    },
    {
     "data": {
      "text/plain": [
       "a    10\n",
       "b     7\n",
       "c     8\n",
       "d     2\n",
       "e     3\n",
       "dtype: int64"
      ]
     },
     "metadata": {},
     "output_type": "display_data"
    },
    {
     "data": {
      "text/plain": [
       "'s4'"
      ]
     },
     "metadata": {},
     "output_type": "display_data"
    },
    {
     "data": {
      "text/plain": [
       "c     8\n",
       "e     3\n",
       "d     2\n",
       "a    10\n",
       "b     7\n",
       "dtype: int64"
      ]
     },
     "metadata": {},
     "output_type": "display_data"
    }
   ],
   "source": [
    "# reindexing\n",
    "display('s',s)                                  # display s\n",
    "s4 = s.reindex(['c','e','d','a','b'])           # reindexing s with new values\n",
    "display('s4',s4)"
   ]
  },
  {
   "cell_type": "code",
   "execution_count": 17,
   "metadata": {},
   "outputs": [
    {
     "data": {
      "text/plain": [
       "'df10'"
      ]
     },
     "metadata": {},
     "output_type": "display_data"
    },
    {
     "data": {
      "text/html": [
       "<div>\n",
       "<style>\n",
       "    .dataframe thead tr:only-child th {\n",
       "        text-align: right;\n",
       "    }\n",
       "\n",
       "    .dataframe thead th {\n",
       "        text-align: left;\n",
       "    }\n",
       "\n",
       "    .dataframe tbody tr th {\n",
       "        vertical-align: top;\n",
       "    }\n",
       "</style>\n",
       "<table border=\"1\" class=\"dataframe\">\n",
       "  <thead>\n",
       "    <tr style=\"text-align: right;\">\n",
       "      <th></th>\n",
       "      <th></th>\n",
       "      <th>0</th>\n",
       "      <th>1</th>\n",
       "    </tr>\n",
       "    <tr>\n",
       "      <th>first</th>\n",
       "      <th>second</th>\n",
       "      <th></th>\n",
       "      <th></th>\n",
       "    </tr>\n",
       "  </thead>\n",
       "  <tbody>\n",
       "    <tr>\n",
       "      <th>1</th>\n",
       "      <th>7</th>\n",
       "      <td>0.288051</td>\n",
       "      <td>0.853829</td>\n",
       "    </tr>\n",
       "    <tr>\n",
       "      <th>2</th>\n",
       "      <th>6</th>\n",
       "      <td>0.656133</td>\n",
       "      <td>0.789758</td>\n",
       "    </tr>\n",
       "    <tr>\n",
       "      <th>3</th>\n",
       "      <th>5</th>\n",
       "      <td>0.893821</td>\n",
       "      <td>0.172300</td>\n",
       "    </tr>\n",
       "  </tbody>\n",
       "</table>\n",
       "</div>"
      ],
      "text/plain": [
       "                     0         1\n",
       "first second                    \n",
       "1     7       0.288051  0.853829\n",
       "2     6       0.656133  0.789758\n",
       "3     5       0.893821  0.172300"
      ]
     },
     "metadata": {},
     "output_type": "display_data"
    },
    {
     "data": {
      "text/plain": [
       "'df3'"
      ]
     },
     "metadata": {},
     "output_type": "display_data"
    },
    {
     "data": {
      "text/html": [
       "<div>\n",
       "<style>\n",
       "    .dataframe thead tr:only-child th {\n",
       "        text-align: right;\n",
       "    }\n",
       "\n",
       "    .dataframe thead th {\n",
       "        text-align: left;\n",
       "    }\n",
       "\n",
       "    .dataframe tbody tr th {\n",
       "        vertical-align: top;\n",
       "    }\n",
       "</style>\n",
       "<table border=\"1\" class=\"dataframe\">\n",
       "  <thead>\n",
       "    <tr style=\"text-align: right;\">\n",
       "      <th></th>\n",
       "      <th>date</th>\n",
       "      <th>type</th>\n",
       "      <th>value</th>\n",
       "    </tr>\n",
       "  </thead>\n",
       "  <tbody>\n",
       "    <tr>\n",
       "      <th>0</th>\n",
       "      <td>2017-03-01</td>\n",
       "      <td>a</td>\n",
       "      <td>11.3</td>\n",
       "    </tr>\n",
       "    <tr>\n",
       "      <th>1</th>\n",
       "      <td>2017-02-01</td>\n",
       "      <td>b</td>\n",
       "      <td>12.6</td>\n",
       "    </tr>\n",
       "    <tr>\n",
       "      <th>2</th>\n",
       "      <td>2017-04-01</td>\n",
       "      <td>a</td>\n",
       "      <td>96.2</td>\n",
       "    </tr>\n",
       "    <tr>\n",
       "      <th>3</th>\n",
       "      <td>2017-01-01</td>\n",
       "      <td>c</td>\n",
       "      <td>14.3</td>\n",
       "    </tr>\n",
       "    <tr>\n",
       "      <th>4</th>\n",
       "      <td>2017-06-01</td>\n",
       "      <td>d</td>\n",
       "      <td>12.5</td>\n",
       "    </tr>\n",
       "    <tr>\n",
       "      <th>5</th>\n",
       "      <td>2017-05-01</td>\n",
       "      <td>b</td>\n",
       "      <td>45.3</td>\n",
       "    </tr>\n",
       "  </tbody>\n",
       "</table>\n",
       "</div>"
      ],
      "text/plain": [
       "         date type  value\n",
       "0  2017-03-01    a   11.3\n",
       "1  2017-02-01    b   12.6\n",
       "2  2017-04-01    a   96.2\n",
       "3  2017-01-01    c   14.3\n",
       "4  2017-06-01    d   12.5\n",
       "5  2017-05-01    b   45.3"
      ]
     },
     "metadata": {},
     "output_type": "display_data"
    },
    {
     "data": {
      "text/plain": [
       "'df3(index)'"
      ]
     },
     "metadata": {},
     "output_type": "display_data"
    },
    {
     "data": {
      "text/html": [
       "<div>\n",
       "<style>\n",
       "    .dataframe thead tr:only-child th {\n",
       "        text-align: right;\n",
       "    }\n",
       "\n",
       "    .dataframe thead th {\n",
       "        text-align: left;\n",
       "    }\n",
       "\n",
       "    .dataframe tbody tr th {\n",
       "        vertical-align: top;\n",
       "    }\n",
       "</style>\n",
       "<table border=\"1\" class=\"dataframe\">\n",
       "  <thead>\n",
       "    <tr style=\"text-align: right;\">\n",
       "      <th></th>\n",
       "      <th></th>\n",
       "      <th>value</th>\n",
       "    </tr>\n",
       "    <tr>\n",
       "      <th>date</th>\n",
       "      <th>type</th>\n",
       "      <th></th>\n",
       "    </tr>\n",
       "  </thead>\n",
       "  <tbody>\n",
       "    <tr>\n",
       "      <th>2017-03-01</th>\n",
       "      <th>a</th>\n",
       "      <td>11.3</td>\n",
       "    </tr>\n",
       "    <tr>\n",
       "      <th>2017-02-01</th>\n",
       "      <th>b</th>\n",
       "      <td>12.6</td>\n",
       "    </tr>\n",
       "    <tr>\n",
       "      <th>2017-04-01</th>\n",
       "      <th>a</th>\n",
       "      <td>96.2</td>\n",
       "    </tr>\n",
       "    <tr>\n",
       "      <th>2017-01-01</th>\n",
       "      <th>c</th>\n",
       "      <td>14.3</td>\n",
       "    </tr>\n",
       "    <tr>\n",
       "      <th>2017-06-01</th>\n",
       "      <th>d</th>\n",
       "      <td>12.5</td>\n",
       "    </tr>\n",
       "    <tr>\n",
       "      <th>2017-05-01</th>\n",
       "      <th>b</th>\n",
       "      <td>45.3</td>\n",
       "    </tr>\n",
       "  </tbody>\n",
       "</table>\n",
       "</div>"
      ],
      "text/plain": [
       "                 value\n",
       "date       type       \n",
       "2017-03-01 a      11.3\n",
       "2017-02-01 b      12.6\n",
       "2017-04-01 a      96.2\n",
       "2017-01-01 c      14.3\n",
       "2017-06-01 d      12.5\n",
       "2017-05-01 b      45.3"
      ]
     },
     "metadata": {},
     "output_type": "display_data"
    }
   ],
   "source": [
    "# multi indexing\n",
    "\n",
    "arrays = [np.array([1,2,3]),\n",
    "         np.array([7,6,5])]                                   # create 3x2 array\n",
    "df9 = pd.DataFrame(np.random.rand(3,2),index=arrays)          # create dataframe df9 \n",
    "tuples = list(zip(*arrays))\n",
    "index = pd.MultiIndex.from_tuples(tuples,names=['first','second'])    # create an index \n",
    "df10 = pd.DataFrame(np.random.rand(3,2),index=index)                  # create dataframe with created index\n",
    "display('df10',df10)                                                  # display df10 \n",
    "display('df3',df3)                                                    # display index df3\n",
    "display('df3(index)',df3.set_index(['date','type']))                  # change and display index"
   ]
  },
  {
   "cell_type": "code",
   "execution_count": 18,
   "metadata": {
    "scrolled": true
   },
   "outputs": [
    {
     "data": {
      "text/plain": [
       "'s'"
      ]
     },
     "metadata": {},
     "output_type": "display_data"
    },
    {
     "data": {
      "text/plain": [
       "a    10\n",
       "b     7\n",
       "c     8\n",
       "d     2\n",
       "e     3\n",
       "dtype: int64"
      ]
     },
     "metadata": {},
     "output_type": "display_data"
    },
    {
     "name": "stdout",
     "output_type": "stream",
     "text": [
      "[10  7  8  2  3]  = unique values(s)\n",
      "\n"
     ]
    },
    {
     "data": {
      "text/plain": [
       "'df3'"
      ]
     },
     "metadata": {},
     "output_type": "display_data"
    },
    {
     "data": {
      "text/html": [
       "<div>\n",
       "<style>\n",
       "    .dataframe thead tr:only-child th {\n",
       "        text-align: right;\n",
       "    }\n",
       "\n",
       "    .dataframe thead th {\n",
       "        text-align: left;\n",
       "    }\n",
       "\n",
       "    .dataframe tbody tr th {\n",
       "        vertical-align: top;\n",
       "    }\n",
       "</style>\n",
       "<table border=\"1\" class=\"dataframe\">\n",
       "  <thead>\n",
       "    <tr style=\"text-align: right;\">\n",
       "      <th></th>\n",
       "      <th>date</th>\n",
       "      <th>type</th>\n",
       "      <th>value</th>\n",
       "    </tr>\n",
       "  </thead>\n",
       "  <tbody>\n",
       "    <tr>\n",
       "      <th>0</th>\n",
       "      <td>2017-03-01</td>\n",
       "      <td>a</td>\n",
       "      <td>11.3</td>\n",
       "    </tr>\n",
       "    <tr>\n",
       "      <th>1</th>\n",
       "      <td>2017-02-01</td>\n",
       "      <td>b</td>\n",
       "      <td>12.6</td>\n",
       "    </tr>\n",
       "    <tr>\n",
       "      <th>2</th>\n",
       "      <td>2017-04-01</td>\n",
       "      <td>a</td>\n",
       "      <td>96.2</td>\n",
       "    </tr>\n",
       "    <tr>\n",
       "      <th>3</th>\n",
       "      <td>2017-01-01</td>\n",
       "      <td>c</td>\n",
       "      <td>14.3</td>\n",
       "    </tr>\n",
       "    <tr>\n",
       "      <th>4</th>\n",
       "      <td>2017-06-01</td>\n",
       "      <td>d</td>\n",
       "      <td>12.5</td>\n",
       "    </tr>\n",
       "    <tr>\n",
       "      <th>5</th>\n",
       "      <td>2017-05-01</td>\n",
       "      <td>b</td>\n",
       "      <td>45.3</td>\n",
       "    </tr>\n",
       "  </tbody>\n",
       "</table>\n",
       "</div>"
      ],
      "text/plain": [
       "         date type  value\n",
       "0  2017-03-01    a   11.3\n",
       "1  2017-02-01    b   12.6\n",
       "2  2017-04-01    a   96.2\n",
       "3  2017-01-01    c   14.3\n",
       "4  2017-06-01    d   12.5\n",
       "5  2017-05-01    b   45.3"
      ]
     },
     "metadata": {},
     "output_type": "display_data"
    },
    {
     "name": "stdout",
     "output_type": "stream",
     "text": [
      "0    False\n",
      "1    False\n",
      "2     True\n",
      "3    False\n",
      "4    False\n",
      "5     True\n",
      "dtype: bool  = dupicated(df3)\n",
      "\n"
     ]
    },
    {
     "data": {
      "text/plain": [
       "'df11'"
      ]
     },
     "metadata": {},
     "output_type": "display_data"
    },
    {
     "data": {
      "text/html": [
       "<div>\n",
       "<style>\n",
       "    .dataframe thead tr:only-child th {\n",
       "        text-align: right;\n",
       "    }\n",
       "\n",
       "    .dataframe thead th {\n",
       "        text-align: left;\n",
       "    }\n",
       "\n",
       "    .dataframe tbody tr th {\n",
       "        vertical-align: top;\n",
       "    }\n",
       "</style>\n",
       "<table border=\"1\" class=\"dataframe\">\n",
       "  <thead>\n",
       "    <tr style=\"text-align: right;\">\n",
       "      <th></th>\n",
       "      <th>date</th>\n",
       "      <th>type</th>\n",
       "      <th>value</th>\n",
       "    </tr>\n",
       "  </thead>\n",
       "  <tbody>\n",
       "    <tr>\n",
       "      <th>2</th>\n",
       "      <td>2017-04-01</td>\n",
       "      <td>a</td>\n",
       "      <td>96.2</td>\n",
       "    </tr>\n",
       "    <tr>\n",
       "      <th>3</th>\n",
       "      <td>2017-01-01</td>\n",
       "      <td>c</td>\n",
       "      <td>14.3</td>\n",
       "    </tr>\n",
       "    <tr>\n",
       "      <th>4</th>\n",
       "      <td>2017-06-01</td>\n",
       "      <td>d</td>\n",
       "      <td>12.5</td>\n",
       "    </tr>\n",
       "    <tr>\n",
       "      <th>5</th>\n",
       "      <td>2017-05-01</td>\n",
       "      <td>b</td>\n",
       "      <td>45.3</td>\n",
       "    </tr>\n",
       "  </tbody>\n",
       "</table>\n",
       "</div>"
      ],
      "text/plain": [
       "         date type  value\n",
       "2  2017-04-01    a   96.2\n",
       "3  2017-01-01    c   14.3\n",
       "4  2017-06-01    d   12.5\n",
       "5  2017-05-01    b   45.3"
      ]
     },
     "metadata": {},
     "output_type": "display_data"
    },
    {
     "data": {
      "text/plain": [
       "'df'"
      ]
     },
     "metadata": {},
     "output_type": "display_data"
    },
    {
     "data": {
      "text/html": [
       "<div>\n",
       "<style>\n",
       "    .dataframe thead tr:only-child th {\n",
       "        text-align: right;\n",
       "    }\n",
       "\n",
       "    .dataframe thead th {\n",
       "        text-align: left;\n",
       "    }\n",
       "\n",
       "    .dataframe tbody tr th {\n",
       "        vertical-align: top;\n",
       "    }\n",
       "</style>\n",
       "<table border=\"1\" class=\"dataframe\">\n",
       "  <thead>\n",
       "    <tr style=\"text-align: right;\">\n",
       "      <th></th>\n",
       "      <th>Country</th>\n",
       "      <th>Capital</th>\n",
       "      <th>Population</th>\n",
       "    </tr>\n",
       "  </thead>\n",
       "  <tbody>\n",
       "    <tr>\n",
       "      <th>0</th>\n",
       "      <td>india</td>\n",
       "      <td>New dehli</td>\n",
       "      <td>134212015</td>\n",
       "    </tr>\n",
       "    <tr>\n",
       "      <th>1</th>\n",
       "      <td>france</td>\n",
       "      <td>Paris</td>\n",
       "      <td>111908046</td>\n",
       "    </tr>\n",
       "    <tr>\n",
       "      <th>2</th>\n",
       "      <td>england</td>\n",
       "      <td>landon</td>\n",
       "      <td>204565789</td>\n",
       "    </tr>\n",
       "  </tbody>\n",
       "</table>\n",
       "</div>"
      ],
      "text/plain": [
       "   Country    Capital  Population\n",
       "0    india  New dehli   134212015\n",
       "1   france      Paris   111908046\n",
       "2  england     landon   204565789"
      ]
     },
     "metadata": {},
     "output_type": "display_data"
    },
    {
     "name": "stdout",
     "output_type": "stream",
     "text": [
      "[False False False]  = dupicated(df)\n",
      "\n"
     ]
    }
   ],
   "source": [
    "# dupicate data\n",
    "display('s',s)                                          # display S\n",
    "print(s.unique(),' = unique values(s)\\n')               # return unique values\n",
    "display('df3',df3)                                      # display df3\n",
    "print(df3.duplicated('type'),' = dupicated(df3)\\n')     # check dupicates in coloumn type in df3\n",
    "df11 = df3.drop_duplicates('type',keep='last')          # drop dupicates\n",
    "display('df11',df11)                                    # display df11\n",
    "display('df',df)                                        # display df\n",
    "print(df.index.duplicated(),' = dupicated(df)\\n')       # check index duplicates"
   ]
  },
  {
   "cell_type": "code",
   "execution_count": 19,
   "metadata": {},
   "outputs": [
    {
     "data": {
      "text/plain": [
       "'s3'"
      ]
     },
     "metadata": {},
     "output_type": "display_data"
    },
    {
     "data": {
      "text/plain": [
       "a    13.0\n",
       "b     NaN\n",
       "c    17.0\n",
       "d     7.0\n",
       "e     NaN\n",
       "dtype: float64"
      ]
     },
     "metadata": {},
     "output_type": "display_data"
    },
    {
     "name": "stdout",
     "output_type": "stream",
     "text": [
      "a    13.0\n",
      "c    17.0\n",
      "d     7.0\n",
      "dtype: float64  = dropped values(s5)\n",
      "\n",
      "a    13.000000\n",
      "b    12.333333\n",
      "c    17.000000\n",
      "d     7.000000\n",
      "e    12.333333\n",
      "dtype: float64  = filled values(s6)\n",
      "\n",
      "a    13.0\n",
      "b     NaN\n",
      "c    17.0\n",
      "d     7.0\n",
      "e     NaN\n",
      "dtype: float64  = replaced values(s7)\n",
      "\n"
     ]
    }
   ],
   "source": [
    "# missing data\n",
    "\n",
    "display('s3',s3)                                   # display s3\n",
    "s5 = s3.dropna()                                   # drop NaN values\n",
    "print(s5,' = dropped values(s5)\\n')                # display s5\n",
    "s6 = s3.fillna(s3.mean())                          # fill NaN(Not a Number) with a predetermined value\n",
    "print(s6,' = filled values(s6)\\n')                 # display s6\n",
    "s7 = s3.replace('d','a')                           # replace values with others\n",
    "print(s7,' = replaced values(s7)\\n')               # display s7"
   ]
  },
  {
   "cell_type": "code",
   "execution_count": 20,
   "metadata": {},
   "outputs": [
    {
     "data": {
      "text/plain": [
       "'data1'"
      ]
     },
     "metadata": {},
     "output_type": "display_data"
    },
    {
     "data": {
      "text/html": [
       "<div>\n",
       "<style>\n",
       "    .dataframe thead tr:only-child th {\n",
       "        text-align: right;\n",
       "    }\n",
       "\n",
       "    .dataframe thead th {\n",
       "        text-align: left;\n",
       "    }\n",
       "\n",
       "    .dataframe tbody tr th {\n",
       "        vertical-align: top;\n",
       "    }\n",
       "</style>\n",
       "<table border=\"1\" class=\"dataframe\">\n",
       "  <thead>\n",
       "    <tr style=\"text-align: right;\">\n",
       "      <th></th>\n",
       "      <th>X1</th>\n",
       "      <th>X2</th>\n",
       "    </tr>\n",
       "  </thead>\n",
       "  <tbody>\n",
       "    <tr>\n",
       "      <th>0</th>\n",
       "      <td>a</td>\n",
       "      <td>12</td>\n",
       "    </tr>\n",
       "    <tr>\n",
       "      <th>1</th>\n",
       "      <td>b</td>\n",
       "      <td>55</td>\n",
       "    </tr>\n",
       "    <tr>\n",
       "      <th>2</th>\n",
       "      <td>c</td>\n",
       "      <td>34</td>\n",
       "    </tr>\n",
       "  </tbody>\n",
       "</table>\n",
       "</div>"
      ],
      "text/plain": [
       "  X1  X2\n",
       "0  a  12\n",
       "1  b  55\n",
       "2  c  34"
      ]
     },
     "metadata": {},
     "output_type": "display_data"
    },
    {
     "data": {
      "text/plain": [
       "'\\ndata2'"
      ]
     },
     "metadata": {},
     "output_type": "display_data"
    },
    {
     "data": {
      "text/html": [
       "<div>\n",
       "<style>\n",
       "    .dataframe thead tr:only-child th {\n",
       "        text-align: right;\n",
       "    }\n",
       "\n",
       "    .dataframe thead th {\n",
       "        text-align: left;\n",
       "    }\n",
       "\n",
       "    .dataframe tbody tr th {\n",
       "        vertical-align: top;\n",
       "    }\n",
       "</style>\n",
       "<table border=\"1\" class=\"dataframe\">\n",
       "  <thead>\n",
       "    <tr style=\"text-align: right;\">\n",
       "      <th></th>\n",
       "      <th>X1</th>\n",
       "      <th>X3</th>\n",
       "    </tr>\n",
       "  </thead>\n",
       "  <tbody>\n",
       "    <tr>\n",
       "      <th>0</th>\n",
       "      <td>a</td>\n",
       "      <td>56</td>\n",
       "    </tr>\n",
       "    <tr>\n",
       "      <th>1</th>\n",
       "      <td>b</td>\n",
       "      <td>12</td>\n",
       "    </tr>\n",
       "    <tr>\n",
       "      <th>2</th>\n",
       "      <td>d</td>\n",
       "      <td>75</td>\n",
       "    </tr>\n",
       "  </tbody>\n",
       "</table>\n",
       "</div>"
      ],
      "text/plain": [
       "  X1  X3\n",
       "0  a  56\n",
       "1  b  12\n",
       "2  d  75"
      ]
     },
     "metadata": {},
     "output_type": "display_data"
    },
    {
     "data": {
      "text/plain": [
       "'\\nRight'"
      ]
     },
     "metadata": {},
     "output_type": "display_data"
    },
    {
     "data": {
      "text/html": [
       "<div>\n",
       "<style>\n",
       "    .dataframe thead tr:only-child th {\n",
       "        text-align: right;\n",
       "    }\n",
       "\n",
       "    .dataframe thead th {\n",
       "        text-align: left;\n",
       "    }\n",
       "\n",
       "    .dataframe tbody tr th {\n",
       "        vertical-align: top;\n",
       "    }\n",
       "</style>\n",
       "<table border=\"1\" class=\"dataframe\">\n",
       "  <thead>\n",
       "    <tr style=\"text-align: right;\">\n",
       "      <th></th>\n",
       "      <th>X1</th>\n",
       "      <th>X2</th>\n",
       "      <th>X3</th>\n",
       "    </tr>\n",
       "  </thead>\n",
       "  <tbody>\n",
       "    <tr>\n",
       "      <th>0</th>\n",
       "      <td>a</td>\n",
       "      <td>12.0</td>\n",
       "      <td>56</td>\n",
       "    </tr>\n",
       "    <tr>\n",
       "      <th>1</th>\n",
       "      <td>b</td>\n",
       "      <td>55.0</td>\n",
       "      <td>12</td>\n",
       "    </tr>\n",
       "    <tr>\n",
       "      <th>2</th>\n",
       "      <td>d</td>\n",
       "      <td>NaN</td>\n",
       "      <td>75</td>\n",
       "    </tr>\n",
       "  </tbody>\n",
       "</table>\n",
       "</div>"
      ],
      "text/plain": [
       "  X1    X2  X3\n",
       "0  a  12.0  56\n",
       "1  b  55.0  12\n",
       "2  d   NaN  75"
      ]
     },
     "metadata": {},
     "output_type": "display_data"
    },
    {
     "data": {
      "text/plain": [
       "'\\nleft'"
      ]
     },
     "metadata": {},
     "output_type": "display_data"
    },
    {
     "data": {
      "text/html": [
       "<div>\n",
       "<style>\n",
       "    .dataframe thead tr:only-child th {\n",
       "        text-align: right;\n",
       "    }\n",
       "\n",
       "    .dataframe thead th {\n",
       "        text-align: left;\n",
       "    }\n",
       "\n",
       "    .dataframe tbody tr th {\n",
       "        vertical-align: top;\n",
       "    }\n",
       "</style>\n",
       "<table border=\"1\" class=\"dataframe\">\n",
       "  <thead>\n",
       "    <tr style=\"text-align: right;\">\n",
       "      <th></th>\n",
       "      <th>X1</th>\n",
       "      <th>X2</th>\n",
       "      <th>X3</th>\n",
       "    </tr>\n",
       "  </thead>\n",
       "  <tbody>\n",
       "    <tr>\n",
       "      <th>0</th>\n",
       "      <td>a</td>\n",
       "      <td>12</td>\n",
       "      <td>56.0</td>\n",
       "    </tr>\n",
       "    <tr>\n",
       "      <th>1</th>\n",
       "      <td>b</td>\n",
       "      <td>55</td>\n",
       "      <td>12.0</td>\n",
       "    </tr>\n",
       "    <tr>\n",
       "      <th>2</th>\n",
       "      <td>c</td>\n",
       "      <td>34</td>\n",
       "      <td>NaN</td>\n",
       "    </tr>\n",
       "  </tbody>\n",
       "</table>\n",
       "</div>"
      ],
      "text/plain": [
       "  X1  X2    X3\n",
       "0  a  12  56.0\n",
       "1  b  55  12.0\n",
       "2  c  34   NaN"
      ]
     },
     "metadata": {},
     "output_type": "display_data"
    },
    {
     "data": {
      "text/plain": [
       "'\\ninner'"
      ]
     },
     "metadata": {},
     "output_type": "display_data"
    },
    {
     "data": {
      "text/html": [
       "<div>\n",
       "<style>\n",
       "    .dataframe thead tr:only-child th {\n",
       "        text-align: right;\n",
       "    }\n",
       "\n",
       "    .dataframe thead th {\n",
       "        text-align: left;\n",
       "    }\n",
       "\n",
       "    .dataframe tbody tr th {\n",
       "        vertical-align: top;\n",
       "    }\n",
       "</style>\n",
       "<table border=\"1\" class=\"dataframe\">\n",
       "  <thead>\n",
       "    <tr style=\"text-align: right;\">\n",
       "      <th></th>\n",
       "      <th>X1</th>\n",
       "      <th>X2</th>\n",
       "      <th>X3</th>\n",
       "    </tr>\n",
       "  </thead>\n",
       "  <tbody>\n",
       "    <tr>\n",
       "      <th>0</th>\n",
       "      <td>a</td>\n",
       "      <td>12</td>\n",
       "      <td>56</td>\n",
       "    </tr>\n",
       "    <tr>\n",
       "      <th>1</th>\n",
       "      <td>b</td>\n",
       "      <td>55</td>\n",
       "      <td>12</td>\n",
       "    </tr>\n",
       "  </tbody>\n",
       "</table>\n",
       "</div>"
      ],
      "text/plain": [
       "  X1  X2  X3\n",
       "0  a  12  56\n",
       "1  b  55  12"
      ]
     },
     "metadata": {},
     "output_type": "display_data"
    },
    {
     "data": {
      "text/plain": [
       "'\\nouter'"
      ]
     },
     "metadata": {},
     "output_type": "display_data"
    },
    {
     "data": {
      "text/html": [
       "<div>\n",
       "<style>\n",
       "    .dataframe thead tr:only-child th {\n",
       "        text-align: right;\n",
       "    }\n",
       "\n",
       "    .dataframe thead th {\n",
       "        text-align: left;\n",
       "    }\n",
       "\n",
       "    .dataframe tbody tr th {\n",
       "        vertical-align: top;\n",
       "    }\n",
       "</style>\n",
       "<table border=\"1\" class=\"dataframe\">\n",
       "  <thead>\n",
       "    <tr style=\"text-align: right;\">\n",
       "      <th></th>\n",
       "      <th>X1</th>\n",
       "      <th>X2</th>\n",
       "      <th>X3</th>\n",
       "    </tr>\n",
       "  </thead>\n",
       "  <tbody>\n",
       "    <tr>\n",
       "      <th>0</th>\n",
       "      <td>a</td>\n",
       "      <td>12.0</td>\n",
       "      <td>56.0</td>\n",
       "    </tr>\n",
       "    <tr>\n",
       "      <th>1</th>\n",
       "      <td>b</td>\n",
       "      <td>55.0</td>\n",
       "      <td>12.0</td>\n",
       "    </tr>\n",
       "    <tr>\n",
       "      <th>2</th>\n",
       "      <td>c</td>\n",
       "      <td>34.0</td>\n",
       "      <td>NaN</td>\n",
       "    </tr>\n",
       "    <tr>\n",
       "      <th>3</th>\n",
       "      <td>d</td>\n",
       "      <td>NaN</td>\n",
       "      <td>75.0</td>\n",
       "    </tr>\n",
       "  </tbody>\n",
       "</table>\n",
       "</div>"
      ],
      "text/plain": [
       "  X1    X2    X3\n",
       "0  a  12.0  56.0\n",
       "1  b  55.0  12.0\n",
       "2  c  34.0   NaN\n",
       "3  d   NaN  75.0"
      ]
     },
     "metadata": {},
     "output_type": "display_data"
    }
   ],
   "source": [
    "# combining data \n",
    "X = {'X1' : ['a','b','c'],\n",
    "    'X2' : [12,55,34]}                                        # create a dataset\n",
    "data1 = pd.DataFrame(X,columns=['X1','X2'])                   # create dataframe data1\n",
    "display('data1',data1)                                        # display dataframe data1\n",
    "\n",
    "X2 = {'X1' : ['a','b','d'],\n",
    "     'X3' : [56,12,75]}                                       # create a dataset\n",
    "data2 = pd.DataFrame(X2,columns=['X1','X3'])                  # create a dataframe data2\n",
    "display('\\ndata2',data2)                                      # display dataframe data2\n",
    "\n",
    "display('\\nRight',pd.merge(data1,data2,how='right',on='X1'))  # merge data1 with data2 along X1 on the right\n",
    "display('\\nleft',pd.merge(data1,data2,how='left',on='X1'))    # merge data1 with data2 along X1 on the left\n",
    "display('\\ninner',pd.merge(data1,data2,how='inner',on='X1'))  # merge data1 with data2 along X1 on the inner\n",
    "display('\\nouter',pd.merge(data1,data2,how='outer',on='X1'))  # merge data1 with data2 along X1 on the outer"
   ]
  },
  {
   "cell_type": "code",
   "execution_count": 21,
   "metadata": {},
   "outputs": [
    {
     "data": {
      "text/plain": [
       "'data1'"
      ]
     },
     "metadata": {},
     "output_type": "display_data"
    },
    {
     "data": {
      "text/html": [
       "<div>\n",
       "<style>\n",
       "    .dataframe thead tr:only-child th {\n",
       "        text-align: right;\n",
       "    }\n",
       "\n",
       "    .dataframe thead th {\n",
       "        text-align: left;\n",
       "    }\n",
       "\n",
       "    .dataframe tbody tr th {\n",
       "        vertical-align: top;\n",
       "    }\n",
       "</style>\n",
       "<table border=\"1\" class=\"dataframe\">\n",
       "  <thead>\n",
       "    <tr style=\"text-align: right;\">\n",
       "      <th></th>\n",
       "      <th>X1</th>\n",
       "      <th>X2</th>\n",
       "    </tr>\n",
       "  </thead>\n",
       "  <tbody>\n",
       "    <tr>\n",
       "      <th>0</th>\n",
       "      <td>a</td>\n",
       "      <td>12</td>\n",
       "    </tr>\n",
       "    <tr>\n",
       "      <th>1</th>\n",
       "      <td>b</td>\n",
       "      <td>55</td>\n",
       "    </tr>\n",
       "    <tr>\n",
       "      <th>2</th>\n",
       "      <td>c</td>\n",
       "      <td>34</td>\n",
       "    </tr>\n",
       "  </tbody>\n",
       "</table>\n",
       "</div>"
      ],
      "text/plain": [
       "  X1  X2\n",
       "0  a  12\n",
       "1  b  55\n",
       "2  c  34"
      ]
     },
     "metadata": {},
     "output_type": "display_data"
    },
    {
     "data": {
      "text/plain": [
       "'data2'"
      ]
     },
     "metadata": {},
     "output_type": "display_data"
    },
    {
     "data": {
      "text/html": [
       "<div>\n",
       "<style>\n",
       "    .dataframe thead tr:only-child th {\n",
       "        text-align: right;\n",
       "    }\n",
       "\n",
       "    .dataframe thead th {\n",
       "        text-align: left;\n",
       "    }\n",
       "\n",
       "    .dataframe tbody tr th {\n",
       "        vertical-align: top;\n",
       "    }\n",
       "</style>\n",
       "<table border=\"1\" class=\"dataframe\">\n",
       "  <thead>\n",
       "    <tr style=\"text-align: right;\">\n",
       "      <th></th>\n",
       "      <th>X1</th>\n",
       "      <th>X3</th>\n",
       "    </tr>\n",
       "  </thead>\n",
       "  <tbody>\n",
       "    <tr>\n",
       "      <th>0</th>\n",
       "      <td>a</td>\n",
       "      <td>56</td>\n",
       "    </tr>\n",
       "    <tr>\n",
       "      <th>1</th>\n",
       "      <td>b</td>\n",
       "      <td>12</td>\n",
       "    </tr>\n",
       "    <tr>\n",
       "      <th>2</th>\n",
       "      <td>d</td>\n",
       "      <td>75</td>\n",
       "    </tr>\n",
       "  </tbody>\n",
       "</table>\n",
       "</div>"
      ],
      "text/plain": [
       "  X1  X3\n",
       "0  a  56\n",
       "1  b  12\n",
       "2  d  75"
      ]
     },
     "metadata": {},
     "output_type": "display_data"
    },
    {
     "data": {
      "text/plain": [
       "'data3(join)'"
      ]
     },
     "metadata": {},
     "output_type": "display_data"
    },
    {
     "data": {
      "text/html": [
       "<div>\n",
       "<style>\n",
       "    .dataframe thead tr:only-child th {\n",
       "        text-align: right;\n",
       "    }\n",
       "\n",
       "    .dataframe thead th {\n",
       "        text-align: left;\n",
       "    }\n",
       "\n",
       "    .dataframe tbody tr th {\n",
       "        vertical-align: top;\n",
       "    }\n",
       "</style>\n",
       "<table border=\"1\" class=\"dataframe\">\n",
       "  <thead>\n",
       "    <tr style=\"text-align: right;\">\n",
       "      <th></th>\n",
       "      <th>X1X1</th>\n",
       "      <th>X2</th>\n",
       "      <th>X1</th>\n",
       "      <th>X3</th>\n",
       "    </tr>\n",
       "  </thead>\n",
       "  <tbody>\n",
       "    <tr>\n",
       "      <th>0</th>\n",
       "      <td>a</td>\n",
       "      <td>12</td>\n",
       "      <td>a</td>\n",
       "      <td>56</td>\n",
       "    </tr>\n",
       "    <tr>\n",
       "      <th>1</th>\n",
       "      <td>b</td>\n",
       "      <td>55</td>\n",
       "      <td>b</td>\n",
       "      <td>12</td>\n",
       "    </tr>\n",
       "    <tr>\n",
       "      <th>2</th>\n",
       "      <td>c</td>\n",
       "      <td>34</td>\n",
       "      <td>d</td>\n",
       "      <td>75</td>\n",
       "    </tr>\n",
       "  </tbody>\n",
       "</table>\n",
       "</div>"
      ],
      "text/plain": [
       "  X1X1  X2 X1  X3\n",
       "0    a  12  a  56\n",
       "1    b  55  b  12\n",
       "2    c  34  d  75"
      ]
     },
     "metadata": {},
     "output_type": "display_data"
    },
    {
     "data": {
      "text/html": [
       "<div>\n",
       "<style>\n",
       "    .dataframe thead tr:only-child th {\n",
       "        text-align: right;\n",
       "    }\n",
       "\n",
       "    .dataframe thead th {\n",
       "        text-align: left;\n",
       "    }\n",
       "\n",
       "    .dataframe tbody tr th {\n",
       "        vertical-align: top;\n",
       "    }\n",
       "</style>\n",
       "<table border=\"1\" class=\"dataframe\">\n",
       "  <thead>\n",
       "    <tr style=\"text-align: right;\">\n",
       "      <th></th>\n",
       "      <th>X1</th>\n",
       "      <th>X2</th>\n",
       "      <th>X1</th>\n",
       "      <th>X3</th>\n",
       "    </tr>\n",
       "  </thead>\n",
       "  <tbody>\n",
       "    <tr>\n",
       "      <th>0</th>\n",
       "      <td>a</td>\n",
       "      <td>12</td>\n",
       "      <td>a</td>\n",
       "      <td>56</td>\n",
       "    </tr>\n",
       "    <tr>\n",
       "      <th>1</th>\n",
       "      <td>b</td>\n",
       "      <td>55</td>\n",
       "      <td>b</td>\n",
       "      <td>12</td>\n",
       "    </tr>\n",
       "    <tr>\n",
       "      <th>2</th>\n",
       "      <td>c</td>\n",
       "      <td>34</td>\n",
       "      <td>d</td>\n",
       "      <td>75</td>\n",
       "    </tr>\n",
       "  </tbody>\n",
       "</table>\n",
       "</div>"
      ],
      "text/plain": [
       "  X1  X2 X1  X3\n",
       "0  a  12  a  56\n",
       "1  b  55  b  12\n",
       "2  c  34  d  75"
      ]
     },
     "execution_count": 21,
     "metadata": {},
     "output_type": "execute_result"
    }
   ],
   "source": [
    "# joining \n",
    "\n",
    "display('data1',data1)                               # display data1\n",
    "display('data2',data2)                               # display data2\n",
    "data3 = data1.join(data2,lsuffix='X1')               # with X1 as a base join data1 and data2\n",
    "display('data3(join)',data3)                         # display data3\n",
    "\n",
    "pd.concat([data1,data2],axis=1,join='inner')         # join data1 and data2 "
   ]
  },
  {
   "cell_type": "code",
   "execution_count": 22,
   "metadata": {},
   "outputs": [
    {
     "data": {
      "text/plain": [
       "'s'"
      ]
     },
     "metadata": {},
     "output_type": "display_data"
    },
    {
     "data": {
      "text/plain": [
       "a    10\n",
       "b     7\n",
       "c     8\n",
       "d     2\n",
       "e     3\n",
       "dtype: int64"
      ]
     },
     "metadata": {},
     "output_type": "display_data"
    },
    {
     "data": {
      "text/plain": [
       "'\\ns2'"
      ]
     },
     "metadata": {},
     "output_type": "display_data"
    },
    {
     "data": {
      "text/plain": [
       "a    3\n",
       "c    9\n",
       "d    5\n",
       "dtype: int64"
      ]
     },
     "metadata": {},
     "output_type": "display_data"
    },
    {
     "data": {
      "text/plain": [
       "'\\ns8(appended)'"
      ]
     },
     "metadata": {},
     "output_type": "display_data"
    },
    {
     "data": {
      "text/plain": [
       "a    10\n",
       "b     7\n",
       "c     8\n",
       "d     2\n",
       "e     3\n",
       "a     3\n",
       "c     9\n",
       "d     5\n",
       "dtype: int64"
      ]
     },
     "metadata": {},
     "output_type": "display_data"
    }
   ],
   "source": [
    "# concatenate\n",
    "display('s',s)                         # display s\n",
    "display('\\ns2',s2)                     # display s2\n",
    "s8 = s.append(s2)                      # append s2 on s vertically\n",
    "display('\\ns8(appended)',s8)           # display s8 appended"
   ]
  },
  {
   "cell_type": "code",
   "execution_count": 23,
   "metadata": {},
   "outputs": [
    {
     "data": {
      "text/plain": [
       "'df3'"
      ]
     },
     "metadata": {},
     "output_type": "display_data"
    },
    {
     "data": {
      "text/html": [
       "<div>\n",
       "<style>\n",
       "    .dataframe thead tr:only-child th {\n",
       "        text-align: right;\n",
       "    }\n",
       "\n",
       "    .dataframe thead th {\n",
       "        text-align: left;\n",
       "    }\n",
       "\n",
       "    .dataframe tbody tr th {\n",
       "        vertical-align: top;\n",
       "    }\n",
       "</style>\n",
       "<table border=\"1\" class=\"dataframe\">\n",
       "  <thead>\n",
       "    <tr style=\"text-align: right;\">\n",
       "      <th></th>\n",
       "      <th>date</th>\n",
       "      <th>type</th>\n",
       "      <th>value</th>\n",
       "    </tr>\n",
       "  </thead>\n",
       "  <tbody>\n",
       "    <tr>\n",
       "      <th>0</th>\n",
       "      <td>2017-03-01</td>\n",
       "      <td>a</td>\n",
       "      <td>11.3</td>\n",
       "    </tr>\n",
       "    <tr>\n",
       "      <th>1</th>\n",
       "      <td>2017-02-01</td>\n",
       "      <td>b</td>\n",
       "      <td>12.6</td>\n",
       "    </tr>\n",
       "    <tr>\n",
       "      <th>2</th>\n",
       "      <td>2017-04-01</td>\n",
       "      <td>a</td>\n",
       "      <td>96.2</td>\n",
       "    </tr>\n",
       "    <tr>\n",
       "      <th>3</th>\n",
       "      <td>2017-01-01</td>\n",
       "      <td>c</td>\n",
       "      <td>14.3</td>\n",
       "    </tr>\n",
       "    <tr>\n",
       "      <th>4</th>\n",
       "      <td>2017-06-01</td>\n",
       "      <td>d</td>\n",
       "      <td>12.5</td>\n",
       "    </tr>\n",
       "    <tr>\n",
       "      <th>5</th>\n",
       "      <td>2017-05-01</td>\n",
       "      <td>b</td>\n",
       "      <td>45.3</td>\n",
       "    </tr>\n",
       "  </tbody>\n",
       "</table>\n",
       "</div>"
      ],
      "text/plain": [
       "         date type  value\n",
       "0  2017-03-01    a   11.3\n",
       "1  2017-02-01    b   12.6\n",
       "2  2017-04-01    a   96.2\n",
       "3  2017-01-01    c   14.3\n",
       "4  2017-06-01    d   12.5\n",
       "5  2017-05-01    b   45.3"
      ]
     },
     "metadata": {},
     "output_type": "display_data"
    },
    {
     "data": {
      "text/html": [
       "<div>\n",
       "<style>\n",
       "    .dataframe thead tr:only-child th {\n",
       "        text-align: right;\n",
       "    }\n",
       "\n",
       "    .dataframe thead th {\n",
       "        text-align: left;\n",
       "    }\n",
       "\n",
       "    .dataframe tbody tr th {\n",
       "        vertical-align: top;\n",
       "    }\n",
       "</style>\n",
       "<table border=\"1\" class=\"dataframe\">\n",
       "  <thead>\n",
       "    <tr style=\"text-align: right;\">\n",
       "      <th></th>\n",
       "      <th>date</th>\n",
       "      <th>type</th>\n",
       "      <th>value</th>\n",
       "    </tr>\n",
       "  </thead>\n",
       "  <tbody>\n",
       "    <tr>\n",
       "      <th>0</th>\n",
       "      <td>2017-01-31</td>\n",
       "      <td>a</td>\n",
       "      <td>11.3</td>\n",
       "    </tr>\n",
       "    <tr>\n",
       "      <th>1</th>\n",
       "      <td>2017-02-28</td>\n",
       "      <td>b</td>\n",
       "      <td>12.6</td>\n",
       "    </tr>\n",
       "    <tr>\n",
       "      <th>2</th>\n",
       "      <td>2017-03-31</td>\n",
       "      <td>a</td>\n",
       "      <td>96.2</td>\n",
       "    </tr>\n",
       "    <tr>\n",
       "      <th>3</th>\n",
       "      <td>2017-04-30</td>\n",
       "      <td>c</td>\n",
       "      <td>14.3</td>\n",
       "    </tr>\n",
       "    <tr>\n",
       "      <th>4</th>\n",
       "      <td>2017-05-31</td>\n",
       "      <td>d</td>\n",
       "      <td>12.5</td>\n",
       "    </tr>\n",
       "    <tr>\n",
       "      <th>5</th>\n",
       "      <td>2017-06-30</td>\n",
       "      <td>b</td>\n",
       "      <td>45.3</td>\n",
       "    </tr>\n",
       "  </tbody>\n",
       "</table>\n",
       "</div>"
      ],
      "text/plain": [
       "        date type  value\n",
       "0 2017-01-31    a   11.3\n",
       "1 2017-02-28    b   12.6\n",
       "2 2017-03-31    a   96.2\n",
       "3 2017-04-30    c   14.3\n",
       "4 2017-05-31    d   12.5\n",
       "5 2017-06-30    b   45.3"
      ]
     },
     "metadata": {},
     "output_type": "display_data"
    }
   ],
   "source": [
    "# dates\n",
    "display('df3',df3)                                        # display df3\n",
    "df3['date'] = pd.to_datetime(df3['date'])\n",
    "df3['date'] = pd.date_range('2017-01-01',periods=6,freq='M')\n",
    "index = pd.DatetimeIndex((2012,1,2))\n",
    "display(df3)"
   ]
  },
  {
   "cell_type": "code",
   "execution_count": 24,
   "metadata": {},
   "outputs": [
    {
     "data": {
      "text/plain": [
       "'s'"
      ]
     },
     "metadata": {},
     "output_type": "display_data"
    },
    {
     "data": {
      "text/plain": [
       "a    10\n",
       "b     7\n",
       "c     8\n",
       "d     2\n",
       "e     3\n",
       "dtype: int64"
      ]
     },
     "metadata": {},
     "output_type": "display_data"
    },
    {
     "data": {
      "image/png": "[encoded data removed]",
      "text/plain": [
       "<matplotlib.figure.Figure at 0x2ce65ef7438>"
      ]
     },
     "metadata": {},
     "output_type": "display_data"
    },
    {
     "data": {
      "text/plain": [
       "'\\ndf3'"
      ]
     },
     "metadata": {},
     "output_type": "display_data"
    },
    {
     "data": {
      "text/html": [
       "<div>\n",
       "<style>\n",
       "    .dataframe thead tr:only-child th {\n",
       "        text-align: right;\n",
       "    }\n",
       "\n",
       "    .dataframe thead th {\n",
       "        text-align: left;\n",
       "    }\n",
       "\n",
       "    .dataframe tbody tr th {\n",
       "        vertical-align: top;\n",
       "    }\n",
       "</style>\n",
       "<table border=\"1\" class=\"dataframe\">\n",
       "  <thead>\n",
       "    <tr style=\"text-align: right;\">\n",
       "      <th></th>\n",
       "      <th>date</th>\n",
       "      <th>type</th>\n",
       "      <th>value</th>\n",
       "    </tr>\n",
       "  </thead>\n",
       "  <tbody>\n",
       "    <tr>\n",
       "      <th>0</th>\n",
       "      <td>2017-01-31</td>\n",
       "      <td>a</td>\n",
       "      <td>11.3</td>\n",
       "    </tr>\n",
       "    <tr>\n",
       "      <th>1</th>\n",
       "      <td>2017-02-28</td>\n",
       "      <td>b</td>\n",
       "      <td>12.6</td>\n",
       "    </tr>\n",
       "    <tr>\n",
       "      <th>2</th>\n",
       "      <td>2017-03-31</td>\n",
       "      <td>a</td>\n",
       "      <td>96.2</td>\n",
       "    </tr>\n",
       "    <tr>\n",
       "      <th>3</th>\n",
       "      <td>2017-04-30</td>\n",
       "      <td>c</td>\n",
       "      <td>14.3</td>\n",
       "    </tr>\n",
       "    <tr>\n",
       "      <th>4</th>\n",
       "      <td>2017-05-31</td>\n",
       "      <td>d</td>\n",
       "      <td>12.5</td>\n",
       "    </tr>\n",
       "    <tr>\n",
       "      <th>5</th>\n",
       "      <td>2017-06-30</td>\n",
       "      <td>b</td>\n",
       "      <td>45.3</td>\n",
       "    </tr>\n",
       "  </tbody>\n",
       "</table>\n",
       "</div>"
      ],
      "text/plain": [
       "        date type  value\n",
       "0 2017-01-31    a   11.3\n",
       "1 2017-02-28    b   12.6\n",
       "2 2017-03-31    a   96.2\n",
       "3 2017-04-30    c   14.3\n",
       "4 2017-05-31    d   12.5\n",
       "5 2017-06-30    b   45.3"
      ]
     },
     "metadata": {},
     "output_type": "display_data"
    },
    {
     "data": {
      "image/png": "[encoded data removed]",
      "text/plain": [
       "<matplotlib.figure.Figure at 0x2ce6616f7f0>"
      ]
     },
     "metadata": {},
     "output_type": "display_data"
    }
   ],
   "source": [
    "# visualization\n",
    "\n",
    "display('s',s)                          # display s\n",
    "s.plot()                                # plot s\n",
    "plt.show()                              # display graph\n",
    "\n",
    "display('\\ndf3',df3)                    # display df3\n",
    "df3.plot()                              # plot df3\n",
    "plt.show()                              # display graph"
   ]
  },
  {
   "cell_type": "code",
   "execution_count": null,
   "metadata": {
    "collapsed": true
   },
   "outputs": [],
   "source": []
  }
 ],
 "metadata": {
  "kernelspec": {
   "display_name": "Python 3",
   "language": "python",
   "name": "python3"
  },
  "language_info": {
   "codemirror_mode": {
    "name": "ipython",
    "version": 3
   },
   "file_extension": ".py",
   "mimetype": "text/x-python",
   "name": "python",
   "nbconvert_exporter": "python",
   "pygments_lexer": "ipython3",
   "version": "3.5.3"
  }
 },
 "nbformat": 4,
 "nbformat_minor": 2
}
