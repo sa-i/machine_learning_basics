{
 "cells": [
  {
   "cell_type": "code",
   "execution_count": 1,
   "metadata": {
    "collapsed": true
   },
   "outputs": [],
   "source": [
    "import pandas as pd               \n",
    "import IPython           # for displaying the data structures"
   ]
  },
  {
   "cell_type": "code",
   "execution_count": 2,
   "metadata": {},
   "outputs": [
    {
     "data": {
      "text/plain": [
       "a    5\n",
       "b    7\n",
       "c    8\n",
       "d    2\n",
       "e    3\n",
       "dtype: int64"
      ]
     },
     "metadata": {},
     "output_type": "display_data"
    }
   ],
   "source": [
    "# Series\n",
    "\n",
    "s = pd.Series([5,7,8,2,3],index=['a','b','c','d','e'])         # 1D labelled array capable of holding any data types\n",
    "display(s)"
   ]
  },
  {
   "cell_type": "code",
   "execution_count": 3,
   "metadata": {},
   "outputs": [
    {
     "data": {
      "text/html": [
       "<div>\n",
       "<style>\n",
       "    .dataframe thead tr:only-child th {\n",
       "        text-align: right;\n",
       "    }\n",
       "\n",
       "    .dataframe thead th {\n",
       "        text-align: left;\n",
       "    }\n",
       "\n",
       "    .dataframe tbody tr th {\n",
       "        vertical-align: top;\n",
       "    }\n",
       "</style>\n",
       "<table border=\"1\" class=\"dataframe\">\n",
       "  <thead>\n",
       "    <tr style=\"text-align: right;\">\n",
       "      <th></th>\n",
       "      <th>Country</th>\n",
       "      <th>Capital</th>\n",
       "      <th>Population</th>\n",
       "    </tr>\n",
       "  </thead>\n",
       "  <tbody>\n",
       "    <tr>\n",
       "      <th>0</th>\n",
       "      <td>india</td>\n",
       "      <td>New dehli</td>\n",
       "      <td>134212015</td>\n",
       "    </tr>\n",
       "    <tr>\n",
       "      <th>1</th>\n",
       "      <td>france</td>\n",
       "      <td>Paris</td>\n",
       "      <td>111908046</td>\n",
       "    </tr>\n",
       "    <tr>\n",
       "      <th>2</th>\n",
       "      <td>england</td>\n",
       "      <td>landon</td>\n",
       "      <td>204565789</td>\n",
       "    </tr>\n",
       "  </tbody>\n",
       "</table>\n",
       "</div>"
      ],
      "text/plain": [
       "   Country    Capital  Population\n",
       "0    india  New dehli   134212015\n",
       "1   france      Paris   111908046\n",
       "2  england     landon   204565789"
      ]
     },
     "metadata": {},
     "output_type": "display_data"
    }
   ],
   "source": [
    "# Dataframe\n",
    "data = {'Country' : ['india','france','england'],\n",
    "       'Capital' : ['New dehli','Paris','landon'],\n",
    "       'Population' : [134212015,111908046,204565789]}\n",
    "df = pd.DataFrame(data,columns=['Country','Capital','Population'])\n",
    "display(df)"
   ]
  },
  {
   "cell_type": "code",
   "execution_count": 4,
   "metadata": {},
   "outputs": [
    {
     "data": {
      "text/html": [
       "<div>\n",
       "<style>\n",
       "    .dataframe thead tr:only-child th {\n",
       "        text-align: right;\n",
       "    }\n",
       "\n",
       "    .dataframe thead th {\n",
       "        text-align: left;\n",
       "    }\n",
       "\n",
       "    .dataframe tbody tr th {\n",
       "        vertical-align: top;\n",
       "    }\n",
       "</style>\n",
       "<table border=\"1\" class=\"dataframe\">\n",
       "  <thead>\n",
       "    <tr style=\"text-align: right;\">\n",
       "      <th></th>\n",
       "      <th>Country</th>\n",
       "      <th>Capital</th>\n",
       "      <th>Population</th>\n",
       "    </tr>\n",
       "  </thead>\n",
       "  <tbody>\n",
       "    <tr>\n",
       "      <th>0</th>\n",
       "      <td>india</td>\n",
       "      <td>New dehli</td>\n",
       "      <td>134212015</td>\n",
       "    </tr>\n",
       "    <tr>\n",
       "      <th>1</th>\n",
       "      <td>france</td>\n",
       "      <td>Paris</td>\n",
       "      <td>111908046</td>\n",
       "    </tr>\n",
       "    <tr>\n",
       "      <th>2</th>\n",
       "      <td>england</td>\n",
       "      <td>landon</td>\n",
       "      <td>204565789</td>\n",
       "    </tr>\n",
       "  </tbody>\n",
       "</table>\n",
       "</div>"
      ],
      "text/plain": [
       "   Country    Capital  Population\n",
       "0    india  New dehli   134212015\n",
       "1   france      Paris   111908046\n",
       "2  england     landon   204565789"
      ]
     },
     "metadata": {},
     "output_type": "display_data"
    },
    {
     "data": {
      "text/html": [
       "<div>\n",
       "<style>\n",
       "    .dataframe thead tr:only-child th {\n",
       "        text-align: right;\n",
       "    }\n",
       "\n",
       "    .dataframe thead th {\n",
       "        text-align: left;\n",
       "    }\n",
       "\n",
       "    .dataframe tbody tr th {\n",
       "        vertical-align: top;\n",
       "    }\n",
       "</style>\n",
       "<table border=\"1\" class=\"dataframe\">\n",
       "  <thead>\n",
       "    <tr style=\"text-align: right;\">\n",
       "      <th></th>\n",
       "      <th>Country</th>\n",
       "      <th>Capital</th>\n",
       "      <th>Population</th>\n",
       "    </tr>\n",
       "  </thead>\n",
       "  <tbody>\n",
       "    <tr>\n",
       "      <th>0</th>\n",
       "      <td>india</td>\n",
       "      <td>New dehli</td>\n",
       "      <td>134212015</td>\n",
       "    </tr>\n",
       "    <tr>\n",
       "      <th>1</th>\n",
       "      <td>france</td>\n",
       "      <td>Paris</td>\n",
       "      <td>111908046</td>\n",
       "    </tr>\n",
       "    <tr>\n",
       "      <th>2</th>\n",
       "      <td>england</td>\n",
       "      <td>landon</td>\n",
       "      <td>204565789</td>\n",
       "    </tr>\n",
       "  </tbody>\n",
       "</table>\n",
       "</div>"
      ],
      "text/plain": [
       "   Country    Capital  Population\n",
       "0    india  New dehli   134212015\n",
       "1   france      Paris   111908046\n",
       "2  england     landon   204565789"
      ]
     },
     "metadata": {},
     "output_type": "display_data"
    }
   ],
   "source": [
    "# input and ouput\n",
    "\n",
    "# read and write csv\n",
    "df.to_csv('country.csv',index=None)             # Creates a csv file with values of df and no index\n",
    "df1 = pd.read_csv('country.csv')                # reads values from country.csv and saves it to df1\n",
    "display(df1)                                    # display df1 \n",
    "\n",
    "# read and write from excel\n",
    "df.to_excel('country.xlsx',sheet_name='country')            # writes values of df to counrty.xlsx\n",
    "df2 = pd.read_excel('country.xlsx',sheetname='country')     # reads values from country.xlsx and saves it to df2\n",
    "display(df2)                                                # display df2 "
   ]
  },
  {
   "cell_type": "code",
   "execution_count": 5,
   "metadata": {},
   "outputs": [
    {
     "data": {
      "text/plain": [
       "a    5\n",
       "b    7\n",
       "c    8\n",
       "d    2\n",
       "e    3\n",
       "dtype: int64"
      ]
     },
     "metadata": {},
     "output_type": "display_data"
    },
    {
     "name": "stdout",
     "output_type": "stream",
     "text": [
      "7  = value of b\n",
      "\n"
     ]
    },
    {
     "data": {
      "text/html": [
       "<div>\n",
       "<style>\n",
       "    .dataframe thead tr:only-child th {\n",
       "        text-align: right;\n",
       "    }\n",
       "\n",
       "    .dataframe thead th {\n",
       "        text-align: left;\n",
       "    }\n",
       "\n",
       "    .dataframe tbody tr th {\n",
       "        vertical-align: top;\n",
       "    }\n",
       "</style>\n",
       "<table border=\"1\" class=\"dataframe\">\n",
       "  <thead>\n",
       "    <tr style=\"text-align: right;\">\n",
       "      <th></th>\n",
       "      <th>Country</th>\n",
       "      <th>Capital</th>\n",
       "      <th>Population</th>\n",
       "    </tr>\n",
       "  </thead>\n",
       "  <tbody>\n",
       "    <tr>\n",
       "      <th>0</th>\n",
       "      <td>india</td>\n",
       "      <td>New dehli</td>\n",
       "      <td>134212015</td>\n",
       "    </tr>\n",
       "    <tr>\n",
       "      <th>1</th>\n",
       "      <td>france</td>\n",
       "      <td>Paris</td>\n",
       "      <td>111908046</td>\n",
       "    </tr>\n",
       "    <tr>\n",
       "      <th>2</th>\n",
       "      <td>england</td>\n",
       "      <td>landon</td>\n",
       "      <td>204565789</td>\n",
       "    </tr>\n",
       "  </tbody>\n",
       "</table>\n",
       "</div>"
      ],
      "text/plain": [
       "   Country    Capital  Population\n",
       "0    india  New dehli   134212015\n",
       "1   france      Paris   111908046\n",
       "2  england     landon   204565789"
      ]
     },
     "metadata": {},
     "output_type": "display_data"
    },
    {
     "name": "stdout",
     "output_type": "stream",
     "text": [
      "   Country Capital  Population\n",
      "1   france   Paris   111908046\n",
      "2  england  landon   204565789  = subset of df\n",
      "\n",
      "india  = element at 0th row and 0th coloumn\n",
      "\n",
      "england  = element at 2nd row and 0th coloumn\n",
      "\n",
      "india  = element at 0th row and under the coloumn of country\n",
      "\n",
      "france  = element at 1st row and under the coloumn of country\n",
      "\n",
      "Country         england\n",
      "Capital          landon\n",
      "Population    204565789\n",
      "Name: 2, dtype: object  = select row 2\n",
      "\n",
      "0    New dehli\n",
      "1        Paris\n",
      "2       landon\n",
      "Name: Capital, dtype: object  = select capital coloumn\n",
      "\n",
      "Paris  = select 1 st row element in capital\n",
      "\n",
      "   Country    Capital  Population\n",
      "0    india  New dehli   134212015\n",
      "1   france      Paris   111908046\n",
      "2  england     landon   204565789  = population > 120000000\n",
      "\n",
      "a    5\n",
      "b    7\n",
      "c    8\n",
      "d    2\n",
      "e    3\n",
      "dtype: int64 \n",
      "\n",
      "d    2\n",
      "e    3\n",
      "dtype: int64  = elements graeter than 3\n",
      "\n",
      "a    5\n",
      "b    7\n",
      "c    8\n",
      "dtype: int64 = <1 or >4\n",
      "\n"
     ]
    },
    {
     "name": "stderr",
     "output_type": "stream",
     "text": [
      "c:\\users\\zero\\appdata\\local\\programs\\python\\python35\\lib\\site-packages\\ipykernel_launcher.py:19: DeprecationWarning: \n",
      ".ix is deprecated. Please use\n",
      ".loc for label based indexing or\n",
      ".iloc for positional indexing\n",
      "\n",
      "See the documentation here:\n",
      "http://pandas.pydata.org/pandas-docs/stable/indexing.html#deprecate_ix\n"
     ]
    },
    {
     "data": {
      "text/plain": [
       "a    10\n",
       "b     7\n",
       "c     8\n",
       "d     2\n",
       "e     3\n",
       "dtype: int64"
      ]
     },
     "metadata": {},
     "output_type": "display_data"
    }
   ],
   "source": [
    "# selection\n",
    "\n",
    "# getting elements\n",
    "display(s)                                        # display array \n",
    "print(s['b'],' = value of b\\n')                   # get one element\n",
    "\n",
    "display(df)                                       # display dataframe\n",
    "print(df[1:],' = subset of df\\n')                 # get subset of dataframe\n",
    "\n",
    "# by position\n",
    "print(df.iloc[0,0],' = element at 0th row and 0th coloumn\\n')                          # select single value by row and coloumn\n",
    "print(df.iat[2,0],' = element at 2nd row and 0th coloumn\\n')                           # select element at sepcifiedlocation\n",
    "\n",
    "# by label\n",
    "print(df.loc[0,'Country'],' = element at 0th row and under the coloumn of country\\n')  # select single value by row and coloumn labels\n",
    "print(df.at[1,'Country'],' = element at 1st row and under the coloumn of country\\n')   # select single value by row and coloumn labels\n",
    "\n",
    "# by label \n",
    "print(df.ix[2],' = select row 2\\n')                                                    # select single row of subset of rows\n",
    "print(df.ix[:,'Capital'],' = select capital coloumn\\n')                                # select single coloumn of subset of coloumn \n",
    "print(df.ix[1,'Capital'],' = select 1 st row element in capital\\n')                    # select rpw and coloumn\n",
    "\n",
    "# boolean indexing \n",
    "print(df[df['Population']>12000000],' = population > 120000000\\n')                     # filter to adjust dataframe\n",
    "print(s,'\\n')                                                                          # display s\n",
    "print(s[~(s>3)],' = elements graeter than 3\\n')                                        # series where value is not > 3    \n",
    "print(s[(s < 1) | (s > 4)],'= <1 or >4\\n')                                             # s value where s is < 1 or > 4 \n",
    "\n",
    "# setting\n",
    "s['a'] = 10                                                                            # set index value a to 10 \n",
    "display(s)"
   ]
  },
  {
   "cell_type": "code",
   "execution_count": 6,
   "metadata": {},
   "outputs": [
    {
     "data": {
      "text/plain": [
       "a    10\n",
       "b     7\n",
       "c     8\n",
       "d     2\n",
       "e     3\n",
       "dtype: int64"
      ]
     },
     "metadata": {},
     "output_type": "display_data"
    },
    {
     "name": "stdout",
     "output_type": "stream",
     "text": [
      "b    7\n",
      "d    2\n",
      "e    3\n",
      "dtype: int64  = s1(dropped values)\n"
     ]
    },
    {
     "data": {
      "text/html": [
       "<div>\n",
       "<style>\n",
       "    .dataframe thead tr:only-child th {\n",
       "        text-align: right;\n",
       "    }\n",
       "\n",
       "    .dataframe thead th {\n",
       "        text-align: left;\n",
       "    }\n",
       "\n",
       "    .dataframe tbody tr th {\n",
       "        vertical-align: top;\n",
       "    }\n",
       "</style>\n",
       "<table border=\"1\" class=\"dataframe\">\n",
       "  <thead>\n",
       "    <tr style=\"text-align: right;\">\n",
       "      <th></th>\n",
       "      <th>Country</th>\n",
       "      <th>Capital</th>\n",
       "      <th>Population</th>\n",
       "    </tr>\n",
       "  </thead>\n",
       "  <tbody>\n",
       "    <tr>\n",
       "      <th>0</th>\n",
       "      <td>india</td>\n",
       "      <td>New dehli</td>\n",
       "      <td>134212015</td>\n",
       "    </tr>\n",
       "    <tr>\n",
       "      <th>1</th>\n",
       "      <td>france</td>\n",
       "      <td>Paris</td>\n",
       "      <td>111908046</td>\n",
       "    </tr>\n",
       "    <tr>\n",
       "      <th>2</th>\n",
       "      <td>england</td>\n",
       "      <td>landon</td>\n",
       "      <td>204565789</td>\n",
       "    </tr>\n",
       "  </tbody>\n",
       "</table>\n",
       "</div>"
      ],
      "text/plain": [
       "   Country    Capital  Population\n",
       "0    india  New dehli   134212015\n",
       "1   france      Paris   111908046\n",
       "2  england     landon   204565789"
      ]
     },
     "metadata": {},
     "output_type": "display_data"
    },
    {
     "data": {
      "text/html": [
       "<div>\n",
       "<style>\n",
       "    .dataframe thead tr:only-child th {\n",
       "        text-align: right;\n",
       "    }\n",
       "\n",
       "    .dataframe thead th {\n",
       "        text-align: left;\n",
       "    }\n",
       "\n",
       "    .dataframe tbody tr th {\n",
       "        vertical-align: top;\n",
       "    }\n",
       "</style>\n",
       "<table border=\"1\" class=\"dataframe\">\n",
       "  <thead>\n",
       "    <tr style=\"text-align: right;\">\n",
       "      <th></th>\n",
       "      <th>Capital</th>\n",
       "      <th>Population</th>\n",
       "    </tr>\n",
       "  </thead>\n",
       "  <tbody>\n",
       "    <tr>\n",
       "      <th>0</th>\n",
       "      <td>New dehli</td>\n",
       "      <td>134212015</td>\n",
       "    </tr>\n",
       "    <tr>\n",
       "      <th>1</th>\n",
       "      <td>Paris</td>\n",
       "      <td>111908046</td>\n",
       "    </tr>\n",
       "    <tr>\n",
       "      <th>2</th>\n",
       "      <td>landon</td>\n",
       "      <td>204565789</td>\n",
       "    </tr>\n",
       "  </tbody>\n",
       "</table>\n",
       "</div>"
      ],
      "text/plain": [
       "     Capital  Population\n",
       "0  New dehli   134212015\n",
       "1      Paris   111908046\n",
       "2     landon   204565789"
      ]
     },
     "execution_count": 6,
     "metadata": {},
     "output_type": "execute_result"
    }
   ],
   "source": [
    "# Droping\n",
    "display(s)                                       # display s\n",
    "s1 = s.drop(['a','c'])                           # drop values from rows (axis = 0) default\n",
    "print(s1,' = s1(dropped values)')                # display dropped values\n",
    "\n",
    "display(df)                                      # display df\n",
    "df.drop('Country',axis=1)                        # drop values from coloumns (axis = 1) "
   ]
  },
  {
   "cell_type": "code",
   "execution_count": 7,
   "metadata": {},
   "outputs": [
    {
     "data": {
      "text/html": [
       "<div>\n",
       "<style>\n",
       "    .dataframe thead tr:only-child th {\n",
       "        text-align: right;\n",
       "    }\n",
       "\n",
       "    .dataframe thead th {\n",
       "        text-align: left;\n",
       "    }\n",
       "\n",
       "    .dataframe tbody tr th {\n",
       "        vertical-align: top;\n",
       "    }\n",
       "</style>\n",
       "<table border=\"1\" class=\"dataframe\">\n",
       "  <thead>\n",
       "    <tr style=\"text-align: right;\">\n",
       "      <th></th>\n",
       "      <th>Country</th>\n",
       "      <th>Capital</th>\n",
       "      <th>Population</th>\n",
       "    </tr>\n",
       "  </thead>\n",
       "  <tbody>\n",
       "    <tr>\n",
       "      <th>0</th>\n",
       "      <td>india</td>\n",
       "      <td>New dehli</td>\n",
       "      <td>134212015</td>\n",
       "    </tr>\n",
       "    <tr>\n",
       "      <th>1</th>\n",
       "      <td>france</td>\n",
       "      <td>Paris</td>\n",
       "      <td>111908046</td>\n",
       "    </tr>\n",
       "    <tr>\n",
       "      <th>2</th>\n",
       "      <td>england</td>\n",
       "      <td>landon</td>\n",
       "      <td>204565789</td>\n",
       "    </tr>\n",
       "  </tbody>\n",
       "</table>\n",
       "</div>"
      ],
      "text/plain": [
       "   Country    Capital  Population\n",
       "0    india  New dehli   134212015\n",
       "1   france      Paris   111908046\n",
       "2  england     landon   204565789"
      ]
     },
     "metadata": {},
     "output_type": "display_data"
    },
    {
     "name": "stdout",
     "output_type": "stream",
     "text": [
      "   Country    Capital  Population\n",
      "0    india  New dehli   134212015\n",
      "1   france      Paris   111908046\n",
      "2  england     landon   204565789  = sorted by labels\n",
      "\n",
      "   Country    Capital  Population\n",
      "2  england     landon   204565789\n",
      "1   france      Paris   111908046\n",
      "0    india  New dehli   134212015  = sorted by counrty\n",
      "\n",
      "   Country  Capital  Population\n",
      "0      3.0      1.0         2.0\n",
      "1      2.0      2.0         1.0\n",
      "2      1.0      3.0         3.0  = ranks\n",
      "\n"
     ]
    }
   ],
   "source": [
    "# sorting and ranking\n",
    "display(df)                                                            # display df\n",
    "print(df.sort_index(),' = sorted by labels\\n')                         # sort by labels along an axis\n",
    "print(df.sort_values(by='Country'),' = sorted by counrty\\n')           # sort by values along an axis\n",
    "print(df.rank(),' = ranks\\n')                                          # assign ranks to entries"
   ]
  },
  {
   "cell_type": "code",
   "execution_count": 8,
   "metadata": {},
   "outputs": [
    {
     "data": {
      "text/html": [
       "<div>\n",
       "<style>\n",
       "    .dataframe thead tr:only-child th {\n",
       "        text-align: right;\n",
       "    }\n",
       "\n",
       "    .dataframe thead th {\n",
       "        text-align: left;\n",
       "    }\n",
       "\n",
       "    .dataframe tbody tr th {\n",
       "        vertical-align: top;\n",
       "    }\n",
       "</style>\n",
       "<table border=\"1\" class=\"dataframe\">\n",
       "  <thead>\n",
       "    <tr style=\"text-align: right;\">\n",
       "      <th></th>\n",
       "      <th>Country</th>\n",
       "      <th>Capital</th>\n",
       "      <th>Population</th>\n",
       "    </tr>\n",
       "  </thead>\n",
       "  <tbody>\n",
       "    <tr>\n",
       "      <th>0</th>\n",
       "      <td>india</td>\n",
       "      <td>New dehli</td>\n",
       "      <td>134212015</td>\n",
       "    </tr>\n",
       "    <tr>\n",
       "      <th>1</th>\n",
       "      <td>france</td>\n",
       "      <td>Paris</td>\n",
       "      <td>111908046</td>\n",
       "    </tr>\n",
       "    <tr>\n",
       "      <th>2</th>\n",
       "      <td>england</td>\n",
       "      <td>landon</td>\n",
       "      <td>204565789</td>\n",
       "    </tr>\n",
       "  </tbody>\n",
       "</table>\n",
       "</div>"
      ],
      "text/plain": [
       "   Country    Capital  Population\n",
       "0    india  New dehli   134212015\n",
       "1   france      Paris   111908046\n",
       "2  england     landon   204565789"
      ]
     },
     "metadata": {},
     "output_type": "display_data"
    },
    {
     "name": "stdout",
     "output_type": "stream",
     "text": [
      "(3, 3)  = shape of df\n",
      "\n",
      "RangeIndex(start=0, stop=3, step=1)  = index\n",
      "\n",
      "Index(['Country', 'Capital', 'Population'], dtype='object')  = coloumns\n",
      "\n",
      "<class 'pandas.core.frame.DataFrame'>\n",
      "RangeIndex: 3 entries, 0 to 2\n",
      "Data columns (total 3 columns):\n",
      "Country       3 non-null object\n",
      "Capital       3 non-null object\n",
      "Population    3 non-null int64\n",
      "dtypes: int64(1), object(2)\n",
      "memory usage: 152.0+ bytes\n",
      "None  = info\n",
      "\n",
      "Country       3\n",
      "Capital       3\n",
      "Population    3\n",
      "dtype: int64  = count\n",
      "\n",
      "Country         indiafranceengland\n",
      "Capital       New dehliParislandon\n",
      "Population               450685850\n",
      "dtype: object  = sum\n",
      "\n",
      "              Country               Capital Population\n",
      "0               india             New dehli  134212015\n",
      "1         indiafrance        New dehliParis  246120061\n",
      "2  indiafranceengland  New dehliParislandon  450685850  = cummulative sum\n",
      "\n",
      "Country         england\n",
      "Capital       New dehli\n",
      "Population    111908046\n",
      "dtype: object  = min value\n",
      "\n",
      "Country           india\n",
      "Capital          landon\n",
      "Population    204565789\n",
      "dtype: object  = max value\n",
      "\n",
      "         Population\n",
      "count  3.000000e+00\n",
      "mean   1.502286e+08\n",
      "std    4.836076e+07\n",
      "min    1.119080e+08\n",
      "25%    1.230600e+08\n",
      "50%    1.342120e+08\n",
      "75%    1.693889e+08\n",
      "max    2.045658e+08  = description of df\n",
      "\n",
      "Population    1.502286e+08\n",
      "dtype: float64  = mean\n",
      "\n",
      "Population    134212015.0\n",
      "dtype: float64  = median\n",
      "\n"
     ]
    }
   ],
   "source": [
    "# Data frame and Series information\n",
    "\n",
    "# basic information\n",
    "display(df)                                               # display df \n",
    "print(df.shape,' = shape of df\\n')                        # display shape of df (rows,coloumns) \n",
    "print(df.index,' = index\\n')                              # describe index\n",
    "print(df.columns,' = coloumns\\n')                         # describe dataframe coloumns\n",
    "print(df.info(),' = info\\n')                              # returns info on df\n",
    "print(df.count(),' = count\\n')                            # returns number of non-NA values\n",
    "\n",
    "# Summary\n",
    "print(df.sum(),' = sum\\n')                                # returns sum of values\n",
    "print(df.cumsum(),' = cummulative sum\\n')                 # returns cummulative sum of df\n",
    "print(df.min(),' = min value\\n')                          # returns the minimum value of df\n",
    "print(df.max(),' = max value\\n')                          # returns max value\n",
    "print(df.describe(),' = description of df\\n')             # returns summary statistics\n",
    "print(df.mean(),' = mean\\n')                              # returns the mean of df\n",
    "print(df.median(),' = median\\n')                          # returns median of values in df"
   ]
  },
  {
   "cell_type": "code",
   "execution_count": 12,
   "metadata": {},
   "outputs": [
    {
     "data": {
      "text/html": [
       "<div>\n",
       "<style>\n",
       "    .dataframe thead tr:only-child th {\n",
       "        text-align: right;\n",
       "    }\n",
       "\n",
       "    .dataframe thead th {\n",
       "        text-align: left;\n",
       "    }\n",
       "\n",
       "    .dataframe tbody tr th {\n",
       "        vertical-align: top;\n",
       "    }\n",
       "</style>\n",
       "<table border=\"1\" class=\"dataframe\">\n",
       "  <thead>\n",
       "    <tr style=\"text-align: right;\">\n",
       "      <th></th>\n",
       "      <th>Country</th>\n",
       "      <th>Capital</th>\n",
       "      <th>Population</th>\n",
       "    </tr>\n",
       "  </thead>\n",
       "  <tbody>\n",
       "    <tr>\n",
       "      <th>0</th>\n",
       "      <td>india</td>\n",
       "      <td>New dehli</td>\n",
       "      <td>134212015</td>\n",
       "    </tr>\n",
       "    <tr>\n",
       "      <th>1</th>\n",
       "      <td>france</td>\n",
       "      <td>Paris</td>\n",
       "      <td>111908046</td>\n",
       "    </tr>\n",
       "    <tr>\n",
       "      <th>2</th>\n",
       "      <td>england</td>\n",
       "      <td>landon</td>\n",
       "      <td>204565789</td>\n",
       "    </tr>\n",
       "  </tbody>\n",
       "</table>\n",
       "</div>"
      ],
      "text/plain": [
       "   Country    Capital  Population\n",
       "0    india  New dehli   134212015\n",
       "1   france      Paris   111908046\n",
       "2  england     landon   204565789"
      ]
     },
     "metadata": {},
     "output_type": "display_data"
    },
    {
     "name": "stdout",
     "output_type": "stream",
     "text": [
      "          Country             Capital  Population\n",
      "0      indiaindia  New dehliNew dehli   268424030\n",
      "1    francefrance          ParisParis   223816092\n",
      "2  englandengland        landonlandon   409131578  = applied function f\n",
      "\n",
      "          Country             Capital  Population\n",
      "0      indiaindia  New dehliNew dehli   268424030\n",
      "1    francefrance          ParisParis   223816092\n",
      "2  englandengland        landonlandon   409131578  = apply map\n",
      "\n"
     ]
    }
   ],
   "source": [
    "# applying functions\n",
    "\n",
    "display(df)                                       # display dataframe df\n",
    "f = lambda x: x*2                                 # define function\n",
    "print(df.apply(f),' = applied function f\\n')      # apply the function f\n",
    "print(df.applymap(f),' = apply map\\n')            # apply function f element wise"
   ]
  },
  {
   "cell_type": "code",
   "execution_count": null,
   "metadata": {
    "collapsed": true
   },
   "outputs": [],
   "source": []
  }
 ],
 "metadata": {
  "kernelspec": {
   "display_name": "Python 3",
   "language": "python",
   "name": "python3"
  },
  "language_info": {
   "codemirror_mode": {
    "name": "ipython",
    "version": 3
   },
   "file_extension": ".py",
   "mimetype": "text/x-python",
   "name": "python",
   "nbconvert_exporter": "python",
   "pygments_lexer": "ipython3",
   "version": "3.5.3"
  }
 },
 "nbformat": 4,
 "nbformat_minor": 2
}
