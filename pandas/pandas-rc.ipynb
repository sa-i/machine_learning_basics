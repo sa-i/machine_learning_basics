{
 "cells": [
  {
   "cell_type": "code",
   "execution_count": 1,
   "metadata": {
    "collapsed": true
   },
   "outputs": [],
   "source": [
    "import pandas as pd               \n",
    "import IPython           # for displaying the data structures"
   ]
  },
  {
   "cell_type": "code",
   "execution_count": 2,
   "metadata": {},
   "outputs": [
    {
     "data": {
      "text/plain": [
       "a    5\n",
       "b    7\n",
       "c    8\n",
       "d    2\n",
       "e    3\n",
       "dtype: int64"
      ]
     },
     "metadata": {},
     "output_type": "display_data"
    }
   ],
   "source": [
    "# Series\n",
    "\n",
    "s = pd.Series([5,7,8,2,3],index=['a','b','c','d','e'])         # 1D labelled array capable of holding any data types\n",
    "display(s)"
   ]
  },
  {
   "cell_type": "code",
   "execution_count": 3,
   "metadata": {},
   "outputs": [
    {
     "data": {
      "text/html": [
       "<div>\n",
       "<style>\n",
       "    .dataframe thead tr:only-child th {\n",
       "        text-align: right;\n",
       "    }\n",
       "\n",
       "    .dataframe thead th {\n",
       "        text-align: left;\n",
       "    }\n",
       "\n",
       "    .dataframe tbody tr th {\n",
       "        vertical-align: top;\n",
       "    }\n",
       "</style>\n",
       "<table border=\"1\" class=\"dataframe\">\n",
       "  <thead>\n",
       "    <tr style=\"text-align: right;\">\n",
       "      <th></th>\n",
       "      <th>Country</th>\n",
       "      <th>Capital</th>\n",
       "      <th>Population</th>\n",
       "    </tr>\n",
       "  </thead>\n",
       "  <tbody>\n",
       "    <tr>\n",
       "      <th>0</th>\n",
       "      <td>india</td>\n",
       "      <td>New dehli</td>\n",
       "      <td>134212015</td>\n",
       "    </tr>\n",
       "    <tr>\n",
       "      <th>1</th>\n",
       "      <td>france</td>\n",
       "      <td>Paris</td>\n",
       "      <td>111908046</td>\n",
       "    </tr>\n",
       "    <tr>\n",
       "      <th>2</th>\n",
       "      <td>england</td>\n",
       "      <td>landon</td>\n",
       "      <td>204565789</td>\n",
       "    </tr>\n",
       "  </tbody>\n",
       "</table>\n",
       "</div>"
      ],
      "text/plain": [
       "   Country    Capital  Population\n",
       "0    india  New dehli   134212015\n",
       "1   france      Paris   111908046\n",
       "2  england     landon   204565789"
      ]
     },
     "metadata": {},
     "output_type": "display_data"
    }
   ],
   "source": [
    "# Dataframe\n",
    "data = {'Country' : ['india','france','england'],\n",
    "       'Capital' : ['New dehli','Paris','landon'],\n",
    "       'Population' : [134212015,111908046,204565789]}\n",
    "df = pd.DataFrame(data,columns=['Country','Capital','Population'])\n",
    "display(df)"
   ]
  },
  {
   "cell_type": "code",
   "execution_count": 7,
   "metadata": {},
   "outputs": [
    {
     "data": {
      "text/html": [
       "<div>\n",
       "<style>\n",
       "    .dataframe thead tr:only-child th {\n",
       "        text-align: right;\n",
       "    }\n",
       "\n",
       "    .dataframe thead th {\n",
       "        text-align: left;\n",
       "    }\n",
       "\n",
       "    .dataframe tbody tr th {\n",
       "        vertical-align: top;\n",
       "    }\n",
       "</style>\n",
       "<table border=\"1\" class=\"dataframe\">\n",
       "  <thead>\n",
       "    <tr style=\"text-align: right;\">\n",
       "      <th></th>\n",
       "      <th>Country</th>\n",
       "      <th>Capital</th>\n",
       "      <th>Population</th>\n",
       "    </tr>\n",
       "  </thead>\n",
       "  <tbody>\n",
       "    <tr>\n",
       "      <th>0</th>\n",
       "      <td>india</td>\n",
       "      <td>New dehli</td>\n",
       "      <td>134212015</td>\n",
       "    </tr>\n",
       "    <tr>\n",
       "      <th>1</th>\n",
       "      <td>france</td>\n",
       "      <td>Paris</td>\n",
       "      <td>111908046</td>\n",
       "    </tr>\n",
       "    <tr>\n",
       "      <th>2</th>\n",
       "      <td>england</td>\n",
       "      <td>landon</td>\n",
       "      <td>204565789</td>\n",
       "    </tr>\n",
       "  </tbody>\n",
       "</table>\n",
       "</div>"
      ],
      "text/plain": [
       "   Country    Capital  Population\n",
       "0    india  New dehli   134212015\n",
       "1   france      Paris   111908046\n",
       "2  england     landon   204565789"
      ]
     },
     "metadata": {},
     "output_type": "display_data"
    },
    {
     "data": {
      "text/html": [
       "<div>\n",
       "<style>\n",
       "    .dataframe thead tr:only-child th {\n",
       "        text-align: right;\n",
       "    }\n",
       "\n",
       "    .dataframe thead th {\n",
       "        text-align: left;\n",
       "    }\n",
       "\n",
       "    .dataframe tbody tr th {\n",
       "        vertical-align: top;\n",
       "    }\n",
       "</style>\n",
       "<table border=\"1\" class=\"dataframe\">\n",
       "  <thead>\n",
       "    <tr style=\"text-align: right;\">\n",
       "      <th></th>\n",
       "      <th>Country</th>\n",
       "      <th>Capital</th>\n",
       "      <th>Population</th>\n",
       "    </tr>\n",
       "  </thead>\n",
       "  <tbody>\n",
       "    <tr>\n",
       "      <th>0</th>\n",
       "      <td>india</td>\n",
       "      <td>New dehli</td>\n",
       "      <td>134212015</td>\n",
       "    </tr>\n",
       "    <tr>\n",
       "      <th>1</th>\n",
       "      <td>france</td>\n",
       "      <td>Paris</td>\n",
       "      <td>111908046</td>\n",
       "    </tr>\n",
       "    <tr>\n",
       "      <th>2</th>\n",
       "      <td>england</td>\n",
       "      <td>landon</td>\n",
       "      <td>204565789</td>\n",
       "    </tr>\n",
       "  </tbody>\n",
       "</table>\n",
       "</div>"
      ],
      "text/plain": [
       "   Country    Capital  Population\n",
       "0    india  New dehli   134212015\n",
       "1   france      Paris   111908046\n",
       "2  england     landon   204565789"
      ]
     },
     "metadata": {},
     "output_type": "display_data"
    }
   ],
   "source": [
    "# input and ouput\n",
    "\n",
    "# read and write csv\n",
    "df.to_csv('country.csv',index=None)             # Creates a csv file with values of df and no index\n",
    "df1 = pd.read_csv('country.csv')                # reads values from country.csv and saves it to df1\n",
    "display(df1)                                    # display df1 \n",
    "\n",
    "# read and write from excel\n",
    "df.to_excel('country.xlsx',sheet_name='country')            # writes values of df to counrty.xlsx\n",
    "df2 = pd.read_excel('country.xlsx',sheetname='country')     # reads values from country.xlsx and saves it to df2\n",
    "display(df2)                                                # display df2 "
   ]
  },
  {
   "cell_type": "code",
   "execution_count": 24,
   "metadata": {},
   "outputs": [
    {
     "data": {
      "text/plain": [
       "a    10\n",
       "b     7\n",
       "c     8\n",
       "d     2\n",
       "e     3\n",
       "dtype: int64"
      ]
     },
     "metadata": {},
     "output_type": "display_data"
    },
    {
     "name": "stdout",
     "output_type": "stream",
     "text": [
      "7  = value of b\n",
      "\n"
     ]
    },
    {
     "data": {
      "text/html": [
       "<div>\n",
       "<style>\n",
       "    .dataframe thead tr:only-child th {\n",
       "        text-align: right;\n",
       "    }\n",
       "\n",
       "    .dataframe thead th {\n",
       "        text-align: left;\n",
       "    }\n",
       "\n",
       "    .dataframe tbody tr th {\n",
       "        vertical-align: top;\n",
       "    }\n",
       "</style>\n",
       "<table border=\"1\" class=\"dataframe\">\n",
       "  <thead>\n",
       "    <tr style=\"text-align: right;\">\n",
       "      <th></th>\n",
       "      <th>Country</th>\n",
       "      <th>Capital</th>\n",
       "      <th>Population</th>\n",
       "    </tr>\n",
       "  </thead>\n",
       "  <tbody>\n",
       "    <tr>\n",
       "      <th>0</th>\n",
       "      <td>india</td>\n",
       "      <td>New dehli</td>\n",
       "      <td>134212015</td>\n",
       "    </tr>\n",
       "    <tr>\n",
       "      <th>1</th>\n",
       "      <td>france</td>\n",
       "      <td>Paris</td>\n",
       "      <td>111908046</td>\n",
       "    </tr>\n",
       "    <tr>\n",
       "      <th>2</th>\n",
       "      <td>england</td>\n",
       "      <td>landon</td>\n",
       "      <td>204565789</td>\n",
       "    </tr>\n",
       "  </tbody>\n",
       "</table>\n",
       "</div>"
      ],
      "text/plain": [
       "   Country    Capital  Population\n",
       "0    india  New dehli   134212015\n",
       "1   france      Paris   111908046\n",
       "2  england     landon   204565789"
      ]
     },
     "metadata": {},
     "output_type": "display_data"
    },
    {
     "name": "stdout",
     "output_type": "stream",
     "text": [
      "   Country Capital  Population\n",
      "1   france   Paris   111908046\n",
      "2  england  landon   204565789  = subset of df\n",
      "\n",
      "india  = element at 0th row and 0th coloumn\n",
      "\n",
      "england  = element at 2nd row and 0th coloumn\n",
      "\n",
      "india  = element at 0th row and under the coloumn of country\n",
      "\n",
      "france  = element at 1st row and under the coloumn of country\n",
      "\n",
      "Country         england\n",
      "Capital          landon\n",
      "Population    204565789\n",
      "Name: 2, dtype: object  = select row 2\n",
      "\n",
      "0    New dehli\n",
      "1        Paris\n",
      "2       landon\n",
      "Name: Capital, dtype: object  = select capital coloumn\n",
      "\n",
      "Paris  = select 1 st row element in capital\n",
      "\n",
      "   Country    Capital  Population\n",
      "0    india  New dehli   134212015\n",
      "1   france      Paris   111908046\n",
      "2  england     landon   204565789  = population > 120000000\n",
      "\n",
      "a    10\n",
      "b     7\n",
      "c     8\n",
      "d     2\n",
      "e     3\n",
      "dtype: int64 \n",
      "\n",
      "d    2\n",
      "e    3\n",
      "dtype: int64  = elements graeter than 3\n",
      "\n",
      "a    10\n",
      "b     7\n",
      "c     8\n",
      "dtype: int64 = <1 or >4\n",
      "\n"
     ]
    },
    {
     "data": {
      "text/plain": [
       "a    10\n",
       "b     7\n",
       "c     8\n",
       "d     2\n",
       "e     3\n",
       "dtype: int64"
      ]
     },
     "metadata": {},
     "output_type": "display_data"
    }
   ],
   "source": [
    "# selection\n",
    "\n",
    "# getting elements\n",
    "display(s)                                        # display array \n",
    "print(s['b'],' = value of b\\n')                   # get one element\n",
    "\n",
    "display(df)                                       # display dataframe\n",
    "print(df[1:],' = subset of df\\n')                 # get subset of dataframe\n",
    "\n",
    "# by position\n",
    "print(df.iloc[0,0],' = element at 0th row and 0th coloumn\\n')                          # select single value by row and coloumn\n",
    "print(df.iat[2,0],' = element at 2nd row and 0th coloumn\\n')                           # select element at sepcifiedlocation\n",
    "\n",
    "# by label\n",
    "print(df.loc[0,'Country'],' = element at 0th row and under the coloumn of country\\n')  # select single value by row and coloumn labels\n",
    "print(df.at[1,'Country'],' = element at 1st row and under the coloumn of country\\n')   # select single value by row and coloumn labels\n",
    "\n",
    "# by label \n",
    "print(df.ix[2],' = select row 2\\n')                                                    # select single row of subset of rows\n",
    "print(df.ix[:,'Capital'],' = select capital coloumn\\n')                                # select single coloumn of subset of coloumn \n",
    "print(df.ix[1,'Capital'],' = select 1 st row element in capital\\n')                    # select rpw and coloumn\n",
    "\n",
    "# boolean indexing \n",
    "print(df[df['Population']>12000000],' = population > 120000000\\n')                     # filter to adjust dataframe\n",
    "print(s,'\\n')                                                                          # display s\n",
    "print(s[~(s>3)],' = elements graeter than 3\\n')                                        # series where value is not > 3    \n",
    "print(s[(s < 1) | (s > 4)],'= <1 or >4\\n')                                             # s value where s is < 1 or > 4 \n",
    "\n",
    "# setting\n",
    "s['a'] = 10                                                                            # set index value a to 10 \n",
    "display(s)"
   ]
  },
  {
   "cell_type": "code",
   "execution_count": null,
   "metadata": {
    "collapsed": true
   },
   "outputs": [],
   "source": []
  }
 ],
 "metadata": {
  "kernelspec": {
   "display_name": "Python 3",
   "language": "python",
   "name": "python3"
  },
  "language_info": {
   "codemirror_mode": {
    "name": "ipython",
    "version": 3
   },
   "file_extension": ".py",
   "mimetype": "text/x-python",
   "name": "python",
   "nbconvert_exporter": "python",
   "pygments_lexer": "ipython3",
   "version": "3.5.3"
  }
 },
 "nbformat": 4,
 "nbformat_minor": 2
}
