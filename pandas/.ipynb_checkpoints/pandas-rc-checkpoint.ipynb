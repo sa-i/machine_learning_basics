{
 "cells": [
  {
   "cell_type": "code",
   "execution_count": null,
   "metadata": {
    "collapsed": true
   },
   "outputs": [],
   "source": [
    "import pandas as pd                                                      # for data manipuliation         \n",
    "import IPython                                                           # for displaying the data structures\n",
    "import numpy as np                                                       # for array manipulation\n",
    "import matplotlib.pyplot as plt                                          # for data visulization"
   ]
  },
  {
   "cell_type": "code",
   "execution_count": null,
   "metadata": {},
   "outputs": [],
   "source": [
    "# series and dataframe #1\n",
    "# Series \n",
    "\n",
    "s = pd.Series([5,7,8,2,3],index=['a','b','c','d','e'])                   # 1D labelled array capable of holding any data types\n",
    "display(s)"
   ]
  },
  {
   "cell_type": "code",
   "execution_count": null,
   "metadata": {},
   "outputs": [],
   "source": [
    "# Dataframe\n",
    "data = {'Country' : ['india','france','england'],\n",
    "       'Capital' : ['New dehli','Paris','landon'],\n",
    "       'Population' : [134212015,111908046,204565789]}\n",
    "df = pd.DataFrame(data,columns=['Country','Capital','Population'])\n",
    "display(df)"
   ]
  },
  {
   "cell_type": "code",
   "execution_count": null,
   "metadata": {},
   "outputs": [],
   "source": [
    "# input and ouput\n",
    "\n",
    "# read and write csv\n",
    "df.to_csv('country.csv',index=None)                                     # Creates a csv file with values of df and no index\n",
    "df1 = pd.read_csv('country.csv')                                        # reads values from country.csv and saves it to df1\n",
    "display(df1)                                                            # display df1 \n",
    "\n",
    "# read and write from excel\n",
    "df.to_excel('country.xlsx',sheet_name='country')                        # writes values of df to counrty.xlsx\n",
    "df2 = pd.read_excel('country.xlsx',sheetname='country')                 # reads values from country.xlsx and saves it to df2\n",
    "display(df2)                                                            # display df2 "
   ]
  },
  {
   "cell_type": "code",
   "execution_count": null,
   "metadata": {},
   "outputs": [],
   "source": [
    "# selection #2\n",
    "\n",
    "# getting elements\n",
    "display(s)                                                              # display array \n",
    "print(s['b'],' = value of b\\n')                                         # get one element\n",
    "\n",
    "display(df)                                                             # display dataframe\n",
    "print(df[1:],' = subset of df\\n')                                       # get subset of dataframe\n",
    "\n",
    "# by position\n",
    "print(df.iloc[0,0],' = element at 0th row and 0th coloumn\\n')                          # select single value by row and coloumn\n",
    "print(df.iat[2,0],' = element at 2nd row and 0th coloumn\\n')                           # select element at sepcifiedlocation\n",
    "\n",
    "# by label\n",
    "print(df.loc[0,'Country'],' = element at 0th row and under the coloumn of country\\n')  # select single value by row and coloumn labels\n",
    "print(df.at[1,'Country'],' = element at 1st row and under the coloumn of country\\n')   # select single value by row and coloumn labels\n",
    "\n",
    "# by label \n",
    "print(df.ix[2],' = select row 2\\n')                                                    # select single row of subset of rows\n",
    "print(df.ix[:,'Capital'],' = select capital coloumn\\n')                                # select single coloumn of subset of coloumn \n",
    "print(df.ix[1,'Capital'],' = select 1 st row element in capital\\n')                    # select rpw and coloumn\n",
    "\n",
    "# boolean indexing \n",
    "print(df[df['Population']>12000000],' = population > 120000000\\n')                     # filter to adjust dataframe\n",
    "print(s,'\\n')                                                                          # display s\n",
    "print(s[~(s>3)],' = elements graeter than 3\\n')                                        # series where value is not > 3    \n",
    "print(s[(s < 1) | (s > 4)],'= <1 or >4\\n')                                             # s value where s is < 1 or > 4 \n",
    "\n",
    "# setting\n",
    "s['a'] = 10                                                                            # set index value a to 10 \n",
    "display(s)"
   ]
  },
  {
   "cell_type": "code",
   "execution_count": null,
   "metadata": {},
   "outputs": [],
   "source": [
    "# Droping #3\n",
    "display(s)                                                          # display s\n",
    "s1 = s.drop(['a','c'])                                              # drop values from rows (axis = 0) default\n",
    "print(s1,' = s1(dropped values)')                                   # display dropped values\n",
    "\n",
    "display(df)                                                         # display df\n",
    "df.drop('Country',axis=1)                                           # drop values from coloumns (axis = 1) "
   ]
  },
  {
   "cell_type": "code",
   "execution_count": null,
   "metadata": {},
   "outputs": [],
   "source": [
    "# sorting and ranking #4\n",
    "display(df)                                                         # display df\n",
    "print(df.sort_index(),' = sorted by labels\\n')                      # sort by labels along an axis\n",
    "print(df.sort_values(by='Country'),' = sorted by counrty\\n')        # sort by values along an axis\n",
    "print(df.rank(),' = ranks\\n')                                       # assign ranks to entries"
   ]
  },
  {
   "cell_type": "code",
   "execution_count": null,
   "metadata": {},
   "outputs": [],
   "source": [
    "# Data frame and Series information #5\n",
    "\n",
    "# basic information\n",
    "display(df)                                                         # display df \n",
    "print(df.shape,' = shape of df\\n')                                  # display shape of df (rows,coloumns) \n",
    "print(df.index,' = index\\n')                                        # describe index\n",
    "print(df.columns,' = coloumns\\n')                                   # describe dataframe coloumns\n",
    "print(df.info(),' = info\\n')                                        # returns info on df\n",
    "print(df.count(),' = count\\n')                                      # returns number of non-NA values\n",
    "\n",
    "# Summary\n",
    "print(df.sum(),' = sum\\n')                                          # returns sum of values\n",
    "print(df.cumsum(),' = cummulative sum\\n')                           # returns cummulative sum of df\n",
    "print(df.min(),' = min value\\n')                                    # returns the minimum value of df\n",
    "print(df.max(),' = max value\\n')                                    # returns max value\n",
    "print(df.describe(),' = description of df\\n')                       # returns summary statistics\n",
    "print(df.mean(),' = mean\\n')                                        # returns the mean of df\n",
    "print(df.median(),' = median\\n')                                    # returns median of values in df"
   ]
  },
  {
   "cell_type": "code",
   "execution_count": null,
   "metadata": {},
   "outputs": [],
   "source": [
    "# applying functions #6\n",
    "\n",
    "display(df)                                                         # display dataframe df\n",
    "f = lambda x: x*2                                                   # define function\n",
    "print(df.apply(f),' = applied function f\\n')                        # apply the function f\n",
    "print(df.applymap(f),' = apply map\\n')                              # apply function f element wise"
   ]
  },
  {
   "cell_type": "code",
   "execution_count": null,
   "metadata": {},
   "outputs": [],
   "source": [
    "# Data alignment #7\n",
    "\n",
    "# internal data alignment\n",
    "s2 = pd.Series([3,9,5],index=['a','c','d'])                         # create a new series\n",
    "print(s2,' = s2\\n')                                                 # display s2\n",
    "print(s,' = s\\n')                                                   # display s  \n",
    "s3 = s + s2                                                         # NA values are introduced in the indices that dont overlap \n",
    "print(s3,' = s3(s + s2)\\n')                                         # display s3\n",
    "\n",
    "\n",
    "# arithemetic operations with fill method\n",
    "print(s.add(s3,fill_value=0),' = add\\n')                            # display s3 with values after adding with s, any NaN will be considered as 0\n",
    "print(s.sub(s3,fill_value=2),' = sub\\n')                            # display s3 with values after substracting with s, any NaN will be considered as 0\n",
    "print(s.mul(s3,fill_value=4),' = mul\\n')                            # display s3 with values after multiplying with s, any NaN will be considered as 0\n",
    "print(s.div(s3,fill_value=3),' = div\\n')                            # display s3 with values after dividing with s, any NaN will be considered as 0"
   ]
  },
  {
   "cell_type": "code",
   "execution_count": null,
   "metadata": {},
   "outputs": [],
   "source": [
    "# reshaping data #8\n",
    "\n",
    "data = {'date' : ['2017-03-01','2017-02-01','2017-04-01','2017-01-01','2017-06-01','2017-05-01'],\n",
    "       'type' : ['a','b','a','c','d','b'],\n",
    "       'value' : [11.3,12.6,96.2,14.3,12.5,45.3]}                                   # set new values for dataframe\n",
    "df3 = pd.DataFrame(data,columns=['date','type','value'])                            # create new dataframe\n",
    "print(df3,' = df3\\n')                                                               # display dataframe\n",
    "\n",
    "df4 = df3.pivot(index='date',columns='type',values='value')                         # spread rows into coloumns\n",
    "print(df4,' = df4\\n')                                                               # display the pivoted df  \n",
    " \n",
    "df5 = pd.pivot_table(df3,values='value',index='date',columns='type')                # spread rows into coloumns\n",
    "print(df5,' =df5\\n')                                                                # display df5"
   ]
  },
  {
   "cell_type": "code",
   "execution_count": null,
   "metadata": {},
   "outputs": [],
   "source": [
    "# Stack & unstack #9\n",
    "print(df4,' = df4\\n')                                               # display df4\n",
    "stacked = df4.stack()                                               # pivot a level of coloumn labels\n",
    "print(stacked,' = stacked\\n')                                       # display stacked\n",
    "print(stacked.unstack(),' = unstacked')                             # pivote a level of index labels"
   ]
  },
  {
   "cell_type": "code",
   "execution_count": null,
   "metadata": {},
   "outputs": [],
   "source": [
    "# melt #10\n",
    "\n",
    "display('df3',df3)                                                                             # display df3\n",
    "df6 = pd.melt(df3,id_vars=['date'],value_vars=['type','value'],var_name='observations')        # gather coloumns into rows \n",
    "display('df6',df6)                                                                             # display df6  "
   ]
  },
  {
   "cell_type": "code",
   "execution_count": null,
   "metadata": {},
   "outputs": [],
   "source": [
    "# advanced indexing #11\n",
    "\n",
    "display('df3',df3)                                                   # display df3\n",
    "#selecting\n",
    "print(df3.loc[:,(df3>1).any()],' = values > 1(any)\\n')               # select coloumns with any values > 1\n",
    "print(df3.loc[:,(df3>1).all()],' = values > 1(all)\\n')               # select coloumns with values > 1\n",
    "print(df3.loc[:,df3.isnull().any()],' = NaN values\\n')               # select coloumns with NaN\n",
    "print(df3.loc[:,df3.notnull().all()],' = non-NaN values\\n')          # select coloumns without NaN values\n",
    "\n",
    "# indexing with isin\n",
    "print(df3.filter(items=['a','b']),' = filtered values\\n')            # filter on values\n",
    "display('df',df)                                                     # display df\n",
    "print(df[df.Country.isin(df2.Country)],' = same elements(isin)\\n')   # find same elements\n",
    "print(df.select(lambda x: not x%5),' = select\\n')                    # find specific elements \n",
    "\n",
    "# where\n",
    "display('s',s)                                                       # display S\n",
    "print(s.where(s > 4),' = s > 4(where)\\n')                            # subset the data"
   ]
  },
  {
   "cell_type": "code",
   "execution_count": null,
   "metadata": {},
   "outputs": [],
   "source": [
    "# setting and resetting index #12\n",
    "display('df',df)                                                     # dispaly df    \n",
    "df7 = df.set_index('Capital')                                        # set the index (here set it to Capital)\n",
    "display('df7',df7)                                                   # display df7\n",
    "\n",
    "df8 = df.reset_index()                                               # reset the index\n",
    "display('df8',df8)                                                   # display df8\n",
    "df7 = df7.rename(index=str,columns={'Country':'cntry',\n",
    "                                   'Capital':'cptl',\n",
    "                                   'Population':'ppltn'})            # rename dataframe \n",
    "display('df7',df7)                                                   # display ddf7 "
   ]
  },
  {
   "cell_type": "code",
   "execution_count": null,
   "metadata": {},
   "outputs": [],
   "source": [
    "# reindexing #13\n",
    "display('s',s)                                                       # display s\n",
    "s4 = s.reindex(['c','e','d','a','b'])                                # reindexing s with new values\n",
    "display('s4',s4)"
   ]
  },
  {
   "cell_type": "code",
   "execution_count": null,
   "metadata": {},
   "outputs": [],
   "source": [
    "# multi indexing #14\n",
    "\n",
    "arrays = [np.array([1,2,3]),\n",
    "         np.array([7,6,5])]                                          # create 3x2 array\n",
    "df9 = pd.DataFrame(np.random.rand(3,2),index=arrays)                 # create dataframe df9 \n",
    "tuples = list(zip(*arrays))\n",
    "index = pd.MultiIndex.from_tuples(tuples,names=['first','second'])   # create an index \n",
    "df10 = pd.DataFrame(np.random.rand(3,2),index=index)                 # create dataframe with created index\n",
    "display('df10',df10)                                                 # display df10 \n",
    "display('df3',df3)                                                   # display index df3\n",
    "display('df3(index)',df3.set_index(['date','type']))                 # change and display index"
   ]
  },
  {
   "cell_type": "code",
   "execution_count": null,
   "metadata": {
    "scrolled": true
   },
   "outputs": [],
   "source": [
    "# dupicate data #15\n",
    "display('s',s)                                                       # display S\n",
    "print(s.unique(),' = unique values(s)\\n')                            # return unique values\n",
    "display('df3',df3)                                                   # display df3\n",
    "print(df3.duplicated('type'),' = dupicated(df3)\\n')                  # check dupicates in coloumn type in df3\n",
    "df11 = df3.drop_duplicates('type',keep='last')                       # drop dupicates\n",
    "display('df11',df11)                                                 # display df11\n",
    "display('df',df)                                                     # display df\n",
    "print(df.index.duplicated(),' = dupicated(df)\\n')                    # check index duplicates"
   ]
  },
  {
   "cell_type": "code",
   "execution_count": null,
   "metadata": {},
   "outputs": [],
   "source": [
    "# missing data #16\n",
    "\n",
    "display('s3',s3)                                                     # display s3\n",
    "s5 = s3.dropna()                                                     # drop NaN values\n",
    "print(s5,' = dropped values(s5)\\n')                                  # display s5\n",
    "s6 = s3.fillna(s3.mean())                                            # fill NaN(Not a Number) with a predetermined value\n",
    "print(s6,' = filled values(s6)\\n')                                   # display s6\n",
    "s7 = s3.replace('d','a')                                             # replace values with others\n",
    "print(s7,' = replaced values(s7)\\n')                                 # display s7"
   ]
  },
  {
   "cell_type": "code",
   "execution_count": null,
   "metadata": {},
   "outputs": [],
   "source": [
    "# combining data #17\n",
    "X = {'X1' : ['a','b','c'],\n",
    "    'X2' : [12,55,34]}                                        # create a dataset\n",
    "data1 = pd.DataFrame(X,columns=['X1','X2'])                   # create dataframe data1\n",
    "display('data1',data1)                                        # display dataframe data1\n",
    "\n",
    "X2 = {'X1' : ['a','b','d'],\n",
    "     'X3' : [56,12,75]}                                       # create a dataset\n",
    "data2 = pd.DataFrame(X2,columns=['X1','X3'])                  # create a dataframe data2\n",
    "display('\\ndata2',data2)                                      # display dataframe data2\n",
    "\n",
    "display('\\nRight',pd.merge(data1,data2,how='right',on='X1'))  # merge data1 with data2 along X1 on the right\n",
    "display('\\nleft',pd.merge(data1,data2,how='left',on='X1'))    # merge data1 with data2 along X1 on the left\n",
    "display('\\ninner',pd.merge(data1,data2,how='inner',on='X1'))  # merge data1 with data2 along X1 on the inner\n",
    "display('\\nouter',pd.merge(data1,data2,how='outer',on='X1'))  # merge data1 with data2 along X1 on the outer"
   ]
  },
  {
   "cell_type": "code",
   "execution_count": null,
   "metadata": {},
   "outputs": [],
   "source": [
    "# joining #18\n",
    "\n",
    "display('data1',data1)                                        # display data1\n",
    "display('data2',data2)                                        # display data2\n",
    "data3 = data1.join(data2,lsuffix='X1')                        # with X1 as a base join data1 and data2\n",
    "display('data3(join)',data3)                                  # display data3\n",
    "\n",
    "pd.concat([data1,data2],axis=1,join='inner')                  # join data1 and data2 "
   ]
  },
  {
   "cell_type": "code",
   "execution_count": null,
   "metadata": {},
   "outputs": [],
   "source": [
    "# concatenate #19\n",
    "display('s',s)                                                # display s\n",
    "display('\\ns2',s2)                                            # display s2\n",
    "s8 = s.append(s2)                                             # append s2 on s vertically\n",
    "display('\\ns8(appended)',s8)                                  # display s8 appended"
   ]
  },
  {
   "cell_type": "code",
   "execution_count": null,
   "metadata": {},
   "outputs": [],
   "source": [
    "# dates #20\n",
    "display('df3',df3)                                            # display df3\n",
    "df3['date'] = pd.to_datetime(df3['date'])\n",
    "df3['date'] = pd.date_range('2017-01-01',periods=6,freq='M')\n",
    "index = pd.DatetimeIndex((2012,1,2))\n",
    "display(df3)"
   ]
  },
  {
   "cell_type": "code",
   "execution_count": null,
   "metadata": {},
   "outputs": [],
   "source": [
    "# visualization #21\n",
    "\n",
    "display('s',s)                                                # display s\n",
    "s.plot()                                                      # plot s\n",
    "plt.show()                                                    # display graph\n",
    "\n",
    "display('\\ndf3',df3)                                          # display df3\n",
    "df3.plot()                                                    # plot df3\n",
    "plt.show()                                                    # display graph"
   ]
  }
 ],
 "metadata": {
  "kernelspec": {
   "display_name": "Python 3",
   "language": "python",
   "name": "python3"
  },
  "language_info": {
   "codemirror_mode": {
    "name": "ipython",
    "version": 3
   },
   "file_extension": ".py",
   "mimetype": "text/x-python",
   "name": "python",
   "nbconvert_exporter": "python",
   "pygments_lexer": "ipython3",
   "version": "3.6.1"
  }
 },
 "nbformat": 4,
 "nbformat_minor": 2
}
